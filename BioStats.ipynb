{
 "cells": [
  {
   "cell_type": "markdown",
   "metadata": {},
   "source": [
    "# **``BioStatistics``**\n",
    "#### **``Foundation for Data Analysis in Health & Medical Sciences``**"
   ]
  },
  {
   "cell_type": "markdown",
   "metadata": {},
   "source": [
    "## ***````Chapter-1 :: Introduction for Statistics````***"
   ]
  },
  {
   "cell_type": "markdown",
   "metadata": {},
   "source": [
    "##### **``Statistics``** is the field of study concerning:\n",
    "- Collection of data\n",
    "- Organizing the data\n",
    "- Summarizing the data\n",
    "- Analysing the data\n",
    "- And, drawing the conclusions for the population or entire body of data by studying the part of it"
   ]
  },
  {
   "cell_type": "markdown",
   "metadata": {},
   "source": [
    "##### There can be various **``Sources of data``**:\n",
    "- **Routinely kept records**\n",
    "    - ***For example***: In hospital most of the records like patient entires or number of patients treated in a day are the prime examples of electronic records.\n",
    "\n",
    "\n",
    "- **Surveys**\n",
    "    - These helps us in collecting the data other than the routinely kept records for finding the answer of a question. \n",
    "    - ***For example***: An administrator of a clinic wishes to obtain information regarding the mode of transportation used by patients to visit the clinic. If admission forms do not contain a question on mode of transportation, we may conduct a survey among patients to obtain this information.\n",
    "\n",
    "\n",
    "- **Experiments**\n",
    "    - ***For example***: A doctor is trying to find out whether a newly created drug helps in lowering the level of bad choloestrol.\n",
    "\n",
    "\n",
    "- **External Sources**\n",
    "    - ***For example***: Already published reports or someone has already worked on the question or problem that you are trying to solve/answer."
   ]
  },
  {
   "cell_type": "markdown",
   "metadata": {},
   "source": [
    "#### **``BioStatistics``**\n",
    "- When you are dealing with data that is derived from the biological science or medicine science.\n",
    "    - ***For example***: Cornoary Heart Disease data, Dopamine effect data, ASD data and others.\n",
    "\n",
    "\n",
    "#### **``Variable``**\n",
    "- An attribute in the data set that contains the values or characteristics of different people/subjects involved in the population or boday of data.\n",
    "    - ***For example***: Blood Sugar, Heart Rate, Cholestrol level and others.\n",
    "\n",
    "\n",
    "#### **``Random Variable``**\n",
    "- A variable whose value is dependent on various factors and cannot be exactly predicted in advance.\n",
    "    - ***For example***: What will be the height and weight of the newly born child after 20 years. Here, height and weight are the attributes which are dependent on the DNA composition or genetics or other external factors.\n",
    "\n",
    "\n",
    "#### **``Measurement``**\n",
    "- It is the unit or scale in which the data of a variable is expressed or collected. \n",
    "    - ***For example***: Nominal Scale, Ordinal Scale, Interval scale and Units like kilograms, centimeters etc.\n",
    "    \n",
    "    \n",
    "#### **``Statistical Inference``**\n",
    "- It is the process or procedure in which we use the decriptive statistics(analyse the sample) to estimate the value of the population parameter."
   ]
  },
  {
   "cell_type": "markdown",
   "metadata": {},
   "source": [
    "#### **``How to collect the sample``**\n",
    "- **Simple Random Sampling**\n",
    "    - When every record has a equal probability of being picked up from the population.\n",
    "        - There are two ways associated with Simple Random Sampling:\n",
    "            - **Sample with replacement**\n",
    "                - It means a sample record picked from the population, also exits in the popualtion and can be picked-up again from the population to be a part of the sample.\n",
    "            - **Sample without replacement**\n",
    "                - It means a sample record once picked from the population, kept aside so that it cannot be picked again or cannot occur more than once in the sample.\n",
    "- **Systematic Sampling**\n",
    "    - It is the way in which sample observations are picked in certain manner.\n",
    "        - ***For example***: x is the user provided or any random number. k is the gap or interval from the next number.\n",
    "        - x, x+k, x+2k, x+3k, x+4k, x+5k, x+6k, ...... , x+nk\n",
    "- **Stratified Sampling**\n",
    "    - It is the way in which population data has been divided into various categories or classes and observations are randomly picked up from each class.\n",
    "    - These different classes are referred as Stratums. And, from each Stratum you can pick the sample based upon its strength or fixed number of instances from every strata or using systematic sampling in stratums."
   ]
  },
  {
   "cell_type": "markdown",
   "metadata": {},
   "source": [
    "#### **``Scientific method or Design of Experiments``**"
   ]
  },
  {
   "cell_type": "markdown",
   "metadata": {},
   "source": [
    "#### **Making an observation**: \n",
    "- An observation is made of a phenomenon or a group of phenomena.\n",
    "    - For example, it is readily observable that regular exercise reduces body weight in many people. It is also readily observable that changing diet may have a similar effect. In this case there are two observable phenomena, regular exercise and diet change, that have the same endpoint.\n",
    "    \n",
    "\n",
    "#### **Formulating a Hypothesis**:\n",
    "- A statistical hypothesis is like \"The average (mean) loss of body weight of people who exercise is greater than the average (mean) loss of body weight of people who do not exercise.\" In this statement a quantitative measure, the “average” or “mean” value, is hypothesized to be greater in the sample of patients who exercise.\n",
    "\n",
    "\n",
    "#### **Designing an Experiment**:\n",
    "- The third step of the scientific method involves designing an experiment that will yield the data necessary to validly test an appropriate statistical hypothesis. \n",
    "- This step of the scientific method, like that of data analysis, requires the expertise of a statistician. \n",
    "- Improperly designed experiments are the leading cause of invalid results and unjustified conclusions. \n",
    "- Further, most studies that are challenged by experts are challenged on the basis of the appropriateness or inappropriateness of the study’s research design.   "
   ]
  },
  {
   "cell_type": "code",
   "execution_count": 1,
   "metadata": {},
   "outputs": [],
   "source": [
    "import numpy as np\n",
    "import pandas as pd\n",
    "import matplotlib.pyplot as plt\n",
    "import stemgraphic as stem\n",
    "\n",
    "%matplotlib inline"
   ]
  },
  {
   "cell_type": "code",
   "execution_count": 2,
   "metadata": {},
   "outputs": [],
   "source": [
    "patient_id_age = pd.read_csv(\"ch01_all/EXA_C01_S04_01.csv\")"
   ]
  },
  {
   "cell_type": "code",
   "execution_count": 3,
   "metadata": {},
   "outputs": [
    {
     "data": {
      "text/html": [
       "<div>\n",
       "<style scoped>\n",
       "    .dataframe tbody tr th:only-of-type {\n",
       "        vertical-align: middle;\n",
       "    }\n",
       "\n",
       "    .dataframe tbody tr th {\n",
       "        vertical-align: top;\n",
       "    }\n",
       "\n",
       "    .dataframe thead th {\n",
       "        text-align: right;\n",
       "    }\n",
       "</style>\n",
       "<table border=\"1\" class=\"dataframe\">\n",
       "  <thead>\n",
       "    <tr style=\"text-align: right;\">\n",
       "      <th></th>\n",
       "      <th>SUBJ</th>\n",
       "      <th>AGE</th>\n",
       "    </tr>\n",
       "  </thead>\n",
       "  <tbody>\n",
       "    <tr>\n",
       "      <th>count</th>\n",
       "      <td>189.000000</td>\n",
       "      <td>189.000000</td>\n",
       "    </tr>\n",
       "    <tr>\n",
       "      <th>mean</th>\n",
       "      <td>95.000000</td>\n",
       "      <td>55.031746</td>\n",
       "    </tr>\n",
       "    <tr>\n",
       "      <th>std</th>\n",
       "      <td>54.703748</td>\n",
       "      <td>9.914477</td>\n",
       "    </tr>\n",
       "    <tr>\n",
       "      <th>min</th>\n",
       "      <td>1.000000</td>\n",
       "      <td>30.000000</td>\n",
       "    </tr>\n",
       "    <tr>\n",
       "      <th>25%</th>\n",
       "      <td>48.000000</td>\n",
       "      <td>48.000000</td>\n",
       "    </tr>\n",
       "    <tr>\n",
       "      <th>50%</th>\n",
       "      <td>95.000000</td>\n",
       "      <td>54.000000</td>\n",
       "    </tr>\n",
       "    <tr>\n",
       "      <th>75%</th>\n",
       "      <td>142.000000</td>\n",
       "      <td>61.000000</td>\n",
       "    </tr>\n",
       "    <tr>\n",
       "      <th>max</th>\n",
       "      <td>189.000000</td>\n",
       "      <td>82.000000</td>\n",
       "    </tr>\n",
       "  </tbody>\n",
       "</table>\n",
       "</div>"
      ],
      "text/plain": [
       "             SUBJ         AGE\n",
       "count  189.000000  189.000000\n",
       "mean    95.000000   55.031746\n",
       "std     54.703748    9.914477\n",
       "min      1.000000   30.000000\n",
       "25%     48.000000   48.000000\n",
       "50%     95.000000   54.000000\n",
       "75%    142.000000   61.000000\n",
       "max    189.000000   82.000000"
      ]
     },
     "execution_count": 3,
     "metadata": {},
     "output_type": "execute_result"
    }
   ],
   "source": [
    "patient_id_age.describe()"
   ]
  },
  {
   "cell_type": "code",
   "execution_count": 4,
   "metadata": {},
   "outputs": [
    {
     "data": {
      "text/html": [
       "<div>\n",
       "<style scoped>\n",
       "    .dataframe tbody tr th:only-of-type {\n",
       "        vertical-align: middle;\n",
       "    }\n",
       "\n",
       "    .dataframe tbody tr th {\n",
       "        vertical-align: top;\n",
       "    }\n",
       "\n",
       "    .dataframe thead th {\n",
       "        text-align: right;\n",
       "    }\n",
       "</style>\n",
       "<table border=\"1\" class=\"dataframe\">\n",
       "  <thead>\n",
       "    <tr style=\"text-align: right;\">\n",
       "      <th></th>\n",
       "      <th>SUBJ</th>\n",
       "      <th>AGE</th>\n",
       "    </tr>\n",
       "  </thead>\n",
       "  <tbody>\n",
       "    <tr>\n",
       "      <th>0</th>\n",
       "      <td>1</td>\n",
       "      <td>48</td>\n",
       "    </tr>\n",
       "    <tr>\n",
       "      <th>1</th>\n",
       "      <td>2</td>\n",
       "      <td>35</td>\n",
       "    </tr>\n",
       "    <tr>\n",
       "      <th>2</th>\n",
       "      <td>3</td>\n",
       "      <td>46</td>\n",
       "    </tr>\n",
       "    <tr>\n",
       "      <th>3</th>\n",
       "      <td>4</td>\n",
       "      <td>44</td>\n",
       "    </tr>\n",
       "    <tr>\n",
       "      <th>4</th>\n",
       "      <td>5</td>\n",
       "      <td>43</td>\n",
       "    </tr>\n",
       "    <tr>\n",
       "      <th>5</th>\n",
       "      <td>6</td>\n",
       "      <td>42</td>\n",
       "    </tr>\n",
       "    <tr>\n",
       "      <th>6</th>\n",
       "      <td>7</td>\n",
       "      <td>39</td>\n",
       "    </tr>\n",
       "    <tr>\n",
       "      <th>7</th>\n",
       "      <td>8</td>\n",
       "      <td>44</td>\n",
       "    </tr>\n",
       "    <tr>\n",
       "      <th>8</th>\n",
       "      <td>9</td>\n",
       "      <td>49</td>\n",
       "    </tr>\n",
       "    <tr>\n",
       "      <th>9</th>\n",
       "      <td>10</td>\n",
       "      <td>49</td>\n",
       "    </tr>\n",
       "    <tr>\n",
       "      <th>10</th>\n",
       "      <td>11</td>\n",
       "      <td>44</td>\n",
       "    </tr>\n",
       "    <tr>\n",
       "      <th>11</th>\n",
       "      <td>12</td>\n",
       "      <td>39</td>\n",
       "    </tr>\n",
       "    <tr>\n",
       "      <th>12</th>\n",
       "      <td>13</td>\n",
       "      <td>38</td>\n",
       "    </tr>\n",
       "    <tr>\n",
       "      <th>13</th>\n",
       "      <td>14</td>\n",
       "      <td>49</td>\n",
       "    </tr>\n",
       "    <tr>\n",
       "      <th>14</th>\n",
       "      <td>15</td>\n",
       "      <td>49</td>\n",
       "    </tr>\n",
       "  </tbody>\n",
       "</table>\n",
       "</div>"
      ],
      "text/plain": [
       "    SUBJ  AGE\n",
       "0      1   48\n",
       "1      2   35\n",
       "2      3   46\n",
       "3      4   44\n",
       "4      5   43\n",
       "5      6   42\n",
       "6      7   39\n",
       "7      8   44\n",
       "8      9   49\n",
       "9     10   49\n",
       "10    11   44\n",
       "11    12   39\n",
       "12    13   38\n",
       "13    14   49\n",
       "14    15   49"
      ]
     },
     "execution_count": 4,
     "metadata": {},
     "output_type": "execute_result"
    }
   ],
   "source": [
    "patient_id_age.head(15)"
   ]
  },
  {
   "cell_type": "code",
   "execution_count": 5,
   "metadata": {},
   "outputs": [
    {
     "data": {
      "text/plain": [
       "(189, 2)"
      ]
     },
     "execution_count": 5,
     "metadata": {},
     "output_type": "execute_result"
    }
   ],
   "source": [
    "patient_id_age.shape"
   ]
  },
  {
   "cell_type": "markdown",
   "metadata": {},
   "source": [
    "## **``Simple_Random_Sampling``**"
   ]
  },
  {
   "cell_type": "code",
   "execution_count": 6,
   "metadata": {},
   "outputs": [],
   "source": [
    "simple_random_numbers = [val for val in np.random.randint(low=1,high=patient_id_age.shape[0]+1,size=14)]"
   ]
  },
  {
   "cell_type": "code",
   "execution_count": 7,
   "metadata": {},
   "outputs": [
    {
     "data": {
      "text/plain": [
       "[11, 60, 153, 87, 63, 182, 168, 140, 52, 45, 149, 98, 133, 96]"
      ]
     },
     "execution_count": 7,
     "metadata": {},
     "output_type": "execute_result"
    }
   ],
   "source": [
    "simple_random_numbers"
   ]
  },
  {
   "cell_type": "code",
   "execution_count": 8,
   "metadata": {},
   "outputs": [],
   "source": [
    "simple_random_sample = patient_id_age[patient_id_age['SUBJ'].isin(simple_random_numbers)]"
   ]
  },
  {
   "cell_type": "code",
   "execution_count": 9,
   "metadata": {},
   "outputs": [
    {
     "data": {
      "text/html": [
       "<div>\n",
       "<style scoped>\n",
       "    .dataframe tbody tr th:only-of-type {\n",
       "        vertical-align: middle;\n",
       "    }\n",
       "\n",
       "    .dataframe tbody tr th {\n",
       "        vertical-align: top;\n",
       "    }\n",
       "\n",
       "    .dataframe thead th {\n",
       "        text-align: right;\n",
       "    }\n",
       "</style>\n",
       "<table border=\"1\" class=\"dataframe\">\n",
       "  <thead>\n",
       "    <tr style=\"text-align: right;\">\n",
       "      <th></th>\n",
       "      <th>SUBJ</th>\n",
       "      <th>AGE</th>\n",
       "    </tr>\n",
       "  </thead>\n",
       "  <tbody>\n",
       "    <tr>\n",
       "      <th>10</th>\n",
       "      <td>11</td>\n",
       "      <td>44</td>\n",
       "    </tr>\n",
       "    <tr>\n",
       "      <th>44</th>\n",
       "      <td>45</td>\n",
       "      <td>45</td>\n",
       "    </tr>\n",
       "    <tr>\n",
       "      <th>51</th>\n",
       "      <td>52</td>\n",
       "      <td>47</td>\n",
       "    </tr>\n",
       "    <tr>\n",
       "      <th>59</th>\n",
       "      <td>60</td>\n",
       "      <td>53</td>\n",
       "    </tr>\n",
       "    <tr>\n",
       "      <th>62</th>\n",
       "      <td>63</td>\n",
       "      <td>59</td>\n",
       "    </tr>\n",
       "    <tr>\n",
       "      <th>86</th>\n",
       "      <td>87</td>\n",
       "      <td>56</td>\n",
       "    </tr>\n",
       "    <tr>\n",
       "      <th>95</th>\n",
       "      <td>96</td>\n",
       "      <td>54</td>\n",
       "    </tr>\n",
       "    <tr>\n",
       "      <th>97</th>\n",
       "      <td>98</td>\n",
       "      <td>50</td>\n",
       "    </tr>\n",
       "    <tr>\n",
       "      <th>132</th>\n",
       "      <td>133</td>\n",
       "      <td>40</td>\n",
       "    </tr>\n",
       "    <tr>\n",
       "      <th>139</th>\n",
       "      <td>140</td>\n",
       "      <td>46</td>\n",
       "    </tr>\n",
       "    <tr>\n",
       "      <th>148</th>\n",
       "      <td>149</td>\n",
       "      <td>53</td>\n",
       "    </tr>\n",
       "    <tr>\n",
       "      <th>152</th>\n",
       "      <td>153</td>\n",
       "      <td>54</td>\n",
       "    </tr>\n",
       "    <tr>\n",
       "      <th>167</th>\n",
       "      <td>168</td>\n",
       "      <td>53</td>\n",
       "    </tr>\n",
       "    <tr>\n",
       "      <th>181</th>\n",
       "      <td>182</td>\n",
       "      <td>50</td>\n",
       "    </tr>\n",
       "  </tbody>\n",
       "</table>\n",
       "</div>"
      ],
      "text/plain": [
       "     SUBJ  AGE\n",
       "10     11   44\n",
       "44     45   45\n",
       "51     52   47\n",
       "59     60   53\n",
       "62     63   59\n",
       "86     87   56\n",
       "95     96   54\n",
       "97     98   50\n",
       "132   133   40\n",
       "139   140   46\n",
       "148   149   53\n",
       "152   153   54\n",
       "167   168   53\n",
       "181   182   50"
      ]
     },
     "execution_count": 9,
     "metadata": {},
     "output_type": "execute_result"
    }
   ],
   "source": [
    "simple_random_sample"
   ]
  },
  {
   "cell_type": "markdown",
   "metadata": {},
   "source": [
    "## **``Systematic_Random_Sampling``**"
   ]
  },
  {
   "cell_type": "code",
   "execution_count": 10,
   "metadata": {},
   "outputs": [],
   "source": [
    "first_number = np.random.randint(low=1,high=5,size=1,dtype=np.int)"
   ]
  },
  {
   "cell_type": "code",
   "execution_count": 11,
   "metadata": {},
   "outputs": [
    {
     "data": {
      "text/plain": [
       "array([3])"
      ]
     },
     "execution_count": 11,
     "metadata": {},
     "output_type": "execute_result"
    }
   ],
   "source": [
    "first_number"
   ]
  },
  {
   "cell_type": "code",
   "execution_count": 12,
   "metadata": {},
   "outputs": [],
   "source": [
    "sample_size = 20"
   ]
  },
  {
   "cell_type": "code",
   "execution_count": 13,
   "metadata": {},
   "outputs": [],
   "source": [
    "population_size = patient_id_age.shape[0] - first_number[0]"
   ]
  },
  {
   "cell_type": "code",
   "execution_count": 14,
   "metadata": {},
   "outputs": [],
   "source": [
    "interval_number_for_sample = np.round(population_size/sample_size,0)"
   ]
  },
  {
   "cell_type": "code",
   "execution_count": 15,
   "metadata": {},
   "outputs": [
    {
     "data": {
      "text/plain": [
       "9.0"
      ]
     },
     "execution_count": 15,
     "metadata": {},
     "output_type": "execute_result"
    }
   ],
   "source": [
    "interval_number_for_sample"
   ]
  },
  {
   "cell_type": "code",
   "execution_count": 16,
   "metadata": {},
   "outputs": [],
   "source": [
    "def gen_systematic_sampling_numbers(start_num,pop_size,sample_size,interval_num):\n",
    "    \"\"\"\n",
    "    ``Description``: This function is craeted for performing the Systematic Random Sampling by generating Systematic Random Numbers.\n",
    "    \n",
    "    ``Input Parameters``: It accepts below input parameters:\n",
    "        1. start_num : First number (x) from which sample numbers to be started\n",
    "        2. pop_size : Size of the entire data\n",
    "        3. sample_size : Size of systematic sample size\n",
    "        4. interval_num : Represents k in generating the series of numbers like:\n",
    "                        ``x, x+k, x+2k, x+3k, x+4k, ..... x+nk``\n",
    "        \n",
    "    ``Returns``: It returns sys_sampling_nums as the systematic sampling numbers.\n",
    "    \"\"\"\n",
    "    sys_sampling_nums = []\n",
    "    for num in range(start_num[-1], pop_size):\n",
    "        if sys_sampling_nums == []:\n",
    "            sys_sampling_nums.append(num)\n",
    "        elif sys_sampling_nums != [] and sys_sampling_nums[-1] < pop_size and sys_sampling_nums[-1]+interval_num < pop_size:\n",
    "            sys_sampling_nums.append(sys_sampling_nums[-1]+interval_num)\n",
    "    return sys_sampling_nums"
   ]
  },
  {
   "cell_type": "code",
   "execution_count": 17,
   "metadata": {},
   "outputs": [],
   "source": [
    "systematic_sampling_numbers = gen_systematic_sampling_numbers(first_number,population_size,sample_size,interval_number_for_sample)"
   ]
  },
  {
   "cell_type": "code",
   "execution_count": 18,
   "metadata": {},
   "outputs": [
    {
     "data": {
      "text/plain": [
       "[3,\n",
       " 12.0,\n",
       " 21.0,\n",
       " 30.0,\n",
       " 39.0,\n",
       " 48.0,\n",
       " 57.0,\n",
       " 66.0,\n",
       " 75.0,\n",
       " 84.0,\n",
       " 93.0,\n",
       " 102.0,\n",
       " 111.0,\n",
       " 120.0,\n",
       " 129.0,\n",
       " 138.0,\n",
       " 147.0,\n",
       " 156.0,\n",
       " 165.0,\n",
       " 174.0,\n",
       " 183.0]"
      ]
     },
     "execution_count": 18,
     "metadata": {},
     "output_type": "execute_result"
    }
   ],
   "source": [
    "systematic_sampling_numbers"
   ]
  },
  {
   "cell_type": "code",
   "execution_count": 19,
   "metadata": {},
   "outputs": [],
   "source": [
    "systematic_sample = patient_id_age[patient_id_age['SUBJ'].isin(systematic_sampling_numbers)]"
   ]
  },
  {
   "cell_type": "code",
   "execution_count": 20,
   "metadata": {},
   "outputs": [
    {
     "data": {
      "text/html": [
       "<div>\n",
       "<style scoped>\n",
       "    .dataframe tbody tr th:only-of-type {\n",
       "        vertical-align: middle;\n",
       "    }\n",
       "\n",
       "    .dataframe tbody tr th {\n",
       "        vertical-align: top;\n",
       "    }\n",
       "\n",
       "    .dataframe thead th {\n",
       "        text-align: right;\n",
       "    }\n",
       "</style>\n",
       "<table border=\"1\" class=\"dataframe\">\n",
       "  <thead>\n",
       "    <tr style=\"text-align: right;\">\n",
       "      <th></th>\n",
       "      <th>SUBJ</th>\n",
       "      <th>AGE</th>\n",
       "    </tr>\n",
       "  </thead>\n",
       "  <tbody>\n",
       "    <tr>\n",
       "      <th>2</th>\n",
       "      <td>3</td>\n",
       "      <td>46</td>\n",
       "    </tr>\n",
       "    <tr>\n",
       "      <th>11</th>\n",
       "      <td>12</td>\n",
       "      <td>39</td>\n",
       "    </tr>\n",
       "    <tr>\n",
       "      <th>20</th>\n",
       "      <td>21</td>\n",
       "      <td>53</td>\n",
       "    </tr>\n",
       "    <tr>\n",
       "      <th>29</th>\n",
       "      <td>30</td>\n",
       "      <td>46</td>\n",
       "    </tr>\n",
       "    <tr>\n",
       "      <th>38</th>\n",
       "      <td>39</td>\n",
       "      <td>48</td>\n",
       "    </tr>\n",
       "    <tr>\n",
       "      <th>47</th>\n",
       "      <td>48</td>\n",
       "      <td>49</td>\n",
       "    </tr>\n",
       "    <tr>\n",
       "      <th>56</th>\n",
       "      <td>57</td>\n",
       "      <td>56</td>\n",
       "    </tr>\n",
       "    <tr>\n",
       "      <th>65</th>\n",
       "      <td>66</td>\n",
       "      <td>50</td>\n",
       "    </tr>\n",
       "    <tr>\n",
       "      <th>74</th>\n",
       "      <td>75</td>\n",
       "      <td>61</td>\n",
       "    </tr>\n",
       "    <tr>\n",
       "      <th>83</th>\n",
       "      <td>84</td>\n",
       "      <td>57</td>\n",
       "    </tr>\n",
       "    <tr>\n",
       "      <th>92</th>\n",
       "      <td>93</td>\n",
       "      <td>61</td>\n",
       "    </tr>\n",
       "    <tr>\n",
       "      <th>101</th>\n",
       "      <td>102</td>\n",
       "      <td>50</td>\n",
       "    </tr>\n",
       "    <tr>\n",
       "      <th>110</th>\n",
       "      <td>111</td>\n",
       "      <td>82</td>\n",
       "    </tr>\n",
       "    <tr>\n",
       "      <th>119</th>\n",
       "      <td>120</td>\n",
       "      <td>69</td>\n",
       "    </tr>\n",
       "    <tr>\n",
       "      <th>128</th>\n",
       "      <td>129</td>\n",
       "      <td>43</td>\n",
       "    </tr>\n",
       "    <tr>\n",
       "      <th>137</th>\n",
       "      <td>138</td>\n",
       "      <td>46</td>\n",
       "    </tr>\n",
       "    <tr>\n",
       "      <th>146</th>\n",
       "      <td>147</td>\n",
       "      <td>61</td>\n",
       "    </tr>\n",
       "    <tr>\n",
       "      <th>155</th>\n",
       "      <td>156</td>\n",
       "      <td>61</td>\n",
       "    </tr>\n",
       "    <tr>\n",
       "      <th>164</th>\n",
       "      <td>165</td>\n",
       "      <td>53</td>\n",
       "    </tr>\n",
       "    <tr>\n",
       "      <th>173</th>\n",
       "      <td>174</td>\n",
       "      <td>62</td>\n",
       "    </tr>\n",
       "    <tr>\n",
       "      <th>182</th>\n",
       "      <td>183</td>\n",
       "      <td>64</td>\n",
       "    </tr>\n",
       "  </tbody>\n",
       "</table>\n",
       "</div>"
      ],
      "text/plain": [
       "     SUBJ  AGE\n",
       "2       3   46\n",
       "11     12   39\n",
       "20     21   53\n",
       "29     30   46\n",
       "38     39   48\n",
       "47     48   49\n",
       "56     57   56\n",
       "65     66   50\n",
       "74     75   61\n",
       "83     84   57\n",
       "92     93   61\n",
       "101   102   50\n",
       "110   111   82\n",
       "119   120   69\n",
       "128   129   43\n",
       "137   138   46\n",
       "146   147   61\n",
       "155   156   61\n",
       "164   165   53\n",
       "173   174   62\n",
       "182   183   64"
      ]
     },
     "execution_count": 20,
     "metadata": {},
     "output_type": "execute_result"
    }
   ],
   "source": [
    "systematic_sample"
   ]
  },
  {
   "cell_type": "markdown",
   "metadata": {},
   "source": [
    "## **``Stratified_Sampling``**"
   ]
  },
  {
   "cell_type": "code",
   "execution_count": 21,
   "metadata": {},
   "outputs": [],
   "source": [
    "def stratified_sampling(strata_length,total_stratums,df,df_col,s_size=False,s_intervals=False):\n",
    "    \"\"\"\n",
    "    ``Description``: This function is created for below tasks:\n",
    "        1. Dividing the entire data into stratums\n",
    "        2. Generating systematic sample numbers for all the stratums\n",
    "        \n",
    "    ``Inputs``: It accepts below input parameters:\n",
    "        1. strata_length : Minimum number of records in each stratum\n",
    "        2. total_stratums : Number of stratums in which data needs to be divided\n",
    "        3. df : DataFrame having all the records\n",
    "        4. df_col : DataFrame column used for defining the classes or categories for stratums\n",
    "        5. s_size : Sample size\n",
    "        6. s_intervals : Represents k of systematic sampling(interval for separating the data values)\n",
    "        \n",
    "    ``Returns``: It returns below outputs:\n",
    "        1. stratums_dict : Data divided in stratums\n",
    "        2. intervals : Stratum ranges as per dataframe column\n",
    "        3. stratum_sys_numbers : Systematic sample numbers of each stratum based on dataframe column \n",
    "    \"\"\"\n",
    "    intervals = []\n",
    "    for i in range(total_stratums+1):\n",
    "        if intervals == []:\n",
    "            intervals.append(df[df_col].min())\n",
    "        elif intervals != []:\n",
    "            intervals.append(intervals[-1] + strata_length)\n",
    "    \n",
    "    stratums_dict = {}\n",
    "    for i in range(len(intervals)-1):\n",
    "        stratums_dict[i] = df[(df[df_col] >= intervals[i]) & (df[df_col] < intervals[i+1])]\n",
    "    \n",
    "    stratum_sample_numbers = {}\n",
    "    for i in stratums_dict.keys():\n",
    "        stratum_sample_numbers[i] = gen_systematic_sampling_numbers([stratums_dict[i][df_col].min()],stratums_dict[i][df_col].max(),10,2)\n",
    "    return stratums_dict, intervals, stratum_sample_numbers"
   ]
  },
  {
   "cell_type": "code",
   "execution_count": 22,
   "metadata": {},
   "outputs": [],
   "source": [
    "all_stratums, stratum_ranges, stratum_sys_numbers = stratified_sampling(18,3,patient_id_age,'AGE')"
   ]
  },
  {
   "cell_type": "code",
   "execution_count": 23,
   "metadata": {},
   "outputs": [
    {
     "data": {
      "text/plain": [
       "[30, 48, 66, 84]"
      ]
     },
     "execution_count": 23,
     "metadata": {},
     "output_type": "execute_result"
    }
   ],
   "source": [
    "stratum_ranges"
   ]
  },
  {
   "cell_type": "code",
   "execution_count": 24,
   "metadata": {},
   "outputs": [
    {
     "data": {
      "text/plain": [
       "dict_keys([0, 1, 2])"
      ]
     },
     "execution_count": 24,
     "metadata": {},
     "output_type": "execute_result"
    }
   ],
   "source": [
    "all_stratums.keys()"
   ]
  },
  {
   "cell_type": "code",
   "execution_count": 25,
   "metadata": {},
   "outputs": [
    {
     "data": {
      "text/plain": [
       "((43, 2), (116, 2), (30, 2))"
      ]
     },
     "execution_count": 25,
     "metadata": {},
     "output_type": "execute_result"
    }
   ],
   "source": [
    "all_stratums[0].shape, all_stratums[1].shape, all_stratums[2].shape"
   ]
  },
  {
   "cell_type": "code",
   "execution_count": 26,
   "metadata": {},
   "outputs": [
    {
     "data": {
      "text/plain": [
       "{0: [30, 32, 34, 36, 38, 40, 42, 44, 46],\n",
       " 1: [48, 50, 52, 54, 56, 58, 60, 62, 64],\n",
       " 2: [66, 68, 70, 72, 74, 76, 78, 80]}"
      ]
     },
     "execution_count": 26,
     "metadata": {},
     "output_type": "execute_result"
    }
   ],
   "source": [
    "stratum_sys_numbers"
   ]
  },
  {
   "cell_type": "markdown",
   "metadata": {},
   "source": [
    "### **``Stratified Systematic Samples``**"
   ]
  },
  {
   "cell_type": "code",
   "execution_count": 27,
   "metadata": {},
   "outputs": [],
   "source": [
    "stratified_sample_1 = patient_id_age[patient_id_age['AGE'].isin(stratum_sys_numbers[0])]\n",
    "stratified_sample_2 = patient_id_age[patient_id_age['AGE'].isin(stratum_sys_numbers[1])]\n",
    "stratified_sample_3 = patient_id_age[patient_id_age['AGE'].isin(stratum_sys_numbers[2])]"
   ]
  },
  {
   "cell_type": "code",
   "execution_count": 28,
   "metadata": {},
   "outputs": [
    {
     "data": {
      "text/plain": [
       "((23, 2), (57, 2), (15, 2))"
      ]
     },
     "execution_count": 28,
     "metadata": {},
     "output_type": "execute_result"
    }
   ],
   "source": [
    "stratified_sample_1.shape, stratified_sample_2.shape, stratified_sample_3.shape"
   ]
  },
  {
   "cell_type": "markdown",
   "metadata": {},
   "source": [
    "## ***````Chapter-2 :: Descriptive Statistics````***"
   ]
  },
  {
   "cell_type": "code",
   "execution_count": 29,
   "metadata": {},
   "outputs": [
    {
     "data": {
      "text/html": [
       "<div>\n",
       "<style scoped>\n",
       "    .dataframe tbody tr th:only-of-type {\n",
       "        vertical-align: middle;\n",
       "    }\n",
       "\n",
       "    .dataframe tbody tr th {\n",
       "        vertical-align: top;\n",
       "    }\n",
       "\n",
       "    .dataframe thead th {\n",
       "        text-align: right;\n",
       "    }\n",
       "</style>\n",
       "<table border=\"1\" class=\"dataframe\">\n",
       "  <thead>\n",
       "    <tr style=\"text-align: right;\">\n",
       "      <th></th>\n",
       "      <th>SUBJ</th>\n",
       "      <th>AGE</th>\n",
       "    </tr>\n",
       "  </thead>\n",
       "  <tbody>\n",
       "    <tr>\n",
       "      <th>0</th>\n",
       "      <td>1</td>\n",
       "      <td>48</td>\n",
       "    </tr>\n",
       "    <tr>\n",
       "      <th>1</th>\n",
       "      <td>2</td>\n",
       "      <td>35</td>\n",
       "    </tr>\n",
       "    <tr>\n",
       "      <th>2</th>\n",
       "      <td>3</td>\n",
       "      <td>46</td>\n",
       "    </tr>\n",
       "    <tr>\n",
       "      <th>3</th>\n",
       "      <td>4</td>\n",
       "      <td>44</td>\n",
       "    </tr>\n",
       "    <tr>\n",
       "      <th>4</th>\n",
       "      <td>5</td>\n",
       "      <td>43</td>\n",
       "    </tr>\n",
       "    <tr>\n",
       "      <th>5</th>\n",
       "      <td>6</td>\n",
       "      <td>42</td>\n",
       "    </tr>\n",
       "    <tr>\n",
       "      <th>6</th>\n",
       "      <td>7</td>\n",
       "      <td>39</td>\n",
       "    </tr>\n",
       "    <tr>\n",
       "      <th>7</th>\n",
       "      <td>8</td>\n",
       "      <td>44</td>\n",
       "    </tr>\n",
       "    <tr>\n",
       "      <th>8</th>\n",
       "      <td>9</td>\n",
       "      <td>49</td>\n",
       "    </tr>\n",
       "    <tr>\n",
       "      <th>9</th>\n",
       "      <td>10</td>\n",
       "      <td>49</td>\n",
       "    </tr>\n",
       "  </tbody>\n",
       "</table>\n",
       "</div>"
      ],
      "text/plain": [
       "   SUBJ  AGE\n",
       "0     1   48\n",
       "1     2   35\n",
       "2     3   46\n",
       "3     4   44\n",
       "4     5   43\n",
       "5     6   42\n",
       "6     7   39\n",
       "7     8   44\n",
       "8     9   49\n",
       "9    10   49"
      ]
     },
     "execution_count": 29,
     "metadata": {},
     "output_type": "execute_result"
    }
   ],
   "source": [
    "patient_id_age.head(10)"
   ]
  },
  {
   "cell_type": "code",
   "execution_count": 30,
   "metadata": {},
   "outputs": [],
   "source": [
    "patient_id_age.sort_values(by='AGE',axis=0,ascending=True,inplace=True)\n",
    "patient_id_age.reset_index(drop=True,inplace=True)"
   ]
  },
  {
   "cell_type": "code",
   "execution_count": 31,
   "metadata": {},
   "outputs": [
    {
     "data": {
      "text/html": [
       "<div>\n",
       "<style scoped>\n",
       "    .dataframe tbody tr th:only-of-type {\n",
       "        vertical-align: middle;\n",
       "    }\n",
       "\n",
       "    .dataframe tbody tr th {\n",
       "        vertical-align: top;\n",
       "    }\n",
       "\n",
       "    .dataframe thead th {\n",
       "        text-align: right;\n",
       "    }\n",
       "</style>\n",
       "<table border=\"1\" class=\"dataframe\">\n",
       "  <thead>\n",
       "    <tr style=\"text-align: right;\">\n",
       "      <th></th>\n",
       "      <th>SUBJ</th>\n",
       "      <th>AGE</th>\n",
       "    </tr>\n",
       "  </thead>\n",
       "  <tbody>\n",
       "    <tr>\n",
       "      <th>0</th>\n",
       "      <td>35</td>\n",
       "      <td>30</td>\n",
       "    </tr>\n",
       "    <tr>\n",
       "      <th>1</th>\n",
       "      <td>139</td>\n",
       "      <td>34</td>\n",
       "    </tr>\n",
       "    <tr>\n",
       "      <th>2</th>\n",
       "      <td>2</td>\n",
       "      <td>35</td>\n",
       "    </tr>\n",
       "    <tr>\n",
       "      <th>3</th>\n",
       "      <td>132</td>\n",
       "      <td>37</td>\n",
       "    </tr>\n",
       "    <tr>\n",
       "      <th>4</th>\n",
       "      <td>29</td>\n",
       "      <td>37</td>\n",
       "    </tr>\n",
       "    <tr>\n",
       "      <th>5</th>\n",
       "      <td>49</td>\n",
       "      <td>38</td>\n",
       "    </tr>\n",
       "    <tr>\n",
       "      <th>6</th>\n",
       "      <td>135</td>\n",
       "      <td>38</td>\n",
       "    </tr>\n",
       "    <tr>\n",
       "      <th>7</th>\n",
       "      <td>13</td>\n",
       "      <td>38</td>\n",
       "    </tr>\n",
       "    <tr>\n",
       "      <th>8</th>\n",
       "      <td>28</td>\n",
       "      <td>38</td>\n",
       "    </tr>\n",
       "    <tr>\n",
       "      <th>9</th>\n",
       "      <td>7</td>\n",
       "      <td>39</td>\n",
       "    </tr>\n",
       "  </tbody>\n",
       "</table>\n",
       "</div>"
      ],
      "text/plain": [
       "   SUBJ  AGE\n",
       "0    35   30\n",
       "1   139   34\n",
       "2     2   35\n",
       "3   132   37\n",
       "4    29   37\n",
       "5    49   38\n",
       "6   135   38\n",
       "7    13   38\n",
       "8    28   38\n",
       "9     7   39"
      ]
     },
     "execution_count": 31,
     "metadata": {},
     "output_type": "execute_result"
    }
   ],
   "source": [
    "patient_id_age.head(10)"
   ]
  },
  {
   "cell_type": "code",
   "execution_count": 32,
   "metadata": {},
   "outputs": [
    {
     "data": {
      "text/plain": [
       "(189, 2)"
      ]
     },
     "execution_count": 32,
     "metadata": {},
     "output_type": "execute_result"
    }
   ],
   "source": [
    "patient_id_age.shape"
   ]
  },
  {
   "cell_type": "markdown",
   "metadata": {},
   "source": [
    "#### **``Frequency Distribution``**"
   ]
  },
  {
   "cell_type": "code",
   "execution_count": 33,
   "metadata": {},
   "outputs": [
    {
     "data": {
      "text/plain": [
       "(44, 2)"
      ]
     },
     "execution_count": 33,
     "metadata": {},
     "output_type": "execute_result"
    }
   ],
   "source": [
    "freq_dist = pd.DataFrame(patient_id_age.groupby(by='AGE')['SUBJ'].count())\n",
    "freq_dist.reset_index(inplace=True)\n",
    "freq_dist.shape"
   ]
  },
  {
   "cell_type": "code",
   "execution_count": 34,
   "metadata": {},
   "outputs": [],
   "source": [
    "freq_dist['AGE_CLASS'] = freq_dist['AGE'].apply(lambda val : \"[30-48]\" if (val >= 30) & (val <= 48) \n",
    "                                                else \"[49-67]\" if (val >= 49) & (val <= 67) \n",
    "                                                else \"[68-82]\")"
   ]
  },
  {
   "cell_type": "code",
   "execution_count": 35,
   "metadata": {},
   "outputs": [
    {
     "data": {
      "text/html": [
       "<div>\n",
       "<style scoped>\n",
       "    .dataframe tbody tr th:only-of-type {\n",
       "        vertical-align: middle;\n",
       "    }\n",
       "\n",
       "    .dataframe tbody tr th {\n",
       "        vertical-align: top;\n",
       "    }\n",
       "\n",
       "    .dataframe thead th {\n",
       "        text-align: right;\n",
       "    }\n",
       "</style>\n",
       "<table border=\"1\" class=\"dataframe\">\n",
       "  <thead>\n",
       "    <tr style=\"text-align: right;\">\n",
       "      <th></th>\n",
       "      <th>AGE</th>\n",
       "      <th>SUBJ</th>\n",
       "      <th>AGE_CLASS</th>\n",
       "    </tr>\n",
       "  </thead>\n",
       "  <tbody>\n",
       "    <tr>\n",
       "      <th>0</th>\n",
       "      <td>30</td>\n",
       "      <td>1</td>\n",
       "      <td>[30-48]</td>\n",
       "    </tr>\n",
       "    <tr>\n",
       "      <th>1</th>\n",
       "      <td>34</td>\n",
       "      <td>1</td>\n",
       "      <td>[30-48]</td>\n",
       "    </tr>\n",
       "    <tr>\n",
       "      <th>2</th>\n",
       "      <td>35</td>\n",
       "      <td>1</td>\n",
       "      <td>[30-48]</td>\n",
       "    </tr>\n",
       "    <tr>\n",
       "      <th>3</th>\n",
       "      <td>37</td>\n",
       "      <td>2</td>\n",
       "      <td>[30-48]</td>\n",
       "    </tr>\n",
       "    <tr>\n",
       "      <th>4</th>\n",
       "      <td>38</td>\n",
       "      <td>4</td>\n",
       "      <td>[30-48]</td>\n",
       "    </tr>\n",
       "    <tr>\n",
       "      <th>5</th>\n",
       "      <td>39</td>\n",
       "      <td>2</td>\n",
       "      <td>[30-48]</td>\n",
       "    </tr>\n",
       "    <tr>\n",
       "      <th>6</th>\n",
       "      <td>40</td>\n",
       "      <td>2</td>\n",
       "      <td>[30-48]</td>\n",
       "    </tr>\n",
       "    <tr>\n",
       "      <th>7</th>\n",
       "      <td>42</td>\n",
       "      <td>2</td>\n",
       "      <td>[30-48]</td>\n",
       "    </tr>\n",
       "    <tr>\n",
       "      <th>8</th>\n",
       "      <td>43</td>\n",
       "      <td>6</td>\n",
       "      <td>[30-48]</td>\n",
       "    </tr>\n",
       "    <tr>\n",
       "      <th>9</th>\n",
       "      <td>44</td>\n",
       "      <td>7</td>\n",
       "      <td>[30-48]</td>\n",
       "    </tr>\n",
       "    <tr>\n",
       "      <th>10</th>\n",
       "      <td>45</td>\n",
       "      <td>3</td>\n",
       "      <td>[30-48]</td>\n",
       "    </tr>\n",
       "    <tr>\n",
       "      <th>11</th>\n",
       "      <td>46</td>\n",
       "      <td>6</td>\n",
       "      <td>[30-48]</td>\n",
       "    </tr>\n",
       "    <tr>\n",
       "      <th>12</th>\n",
       "      <td>47</td>\n",
       "      <td>6</td>\n",
       "      <td>[30-48]</td>\n",
       "    </tr>\n",
       "    <tr>\n",
       "      <th>13</th>\n",
       "      <td>48</td>\n",
       "      <td>7</td>\n",
       "      <td>[30-48]</td>\n",
       "    </tr>\n",
       "    <tr>\n",
       "      <th>14</th>\n",
       "      <td>49</td>\n",
       "      <td>7</td>\n",
       "      <td>[49-67]</td>\n",
       "    </tr>\n",
       "    <tr>\n",
       "      <th>15</th>\n",
       "      <td>50</td>\n",
       "      <td>8</td>\n",
       "      <td>[49-67]</td>\n",
       "    </tr>\n",
       "    <tr>\n",
       "      <th>16</th>\n",
       "      <td>51</td>\n",
       "      <td>4</td>\n",
       "      <td>[49-67]</td>\n",
       "    </tr>\n",
       "    <tr>\n",
       "      <th>17</th>\n",
       "      <td>52</td>\n",
       "      <td>6</td>\n",
       "      <td>[49-67]</td>\n",
       "    </tr>\n",
       "    <tr>\n",
       "      <th>18</th>\n",
       "      <td>53</td>\n",
       "      <td>17</td>\n",
       "      <td>[49-67]</td>\n",
       "    </tr>\n",
       "    <tr>\n",
       "      <th>19</th>\n",
       "      <td>54</td>\n",
       "      <td>11</td>\n",
       "      <td>[49-67]</td>\n",
       "    </tr>\n",
       "    <tr>\n",
       "      <th>20</th>\n",
       "      <td>55</td>\n",
       "      <td>3</td>\n",
       "      <td>[49-67]</td>\n",
       "    </tr>\n",
       "    <tr>\n",
       "      <th>21</th>\n",
       "      <td>56</td>\n",
       "      <td>6</td>\n",
       "      <td>[49-67]</td>\n",
       "    </tr>\n",
       "    <tr>\n",
       "      <th>22</th>\n",
       "      <td>57</td>\n",
       "      <td>7</td>\n",
       "      <td>[49-67]</td>\n",
       "    </tr>\n",
       "    <tr>\n",
       "      <th>23</th>\n",
       "      <td>58</td>\n",
       "      <td>2</td>\n",
       "      <td>[49-67]</td>\n",
       "    </tr>\n",
       "    <tr>\n",
       "      <th>24</th>\n",
       "      <td>59</td>\n",
       "      <td>6</td>\n",
       "      <td>[49-67]</td>\n",
       "    </tr>\n",
       "    <tr>\n",
       "      <th>25</th>\n",
       "      <td>60</td>\n",
       "      <td>4</td>\n",
       "      <td>[49-67]</td>\n",
       "    </tr>\n",
       "    <tr>\n",
       "      <th>26</th>\n",
       "      <td>61</td>\n",
       "      <td>11</td>\n",
       "      <td>[49-67]</td>\n",
       "    </tr>\n",
       "    <tr>\n",
       "      <th>27</th>\n",
       "      <td>62</td>\n",
       "      <td>7</td>\n",
       "      <td>[49-67]</td>\n",
       "    </tr>\n",
       "    <tr>\n",
       "      <th>28</th>\n",
       "      <td>63</td>\n",
       "      <td>2</td>\n",
       "      <td>[49-67]</td>\n",
       "    </tr>\n",
       "    <tr>\n",
       "      <th>29</th>\n",
       "      <td>64</td>\n",
       "      <td>6</td>\n",
       "      <td>[49-67]</td>\n",
       "    </tr>\n",
       "    <tr>\n",
       "      <th>30</th>\n",
       "      <td>65</td>\n",
       "      <td>2</td>\n",
       "      <td>[49-67]</td>\n",
       "    </tr>\n",
       "    <tr>\n",
       "      <th>31</th>\n",
       "      <td>66</td>\n",
       "      <td>6</td>\n",
       "      <td>[49-67]</td>\n",
       "    </tr>\n",
       "    <tr>\n",
       "      <th>32</th>\n",
       "      <td>67</td>\n",
       "      <td>1</td>\n",
       "      <td>[49-67]</td>\n",
       "    </tr>\n",
       "    <tr>\n",
       "      <th>33</th>\n",
       "      <td>68</td>\n",
       "      <td>3</td>\n",
       "      <td>[68-82]</td>\n",
       "    </tr>\n",
       "    <tr>\n",
       "      <th>34</th>\n",
       "      <td>69</td>\n",
       "      <td>3</td>\n",
       "      <td>[68-82]</td>\n",
       "    </tr>\n",
       "    <tr>\n",
       "      <th>35</th>\n",
       "      <td>70</td>\n",
       "      <td>1</td>\n",
       "      <td>[68-82]</td>\n",
       "    </tr>\n",
       "    <tr>\n",
       "      <th>36</th>\n",
       "      <td>71</td>\n",
       "      <td>7</td>\n",
       "      <td>[68-82]</td>\n",
       "    </tr>\n",
       "    <tr>\n",
       "      <th>37</th>\n",
       "      <td>72</td>\n",
       "      <td>1</td>\n",
       "      <td>[68-82]</td>\n",
       "    </tr>\n",
       "    <tr>\n",
       "      <th>38</th>\n",
       "      <td>73</td>\n",
       "      <td>1</td>\n",
       "      <td>[68-82]</td>\n",
       "    </tr>\n",
       "    <tr>\n",
       "      <th>39</th>\n",
       "      <td>75</td>\n",
       "      <td>1</td>\n",
       "      <td>[68-82]</td>\n",
       "    </tr>\n",
       "    <tr>\n",
       "      <th>40</th>\n",
       "      <td>76</td>\n",
       "      <td>1</td>\n",
       "      <td>[68-82]</td>\n",
       "    </tr>\n",
       "    <tr>\n",
       "      <th>41</th>\n",
       "      <td>77</td>\n",
       "      <td>1</td>\n",
       "      <td>[68-82]</td>\n",
       "    </tr>\n",
       "    <tr>\n",
       "      <th>42</th>\n",
       "      <td>78</td>\n",
       "      <td>3</td>\n",
       "      <td>[68-82]</td>\n",
       "    </tr>\n",
       "    <tr>\n",
       "      <th>43</th>\n",
       "      <td>82</td>\n",
       "      <td>1</td>\n",
       "      <td>[68-82]</td>\n",
       "    </tr>\n",
       "  </tbody>\n",
       "</table>\n",
       "</div>"
      ],
      "text/plain": [
       "    AGE  SUBJ AGE_CLASS\n",
       "0    30     1   [30-48]\n",
       "1    34     1   [30-48]\n",
       "2    35     1   [30-48]\n",
       "3    37     2   [30-48]\n",
       "4    38     4   [30-48]\n",
       "5    39     2   [30-48]\n",
       "6    40     2   [30-48]\n",
       "7    42     2   [30-48]\n",
       "8    43     6   [30-48]\n",
       "9    44     7   [30-48]\n",
       "10   45     3   [30-48]\n",
       "11   46     6   [30-48]\n",
       "12   47     6   [30-48]\n",
       "13   48     7   [30-48]\n",
       "14   49     7   [49-67]\n",
       "15   50     8   [49-67]\n",
       "16   51     4   [49-67]\n",
       "17   52     6   [49-67]\n",
       "18   53    17   [49-67]\n",
       "19   54    11   [49-67]\n",
       "20   55     3   [49-67]\n",
       "21   56     6   [49-67]\n",
       "22   57     7   [49-67]\n",
       "23   58     2   [49-67]\n",
       "24   59     6   [49-67]\n",
       "25   60     4   [49-67]\n",
       "26   61    11   [49-67]\n",
       "27   62     7   [49-67]\n",
       "28   63     2   [49-67]\n",
       "29   64     6   [49-67]\n",
       "30   65     2   [49-67]\n",
       "31   66     6   [49-67]\n",
       "32   67     1   [49-67]\n",
       "33   68     3   [68-82]\n",
       "34   69     3   [68-82]\n",
       "35   70     1   [68-82]\n",
       "36   71     7   [68-82]\n",
       "37   72     1   [68-82]\n",
       "38   73     1   [68-82]\n",
       "39   75     1   [68-82]\n",
       "40   76     1   [68-82]\n",
       "41   77     1   [68-82]\n",
       "42   78     3   [68-82]\n",
       "43   82     1   [68-82]"
      ]
     },
     "execution_count": 35,
     "metadata": {},
     "output_type": "execute_result"
    }
   ],
   "source": [
    "freq_dist"
   ]
  },
  {
   "cell_type": "code",
   "execution_count": 36,
   "metadata": {},
   "outputs": [
    {
     "data": {
      "text/html": [
       "<div>\n",
       "<style scoped>\n",
       "    .dataframe tbody tr th:only-of-type {\n",
       "        vertical-align: middle;\n",
       "    }\n",
       "\n",
       "    .dataframe tbody tr th {\n",
       "        vertical-align: top;\n",
       "    }\n",
       "\n",
       "    .dataframe thead th {\n",
       "        text-align: right;\n",
       "    }\n",
       "</style>\n",
       "<table border=\"1\" class=\"dataframe\">\n",
       "  <thead>\n",
       "    <tr style=\"text-align: right;\">\n",
       "      <th></th>\n",
       "      <th>AGE_CLASS</th>\n",
       "      <th>FREQ</th>\n",
       "    </tr>\n",
       "  </thead>\n",
       "  <tbody>\n",
       "    <tr>\n",
       "      <th>0</th>\n",
       "      <td>[30-48]</td>\n",
       "      <td>50</td>\n",
       "    </tr>\n",
       "    <tr>\n",
       "      <th>1</th>\n",
       "      <td>[49-67]</td>\n",
       "      <td>116</td>\n",
       "    </tr>\n",
       "    <tr>\n",
       "      <th>2</th>\n",
       "      <td>[68-82]</td>\n",
       "      <td>23</td>\n",
       "    </tr>\n",
       "  </tbody>\n",
       "</table>\n",
       "</div>"
      ],
      "text/plain": [
       "  AGE_CLASS  FREQ\n",
       "0   [30-48]    50\n",
       "1   [49-67]   116\n",
       "2   [68-82]    23"
      ]
     },
     "execution_count": 36,
     "metadata": {},
     "output_type": "execute_result"
    }
   ],
   "source": [
    "freq_dist = pd.DataFrame(freq_dist.groupby(by='AGE_CLASS')['SUBJ'].sum())\n",
    "freq_dist.reset_index(inplace=True)\n",
    "freq_dist.columns = ['AGE_CLASS', 'FREQ']\n",
    "freq_dist"
   ]
  },
  {
   "cell_type": "markdown",
   "metadata": {},
   "source": [
    "#### **``Sturges Equation or Rule``** **for creating the intervals in data for Frequency Distribution**"
   ]
  },
  {
   "cell_type": "markdown",
   "metadata": {},
   "source": [
    "\\begin{align}\n",
    "\\ k & = 1 + 3.322 (log_{10} n)\n",
    "\\end{align}\n",
    "\n",
    "##### Here, n is number of observations in your sample. And, k is the number of intervals that be formed out of your data.\n",
    "- ***For example***: Based on our dataset, we have total of 189 records or observations. Therefore, using **``Sturges formula``** number of intervals that we can form in our dataset is:\n",
    "\n",
    "\\begin{align}\n",
    "\\\\ k & = 1 + 3.322 (log_{10} 189)\n",
    "\\\\ k & = 1 + 3.322 (2.27646)\n",
    "\\\\ k & = 8.56\n",
    "\\\\ k & \\approx 9\n",
    "\\end{align}\n",
    "\n",
    "Here, k can be used as the number of intervals or the range of the interval. But, not everytime the class width is equal to k. Therefore, to find the class widths use below formula:\n",
    "\\begin{align}\n",
    "\\\\ w & = R / k\n",
    "\\\\ R & = (Greatest \\ value - Smallest \\ value)\n",
    "\\\\ w & = It \\ is \\ classwidth\n",
    "\\end{align}\n",
    "\n",
    "- ***For example***:\n",
    "\\begin{align}\n",
    "\\\\ w & = (82 - 30) / 9\n",
    "\\\\ w & = 6\n",
    "\\end{align}"
   ]
  },
  {
   "cell_type": "markdown",
   "metadata": {},
   "source": [
    "### **``Relative Frequency and Cumulative Requency``**"
   ]
  },
  {
   "cell_type": "code",
   "execution_count": 37,
   "metadata": {},
   "outputs": [
    {
     "data": {
      "text/html": [
       "<div>\n",
       "<style scoped>\n",
       "    .dataframe tbody tr th:only-of-type {\n",
       "        vertical-align: middle;\n",
       "    }\n",
       "\n",
       "    .dataframe tbody tr th {\n",
       "        vertical-align: top;\n",
       "    }\n",
       "\n",
       "    .dataframe thead th {\n",
       "        text-align: right;\n",
       "    }\n",
       "</style>\n",
       "<table border=\"1\" class=\"dataframe\">\n",
       "  <thead>\n",
       "    <tr style=\"text-align: right;\">\n",
       "      <th></th>\n",
       "      <th>AGE_CLASS</th>\n",
       "      <th>FREQ</th>\n",
       "    </tr>\n",
       "  </thead>\n",
       "  <tbody>\n",
       "    <tr>\n",
       "      <th>0</th>\n",
       "      <td>[30-48]</td>\n",
       "      <td>50</td>\n",
       "    </tr>\n",
       "    <tr>\n",
       "      <th>1</th>\n",
       "      <td>[49-67]</td>\n",
       "      <td>116</td>\n",
       "    </tr>\n",
       "    <tr>\n",
       "      <th>2</th>\n",
       "      <td>[68-82]</td>\n",
       "      <td>23</td>\n",
       "    </tr>\n",
       "  </tbody>\n",
       "</table>\n",
       "</div>"
      ],
      "text/plain": [
       "  AGE_CLASS  FREQ\n",
       "0   [30-48]    50\n",
       "1   [49-67]   116\n",
       "2   [68-82]    23"
      ]
     },
     "execution_count": 37,
     "metadata": {},
     "output_type": "execute_result"
    }
   ],
   "source": [
    "freq_dist"
   ]
  },
  {
   "cell_type": "code",
   "execution_count": 38,
   "metadata": {},
   "outputs": [],
   "source": [
    "freq_dist['R_FREQ'] = (freq_dist['FREQ']/freq_dist['FREQ'].sum())*100"
   ]
  },
  {
   "cell_type": "code",
   "execution_count": 39,
   "metadata": {},
   "outputs": [
    {
     "data": {
      "text/html": [
       "<div>\n",
       "<style scoped>\n",
       "    .dataframe tbody tr th:only-of-type {\n",
       "        vertical-align: middle;\n",
       "    }\n",
       "\n",
       "    .dataframe tbody tr th {\n",
       "        vertical-align: top;\n",
       "    }\n",
       "\n",
       "    .dataframe thead th {\n",
       "        text-align: right;\n",
       "    }\n",
       "</style>\n",
       "<table border=\"1\" class=\"dataframe\">\n",
       "  <thead>\n",
       "    <tr style=\"text-align: right;\">\n",
       "      <th></th>\n",
       "      <th>AGE_CLASS</th>\n",
       "      <th>FREQ</th>\n",
       "      <th>R_FREQ</th>\n",
       "    </tr>\n",
       "  </thead>\n",
       "  <tbody>\n",
       "    <tr>\n",
       "      <th>0</th>\n",
       "      <td>[30-48]</td>\n",
       "      <td>50</td>\n",
       "      <td>26.455026</td>\n",
       "    </tr>\n",
       "    <tr>\n",
       "      <th>1</th>\n",
       "      <td>[49-67]</td>\n",
       "      <td>116</td>\n",
       "      <td>61.375661</td>\n",
       "    </tr>\n",
       "    <tr>\n",
       "      <th>2</th>\n",
       "      <td>[68-82]</td>\n",
       "      <td>23</td>\n",
       "      <td>12.169312</td>\n",
       "    </tr>\n",
       "  </tbody>\n",
       "</table>\n",
       "</div>"
      ],
      "text/plain": [
       "  AGE_CLASS  FREQ     R_FREQ\n",
       "0   [30-48]    50  26.455026\n",
       "1   [49-67]   116  61.375661\n",
       "2   [68-82]    23  12.169312"
      ]
     },
     "execution_count": 39,
     "metadata": {},
     "output_type": "execute_result"
    }
   ],
   "source": [
    "freq_dist"
   ]
  },
  {
   "cell_type": "code",
   "execution_count": 40,
   "metadata": {},
   "outputs": [],
   "source": [
    "freq_dist['CUM_FREQ'] = freq_dist['R_FREQ'].cumsum()"
   ]
  },
  {
   "cell_type": "code",
   "execution_count": 41,
   "metadata": {},
   "outputs": [
    {
     "data": {
      "text/html": [
       "<div>\n",
       "<style scoped>\n",
       "    .dataframe tbody tr th:only-of-type {\n",
       "        vertical-align: middle;\n",
       "    }\n",
       "\n",
       "    .dataframe tbody tr th {\n",
       "        vertical-align: top;\n",
       "    }\n",
       "\n",
       "    .dataframe thead th {\n",
       "        text-align: right;\n",
       "    }\n",
       "</style>\n",
       "<table border=\"1\" class=\"dataframe\">\n",
       "  <thead>\n",
       "    <tr style=\"text-align: right;\">\n",
       "      <th></th>\n",
       "      <th>AGE_CLASS</th>\n",
       "      <th>FREQ</th>\n",
       "      <th>R_FREQ</th>\n",
       "      <th>CUM_FREQ</th>\n",
       "    </tr>\n",
       "  </thead>\n",
       "  <tbody>\n",
       "    <tr>\n",
       "      <th>0</th>\n",
       "      <td>[30-48]</td>\n",
       "      <td>50</td>\n",
       "      <td>26.455026</td>\n",
       "      <td>26.455026</td>\n",
       "    </tr>\n",
       "    <tr>\n",
       "      <th>1</th>\n",
       "      <td>[49-67]</td>\n",
       "      <td>116</td>\n",
       "      <td>61.375661</td>\n",
       "      <td>87.830688</td>\n",
       "    </tr>\n",
       "    <tr>\n",
       "      <th>2</th>\n",
       "      <td>[68-82]</td>\n",
       "      <td>23</td>\n",
       "      <td>12.169312</td>\n",
       "      <td>100.000000</td>\n",
       "    </tr>\n",
       "  </tbody>\n",
       "</table>\n",
       "</div>"
      ],
      "text/plain": [
       "  AGE_CLASS  FREQ     R_FREQ    CUM_FREQ\n",
       "0   [30-48]    50  26.455026   26.455026\n",
       "1   [49-67]   116  61.375661   87.830688\n",
       "2   [68-82]    23  12.169312  100.000000"
      ]
     },
     "execution_count": 41,
     "metadata": {},
     "output_type": "execute_result"
    }
   ],
   "source": [
    "freq_dist"
   ]
  },
  {
   "cell_type": "markdown",
   "metadata": {},
   "source": [
    "## **``Stem-n-Leaf Plot``**"
   ]
  },
  {
   "cell_type": "code",
   "execution_count": 42,
   "metadata": {},
   "outputs": [
    {
     "data": {
      "image/png": "[encoded data removed]",
      "text/plain": [
       "<Figure size 540x162 with 1 Axes>"
      ]
     },
     "metadata": {
      "needs_background": "light"
     },
     "output_type": "display_data"
    }
   ],
   "source": [
    "stem.stem_graphic(patient_id_age['AGE'],scale=10,break_on=10)\n",
    "plt.show()"
   ]
  },
  {
   "cell_type": "markdown",
   "metadata": {},
   "source": [
    "#### **``Stem-n-Leaf Plot :: Divided Stems``**"
   ]
  },
  {
   "cell_type": "code",
   "execution_count": 43,
   "metadata": {},
   "outputs": [
    {
     "data": {
      "image/png": "[encoded data removed]",
      "text/plain": [
       "<Figure size 540x252 with 1 Axes>"
      ]
     },
     "metadata": {
      "needs_background": "light"
     },
     "output_type": "display_data"
    }
   ],
   "source": [
    "stem.stem_graphic(patient_id_age['AGE'],scale=10,break_on=5)\n",
    "plt.show()"
   ]
  },
  {
   "cell_type": "markdown",
   "metadata": {},
   "source": [
    "## **``Bar Graph``**"
   ]
  },
  {
   "cell_type": "code",
   "execution_count": 44,
   "metadata": {},
   "outputs": [
    {
     "data": {
      "text/html": [
       "<div>\n",
       "<style scoped>\n",
       "    .dataframe tbody tr th:only-of-type {\n",
       "        vertical-align: middle;\n",
       "    }\n",
       "\n",
       "    .dataframe tbody tr th {\n",
       "        vertical-align: top;\n",
       "    }\n",
       "\n",
       "    .dataframe thead th {\n",
       "        text-align: right;\n",
       "    }\n",
       "</style>\n",
       "<table border=\"1\" class=\"dataframe\">\n",
       "  <thead>\n",
       "    <tr style=\"text-align: right;\">\n",
       "      <th></th>\n",
       "      <th>AGE_CLASS</th>\n",
       "      <th>FREQ</th>\n",
       "      <th>R_FREQ</th>\n",
       "      <th>CUM_FREQ</th>\n",
       "    </tr>\n",
       "  </thead>\n",
       "  <tbody>\n",
       "    <tr>\n",
       "      <th>0</th>\n",
       "      <td>[30-48]</td>\n",
       "      <td>50</td>\n",
       "      <td>26.455026</td>\n",
       "      <td>26.455026</td>\n",
       "    </tr>\n",
       "    <tr>\n",
       "      <th>1</th>\n",
       "      <td>[49-67]</td>\n",
       "      <td>116</td>\n",
       "      <td>61.375661</td>\n",
       "      <td>87.830688</td>\n",
       "    </tr>\n",
       "    <tr>\n",
       "      <th>2</th>\n",
       "      <td>[68-82]</td>\n",
       "      <td>23</td>\n",
       "      <td>12.169312</td>\n",
       "      <td>100.000000</td>\n",
       "    </tr>\n",
       "  </tbody>\n",
       "</table>\n",
       "</div>"
      ],
      "text/plain": [
       "  AGE_CLASS  FREQ     R_FREQ    CUM_FREQ\n",
       "0   [30-48]    50  26.455026   26.455026\n",
       "1   [49-67]   116  61.375661   87.830688\n",
       "2   [68-82]    23  12.169312  100.000000"
      ]
     },
     "execution_count": 44,
     "metadata": {},
     "output_type": "execute_result"
    }
   ],
   "source": [
    "freq_dist"
   ]
  },
  {
   "cell_type": "code",
   "execution_count": 45,
   "metadata": {},
   "outputs": [
    {
     "data": {
      "image/png": "[encoded data removed]",
      "text/plain": [
       "<Figure size 504x504 with 1 Axes>"
      ]
     },
     "metadata": {
      "needs_background": "light"
     },
     "output_type": "display_data"
    }
   ],
   "source": [
    "font_style = {'size':14, 'color':'r'}\n",
    "freq_dist.plot(kind='bar',x='AGE_CLASS',y='FREQ',figsize=(7,7),color=['lightblue','palegreen','yellow'],legend=False)\n",
    "plt.minorticks_on()\n",
    "plt.xlabel(\"Different Age Groups\",fontdict=font_style)\n",
    "plt.ylabel(\"People Frequency/Count\",fontdict=font_style)\n",
    "plt.grid(which='major',color='coral',linestyle='--')\n",
    "plt.xticks(np.arange(3),('[30-48]','[49-67]','[68-82]'),rotation=20)\n",
    "plt.show()"
   ]
  },
  {
   "cell_type": "markdown",
   "metadata": {},
   "source": [
    "## **``Histogram``**"
   ]
  },
  {
   "cell_type": "code",
   "execution_count": 46,
   "metadata": {},
   "outputs": [
    {
     "data": {
      "text/plain": [
       "0     30\n",
       "1     34\n",
       "2     35\n",
       "3     37\n",
       "4     37\n",
       "5     38\n",
       "6     38\n",
       "7     38\n",
       "8     38\n",
       "9     39\n",
       "10    39\n",
       "11    40\n",
       "12    40\n",
       "13    42\n",
       "14    42\n",
       "Name: AGE, dtype: int64"
      ]
     },
     "execution_count": 46,
     "metadata": {},
     "output_type": "execute_result"
    }
   ],
   "source": [
    "patient_id_age['AGE'].head(15)"
   ]
  },
  {
   "cell_type": "code",
   "execution_count": 47,
   "metadata": {},
   "outputs": [
    {
     "data": {
      "image/png": "[encoded data removed]",
      "text/plain": [
       "<Figure size 504x504 with 1 Axes>"
      ]
     },
     "metadata": {
      "needs_background": "light"
     },
     "output_type": "display_data"
    }
   ],
   "source": [
    "patient_id_age['AGE'].plot(kind='hist',figsize=(7,7),color='blue')\n",
    "plt.minorticks_on()\n",
    "plt.xlabel(\"Age Distribution\",fontdict=font_style)\n",
    "plt.ylabel(\"Frequency\",fontdict=font_style)\n",
    "plt.grid(which='major',color='orange',linestyle='-.')\n",
    "plt.xticks(rotation=20)\n",
    "plt.show()"
   ]
  },
  {
   "cell_type": "markdown",
   "metadata": {},
   "source": [
    "#### **``Step-type Histogram``**"
   ]
  },
  {
   "cell_type": "code",
   "execution_count": 48,
   "metadata": {},
   "outputs": [
    {
     "data": {
      "image/png": "[encoded data removed]",
      "text/plain": [
       "<Figure size 504x504 with 1 Axes>"
      ]
     },
     "metadata": {
      "needs_background": "light"
     },
     "output_type": "display_data"
    }
   ],
   "source": [
    "patient_id_age['AGE'].plot(kind='hist',figsize=(7,7),color='blue',histtype='step')\n",
    "plt.minorticks_on()\n",
    "plt.xlabel(\"Age Distribution\",fontdict=font_style)\n",
    "plt.ylabel(\"Frequency\",fontdict=font_style)\n",
    "plt.grid(which='major',color='orange',linestyle='-.')\n",
    "plt.xticks(rotation=20)\n",
    "plt.show()"
   ]
  },
  {
   "cell_type": "markdown",
   "metadata": {},
   "source": [
    "#### **``Step-type Histogram and Probability Distribution or Density Curve``**"
   ]
  },
  {
   "cell_type": "code",
   "execution_count": 49,
   "metadata": {},
   "outputs": [
    {
     "data": {
      "image/png": "[encoded data removed]",
      "text/plain": [
       "<Figure size 504x504 with 1 Axes>"
      ]
     },
     "metadata": {
      "needs_background": "light"
     },
     "output_type": "display_data"
    }
   ],
   "source": [
    "patient_id_age['AGE'].plot(kind='hist',figsize=(7,7),color='blue',histtype='step',density=True)\n",
    "patient_id_age['AGE'].plot(kind='density',color='green')\n",
    "plt.minorticks_on()\n",
    "plt.xlabel(\"Age Distribution\",fontdict=font_style)\n",
    "plt.ylabel(\"Frequency\",fontdict=font_style)\n",
    "plt.grid(which='major',color='orange',linestyle='-.')\n",
    "plt.xticks(rotation=20)\n",
    "plt.show()"
   ]
  },
  {
   "cell_type": "markdown",
   "metadata": {},
   "source": [
    "#### **``AGE Cumulative Distribution``**"
   ]
  },
  {
   "cell_type": "code",
   "execution_count": 50,
   "metadata": {},
   "outputs": [
    {
     "data": {
      "image/png": "[encoded data removed]",
      "text/plain": [
       "<Figure size 504x504 with 1 Axes>"
      ]
     },
     "metadata": {
      "needs_background": "light"
     },
     "output_type": "display_data"
    }
   ],
   "source": [
    "plt.figure(figsize=(7,7))\n",
    "plt.hist(data=patient_id_age,x='AGE',cumulative=True,color='coral')\n",
    "plt.minorticks_on()\n",
    "plt.xlabel(\"Age Cumulative Distribution\",fontdict=font_style)\n",
    "plt.ylabel(\"Frequency\",fontdict=font_style)\n",
    "plt.grid(which='major',color='lightyellow',linestyle='--')\n",
    "plt.xticks(rotation=20)\n",
    "plt.show()"
   ]
  },
  {
   "cell_type": "markdown",
   "metadata": {},
   "source": [
    "\\begin{align}\n",
    "\\\\ (Pop \\ Mean) \\ \\ \\mu & = \\frac{1} {N} \\sum_{i=1}^N X_{i}\n",
    "\\\\\n",
    "\\\\ (Sample \\ Mean) \\ \\  \\bar{x}  & = \\frac{1} {N} \\sum_{i=1}^n x_{i}\n",
    "\\\\\n",
    "\\\\ (Median) \\ \\ M & = \\frac{(n+1)} {2} \\ \\ \\ (Here, \\ n \\ is \\ total \\ observations)\n",
    "\\\\\n",
    "\\\\ (Mode) \\ \\ MO & = (Most \\ frequently \\ occuring \\ value \\ in \\ data.) \\ (It \\ can \\ be \\ no-mode, \\ bi-modal \\ ,tri-modal \\ .... \\ so \\ on)\n",
    "\\\\\n",
    "\\\\ (Range) \\ \\ R & = (X_{L} - X_{S})\n",
    "\\\\\n",
    "\\\\ (Pop \\ Variance) \\ \\ \\sigma^2 & = \\frac{1}{N} \\sum_{i=1}^{N} [(X_{i} - \\mu)^2]\n",
    "\\\\\n",
    "\\\\ (Pop \\ Standard \\ Deviation) \\ \\ \\sigma & = \\sqrt{\\frac{1}{N} \\sum_{i=1}^{N} [(X_{i} - \\mu)^2]}\n",
    "\\\\\n",
    "\\\\ (Sample \\ Variance) \\ \\ S^2 & = \\sqrt{\\frac{1}{n-1} \\sum_{i=1}^{n} [(x_{i} - \\bar{x})^2]}\n",
    "\\\\\n",
    "\\\\ (Sample \\ Standard \\ Deviation) \\ \\ S & = \\sqrt{\\frac{1}{n-1} \\sum_{i=1}^{n} [(x_{i} - \\bar{x})^2]}\n",
    "\\end{align}"
   ]
  },
  {
   "cell_type": "markdown",
   "metadata": {},
   "source": [
    "## ***``A comment on Mode``***\n",
    "- The mode may be used also for describing qualitative data. \n",
    "    - For example, suppose the patients seen in a mental health clinic during a given year received one of the following diagnoses: mental retardation, organic brain syndrome, psychosis, neurosis, and personality disorder. \n",
    "        - The diagnosis occurring most frequently in the group of patients would be called the modal diagnosis. \n",
    "- **An attractive property of a data distribution occurs when the mean, median, and mode are all equal. The well-known “bell-shaped curve” is a graphical representation of a distribution for which the mean, median, and mode are all equal.**"
   ]
  },
  {
   "cell_type": "markdown",
   "metadata": {},
   "source": [
    "## **``Skewness in Data``**"
   ]
  },
  {
   "cell_type": "markdown",
   "metadata": {},
   "source": [
    "![image1](Histograms.png)\n",
    "###### ***Fig :: Three histograms illustrating skewness***\n",
    "\n",
    "- If the graph (histogram or frequency polygon) of a distribution is asymmetric, the distribution is said to be skewed. \n",
    "- If a distribution is not symmetric because its graph extends further to the right than to the left, that is, if it has a long tail to the right, we say that the distribution is **skewed to the right or is positively skewed**. \n",
    "- If a distribution is not symmetric because its graph extends further to the left than to the right, that is, if it has a long tail to the left, we say that the distribution is **skewed to the left or is negatively skewed**.\n",
    "\n",
    "\\begin{align}\n",
    "\\\\ if \\ (Skewness \\ > \\ 0) & = +ve \\ or \\ right \\ skewed\n",
    "\\\\ if \\ (Skewness \\ < \\ 0) & = -ve \\ or \\ left \\ skewed\n",
    "\\end{align}"
   ]
  },
  {
   "cell_type": "markdown",
   "metadata": {},
   "source": [
    "![image2](Histograms_skewness_measure.png)"
   ]
  },
  {
   "cell_type": "markdown",
   "metadata": {},
   "source": [
    "#### **``Left Skewed Data``**"
   ]
  },
  {
   "cell_type": "markdown",
   "metadata": {},
   "source": [
    "***``Approach-I``***"
   ]
  },
  {
   "cell_type": "code",
   "execution_count": 51,
   "metadata": {},
   "outputs": [],
   "source": [
    "skewness_data = pd.DataFrame([1,4,4,7,7,7,8,8,8,8,8,8,9,9,9,9,9,9,9],columns=['col'])"
   ]
  },
  {
   "cell_type": "code",
   "execution_count": 52,
   "metadata": {},
   "outputs": [
    {
     "name": "stdout",
     "output_type": "stream",
     "text": [
      "col    7.421053\n",
      "dtype: float64\n",
      "   col\n",
      "0    9\n",
      "col    4.701754\n",
      "dtype: float64\n",
      "col    2.168353\n",
      "dtype: float64\n",
      "col   -1.926508\n",
      "dtype: float64\n"
     ]
    }
   ],
   "source": [
    "print(skewness_data.mean(), skewness_data.mode(), skewness_data.var(), skewness_data.std(), skewness_data.skew(),sep='\\n')"
   ]
  },
  {
   "cell_type": "markdown",
   "metadata": {},
   "source": [
    "***``Approach-II :: Using Statsmodels``***"
   ]
  },
  {
   "cell_type": "code",
   "execution_count": 53,
   "metadata": {},
   "outputs": [],
   "source": [
    "from scipy.stats import skew as skw"
   ]
  },
  {
   "cell_type": "code",
   "execution_count": 54,
   "metadata": {},
   "outputs": [
    {
     "data": {
      "text/plain": [
       "array([-1.77095128])"
      ]
     },
     "execution_count": 54,
     "metadata": {},
     "output_type": "execute_result"
    }
   ],
   "source": [
    "skw(skewness_data)"
   ]
  },
  {
   "cell_type": "code",
   "execution_count": 55,
   "metadata": {},
   "outputs": [],
   "source": [
    "skewness_data_gph = pd.DataFrame(skewness_data.groupby(by='col')['col'].count())\n",
    "skewness_data_gph.columns = ['freq']\n",
    "skewness_data_gph.reset_index(inplace=True)"
   ]
  },
  {
   "cell_type": "markdown",
   "metadata": {},
   "source": [
    "***``Plot the Left Skewed Chart``***"
   ]
  },
  {
   "cell_type": "code",
   "execution_count": 56,
   "metadata": {},
   "outputs": [
    {
     "data": {
      "text/html": [
       "<div>\n",
       "<style scoped>\n",
       "    .dataframe tbody tr th:only-of-type {\n",
       "        vertical-align: middle;\n",
       "    }\n",
       "\n",
       "    .dataframe tbody tr th {\n",
       "        vertical-align: top;\n",
       "    }\n",
       "\n",
       "    .dataframe thead th {\n",
       "        text-align: right;\n",
       "    }\n",
       "</style>\n",
       "<table border=\"1\" class=\"dataframe\">\n",
       "  <thead>\n",
       "    <tr style=\"text-align: right;\">\n",
       "      <th></th>\n",
       "      <th>col</th>\n",
       "      <th>freq</th>\n",
       "    </tr>\n",
       "  </thead>\n",
       "  <tbody>\n",
       "    <tr>\n",
       "      <th>0</th>\n",
       "      <td>1</td>\n",
       "      <td>1</td>\n",
       "    </tr>\n",
       "    <tr>\n",
       "      <th>1</th>\n",
       "      <td>4</td>\n",
       "      <td>2</td>\n",
       "    </tr>\n",
       "    <tr>\n",
       "      <th>2</th>\n",
       "      <td>7</td>\n",
       "      <td>3</td>\n",
       "    </tr>\n",
       "    <tr>\n",
       "      <th>3</th>\n",
       "      <td>8</td>\n",
       "      <td>6</td>\n",
       "    </tr>\n",
       "    <tr>\n",
       "      <th>4</th>\n",
       "      <td>9</td>\n",
       "      <td>7</td>\n",
       "    </tr>\n",
       "  </tbody>\n",
       "</table>\n",
       "</div>"
      ],
      "text/plain": [
       "   col  freq\n",
       "0    1     1\n",
       "1    4     2\n",
       "2    7     3\n",
       "3    8     6\n",
       "4    9     7"
      ]
     },
     "execution_count": 56,
     "metadata": {},
     "output_type": "execute_result"
    }
   ],
   "source": [
    "skewness_data_gph"
   ]
  },
  {
   "cell_type": "code",
   "execution_count": 57,
   "metadata": {},
   "outputs": [
    {
     "data": {
      "text/plain": [
       "<matplotlib.axes._subplots.AxesSubplot at 0x223099817f0>"
      ]
     },
     "execution_count": 57,
     "metadata": {},
     "output_type": "execute_result"
    },
    {
     "data": {
      "image/png": "[encoded data removed]",
      "text/plain": [
       "<Figure size 432x288 with 1 Axes>"
      ]
     },
     "metadata": {
      "needs_background": "light"
     },
     "output_type": "display_data"
    }
   ],
   "source": [
    "skewness_data_gph.plot(kind='bar',x='col',y='freq')"
   ]
  },
  {
   "cell_type": "markdown",
   "metadata": {},
   "source": [
    "#### **``Right Skewed Data``**"
   ]
  },
  {
   "cell_type": "code",
   "execution_count": 58,
   "metadata": {},
   "outputs": [],
   "source": [
    "skewness_data_right = pd.DataFrame([1,1,1,4,4,7,7,7,7,3,3,3,3,3,3,3,3,9,9,9,9,9,9])"
   ]
  },
  {
   "cell_type": "markdown",
   "metadata": {},
   "source": [
    "***``Approach-I``***"
   ]
  },
  {
   "cell_type": "code",
   "execution_count": 59,
   "metadata": {},
   "outputs": [
    {
     "name": "stdout",
     "output_type": "stream",
     "text": [
      "0    5.086957\n",
      "dtype: float64\n",
      "   0\n",
      "0  3\n",
      "0    8.810277\n",
      "dtype: float64\n",
      "0    2.968211\n",
      "dtype: float64\n",
      "0    0.2045\n",
      "dtype: float64\n"
     ]
    }
   ],
   "source": [
    "print(skewness_data_right.mean(), skewness_data_right.mode(), skewness_data_right.var(), skewness_data_right.std(), skewness_data_right.skew(),sep='\\n')"
   ]
  },
  {
   "cell_type": "markdown",
   "metadata": {},
   "source": [
    "***``Approach-II``***"
   ]
  },
  {
   "cell_type": "code",
   "execution_count": 60,
   "metadata": {},
   "outputs": [
    {
     "data": {
      "text/plain": [
       "array([0.19091365])"
      ]
     },
     "execution_count": 60,
     "metadata": {},
     "output_type": "execute_result"
    }
   ],
   "source": [
    "skw(skewness_data_right)"
   ]
  },
  {
   "cell_type": "markdown",
   "metadata": {},
   "source": [
    "## **``The Coefficient of Variation``**\n",
    "- The standard deviation is useful as a measure of variation within a given set of data. When one desires to compare the dispersion in two sets of data, however, comparing the two standard deviations may lead to fallacious results. \n",
    "- It may be that the two variables involved are measured in different units. \n",
    "    - For example, we may wish to know, for a certain population, whether serum cholesterol levels, measured in milligrams per 100 ml, are more variable than body weight, measured in pounds.\n",
    "    - Furthermore, although the same unit of measurement is used, the two means may be quite different. If we compare the standard deviation of weights of first-grade children with the standard deviation of weights of high school freshmen, we may find that the latter standard deviation is numerically larger than the former, because the weights themselves are larger, not because the dispersion is greater.\n",
    "    \n",
    "\\begin{align}\n",
    "\\\\ (Population) \\ C.V. & = \\frac{\\sigma}{\\bar{\\mu}} \\ . \\ (100) \\ \\%\n",
    "\\\\\n",
    "\\\\ (Sample) \\ C.V. & = \\frac{S}{\\bar{x}} \\ . \\ (100) \\ \\%\n",
    "\\end{align}\n",
    "\n",
    "- The coefficient of variation is also useful in comparing the results obtained by different persons who are conducting investigations involving the same variable. \n",
    "- Since the coefficient of variation is independent of the scale of measurement, it is a useful statistic for comparing the variability of two or more variables measured on different scales.\n",
    "     - We could, for example, use the coefficient of variation to compare the variability in weights of one sample of subjects whose weights are expressed in pounds with the variability in weights of another sample of subjects whose weights are expressed in kilograms."
   ]
  },
  {
   "cell_type": "markdown",
   "metadata": {},
   "source": [
    "***``Using Statsmodels``***"
   ]
  },
  {
   "cell_type": "code",
   "execution_count": 61,
   "metadata": {},
   "outputs": [],
   "source": [
    "from scipy.stats import variation as cv"
   ]
  },
  {
   "cell_type": "code",
   "execution_count": 62,
   "metadata": {},
   "outputs": [
    {
     "data": {
      "text/plain": [
       "array([0.28439628])"
      ]
     },
     "execution_count": 62,
     "metadata": {},
     "output_type": "execute_result"
    }
   ],
   "source": [
    "cv(skewness_data)"
   ]
  },
  {
   "cell_type": "code",
   "execution_count": 63,
   "metadata": {},
   "outputs": [
    {
     "data": {
      "text/plain": [
       "(7.421052631578948, 2.110519753238255)"
      ]
     },
     "execution_count": 63,
     "metadata": {},
     "output_type": "execute_result"
    }
   ],
   "source": [
    "np.mean(skewness_data['col'],axis=0), np.std(skewness_data['col'])"
   ]
  },
  {
   "cell_type": "code",
   "execution_count": 64,
   "metadata": {},
   "outputs": [
    {
     "data": {
      "text/plain": [
       "(3.8, 2.3151673805580453)"
      ]
     },
     "execution_count": 64,
     "metadata": {},
     "output_type": "execute_result"
    }
   ],
   "source": [
    "np.mean(skewness_data_gph['freq'],axis=0), np.std(skewness_data_gph['freq'])"
   ]
  },
  {
   "cell_type": "code",
   "execution_count": 65,
   "metadata": {},
   "outputs": [
    {
     "data": {
      "text/plain": [
       "(0.503448275862069, 0.6078947368421053)"
      ]
     },
     "execution_count": 65,
     "metadata": {},
     "output_type": "execute_result"
    }
   ],
   "source": [
    "(2.92/5.8), (2.31/3.8)"
   ]
  },
  {
   "cell_type": "markdown",
   "metadata": {},
   "source": [
    "## **``Percentiles and Quartiles``**\n",
    "- The mean and median are special cases of a family of parameters known as location parameters. \n",
    "- These descriptive measures are called location parameters because they can be used to designate certain positions on the horizontal axis when the distribution of a variable is graphed. \n",
    "    - In that sense the so-called location parameters “locate” the distribution on the horizontal axis.\n",
    "\n",
    "#### ***Other location parameters include percentiles and quartiles.*** \n",
    "##### We may define a percentile as follows:\n",
    "\n",
    "- Given a set of n observations xn, the pth percentile P is the x1; x2; . . . value of X such that p percent observations are less than X.\n",
    "\n",
    "- The 10th percentile, for example, is designated as P10, the 70th is designated P70, and so on. The **50th percentile** is the **median** and is designated P50.\n",
    "\n",
    "- The **25th percentile** is often referred to as the **first quartile** and denoted **Q1**.\n",
    "\n",
    "- The **50th percentile** (the median) is referred to as the second or middle quartile and written **Q2**, and the **75th percentile** is referred to as the **third quartile**, **Q3**."
   ]
  },
  {
   "cell_type": "markdown",
   "metadata": {},
   "source": [
    "## **``How you can find the position of Q1 and Q3``**\n",
    "##### ***Disclaimer*** :: Here, we are taking about finding the position of Q1 and Q3 in the dataset not their actual values.\n",
    "\n",
    "\\begin{align}\n",
    "\\\\ Q_{1} & = \\frac{n+1}{4}\n",
    "\\\\\n",
    "\\\\ Q_{3} & = \\frac{(n+1) \\ . \\ 3}{4}\n",
    "\\\\\n",
    "\\\\ Q_{2} & = Q_{3} - Q_{1} = \\frac{n+1}{2} = IQR\n",
    "\\\\\n",
    "\\\\ IQR & = Interquartile Range\n",
    "\\end{align}"
   ]
  },
  {
   "cell_type": "markdown",
   "metadata": {},
   "source": [
    "### **``How to find the values of Q1 and Q3?????``**\n",
    "**Use example**"
   ]
  },
  {
   "cell_type": "markdown",
   "metadata": {},
   "source": [
    "## **``Kurtosis``** \n",
    "- It describes the peakedness of the distribution.\n",
    "- It is a measure of the degree to which a distribution is “peaked” or flat in comparison to a normal distribution whose graph is characterized by a bell-shaped appearance.\n",
    "    - A distribution, in comparison to a normal distribution, may **possesses an excessive proportion of observations in its tails**, so that its graph exhibits a flattened appearance. Such a distribution is said to be **platykurtic**.\n",
    "    \n",
    "    - Conversely, a distribution, in comparison to a normal distribution, may **possess a smaller proportion of observations in its tails**, so that its graph exhibits a **more peaked appearance**. Such a distribution is said to be **leptokurtic**.\n",
    "    \n",
    "    - A normal, or bell-shaped distribution, is said to be **mesokurtic**."
   ]
  },
  {
   "cell_type": "code",
   "execution_count": 66,
   "metadata": {},
   "outputs": [],
   "source": [
    "from scipy.stats import kurtosis as kurt"
   ]
  },
  {
   "cell_type": "markdown",
   "metadata": {},
   "source": [
    "***``Skewed Data``***"
   ]
  },
  {
   "cell_type": "code",
   "execution_count": 67,
   "metadata": {},
   "outputs": [
    {
     "data": {
      "text/plain": [
       "array([2.35350301])"
      ]
     },
     "execution_count": 67,
     "metadata": {},
     "output_type": "execute_result"
    }
   ],
   "source": [
    "kurt(skewness_data)"
   ]
  },
  {
   "cell_type": "code",
   "execution_count": 68,
   "metadata": {},
   "outputs": [
    {
     "data": {
      "text/plain": [
       "array([-1.77095128])"
      ]
     },
     "execution_count": 68,
     "metadata": {},
     "output_type": "execute_result"
    }
   ],
   "source": [
    "skw(skewness_data)"
   ]
  },
  {
   "cell_type": "markdown",
   "metadata": {},
   "source": [
    "***``Normal Distribution``***"
   ]
  },
  {
   "cell_type": "code",
   "execution_count": 69,
   "metadata": {},
   "outputs": [
    {
     "data": {
      "text/plain": [
       "-0.23477827043683863"
      ]
     },
     "execution_count": 69,
     "metadata": {},
     "output_type": "execute_result"
    }
   ],
   "source": [
    "kurt(patient_id_age['AGE'])"
   ]
  },
  {
   "cell_type": "code",
   "execution_count": 70,
   "metadata": {},
   "outputs": [
    {
     "data": {
      "text/plain": [
       "0.23909298343052557"
      ]
     },
     "execution_count": 70,
     "metadata": {},
     "output_type": "execute_result"
    }
   ],
   "source": [
    "skw(patient_id_age['AGE'])"
   ]
  },
  {
   "cell_type": "markdown",
   "metadata": {},
   "source": [
    "##### ***``For a normal distribution, then 3.0 is subtracted from the result to give 0.0 as an outcome.``***\n",
    "\n",
    "![image3](Kurtosis.png)"
   ]
  },
  {
   "cell_type": "markdown",
   "metadata": {},
   "source": [
    "#### **``Five Number Summary and how to create Box-whisker plot using these five numbers?``**"
   ]
  },
  {
   "cell_type": "markdown",
   "metadata": {},
   "source": [
    "#### **``What is an Outlier?``**\n",
    "- Statistically speaking any data values outside the below limits are considered as outliers.\n",
    "\n",
    "\\begin{align}\n",
    "\\\\ x_{i} > Q_{3} + (1.5 \\ . \\ IQR)\n",
    "\\\\\n",
    "\\\\ x_{i} < Q_{1} - (1.5 \\ . \\ IQR)\n",
    "\\end{align}"
   ]
  },
  {
   "cell_type": "code",
   "execution_count": null,
   "metadata": {},
   "outputs": [],
   "source": []
  },
  {
   "cell_type": "code",
   "execution_count": null,
   "metadata": {},
   "outputs": [],
   "source": []
  },
  {
   "cell_type": "code",
   "execution_count": null,
   "metadata": {},
   "outputs": [],
   "source": []
  },
  {
   "cell_type": "code",
   "execution_count": null,
   "metadata": {},
   "outputs": [],
   "source": []
  },
  {
   "cell_type": "code",
   "execution_count": null,
   "metadata": {},
   "outputs": [],
   "source": []
  },
  {
   "cell_type": "code",
   "execution_count": null,
   "metadata": {},
   "outputs": [],
   "source": []
  }
 ],
 "metadata": {
  "kernelspec": {
   "display_name": "Python 3",
   "language": "python",
   "name": "python3"
  },
  "language_info": {
   "codemirror_mode": {
    "name": "ipython",
    "version": 3
   },
   "file_extension": ".py",
   "mimetype": "text/x-python",
   "name": "python",
   "nbconvert_exporter": "python",
   "pygments_lexer": "ipython3",
   "version": "3.7.3"
  }
 },
 "nbformat": 4,
 "nbformat_minor": 4
}
