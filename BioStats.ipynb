{
 "cells": [
  {
   "cell_type": "markdown",
   "metadata": {},
   "source": [
    "# **``BioStatistics``**\n",
    "#### **``Foundation for Data Analysis in Health & Medical Sciences``**"
   ]
  },
  {
   "cell_type": "markdown",
   "metadata": {},
   "source": [
    "## ***````Chapter-1 :: Introduction for Statistics````***"
   ]
  },
  {
   "cell_type": "markdown",
   "metadata": {},
   "source": [
    "##### **``Statistics``** is the field of study concerning:\n",
    "- Collection of data\n",
    "- Organizing the data\n",
    "- Summarizing the data\n",
    "- Analysing the data\n",
    "- And, drawing the conclusions for the population or entire body of data by studying the part of it"
   ]
  },
  {
   "cell_type": "markdown",
   "metadata": {},
   "source": [
    "##### There can be various **``Sources of data``**:\n",
    "- **Routinely kept records**\n",
    "    - ***For example***: In hospital most of the records like patient entires or number of patients treated in a day are the prime examples of electronic records.\n",
    "\n",
    "\n",
    "- **Surveys**\n",
    "    - These helps us in collecting the data other than the routinely kept records for finding the answer of a question. \n",
    "    - ***For example***: An administrator of a clinic wishes to obtain information regarding the mode of transportation used by patients to visit the clinic. If admission forms do not contain a question on mode of transportation, we may conduct a survey among patients to obtain this information.\n",
    "\n",
    "\n",
    "- **Experiments**\n",
    "    - ***For example***: A doctor is trying to find out whether a newly created drug helps in lowering the level of bad choloestrol.\n",
    "\n",
    "\n",
    "- **External Sources**\n",
    "    - ***For example***: Already published reports or someone has already worked on the question or problem that you are trying to solve/answer."
   ]
  },
  {
   "cell_type": "markdown",
   "metadata": {},
   "source": [
    "#### **``BioStatistics``**\n",
    "- When you are dealing with data that is derived from the biological science or medicine science.\n",
    "    - ***For example***: Cornoary Heart Disease data, Dopamine effect data, ASD data and others.\n",
    "\n",
    "\n",
    "#### **``Variable``**\n",
    "- An attribute in the data set that contains the values or characteristics of different people/subjects involved in the population or boday of data.\n",
    "    - ***For example***: Blood Sugar, Heart Rate, Cholestrol level and others.\n",
    "\n",
    "\n",
    "#### **``Random Variable``**\n",
    "- A variable whose value is dependent on various factors and cannot be exactly predicted in advance.\n",
    "    - ***For example***: What will be the height and weight of the newly born child after 20 years. Here, height and weight are the attributes which are dependent on the DNA composition or genetics or other external factors.\n",
    "\n",
    "\n",
    "#### **``Measurement``**\n",
    "- It is the unit or scale in which the data of a variable is expressed or collected. \n",
    "    - ***For example***: Nominal Scale, Ordinal Scale, Interval scale and Units like kilograms, centimeters etc.\n",
    "    \n",
    "    \n",
    "#### **``Statistical Inference``**\n",
    "- It is the process or procedure in which we use the decriptive statistics(analyse the sample) to estimate the value of the population parameter."
   ]
  },
  {
   "cell_type": "markdown",
   "metadata": {},
   "source": [
    "#### **``How to collect the sample``**\n",
    "- **Simple Random Sampling**\n",
    "    - When every record has a equal probability of being picked up from the population.\n",
    "        - There are two ways associated with Simple Random Sampling:\n",
    "            - **Sample with replacement**\n",
    "                - It means a sample record picked from the population, also exits in the popualtion and can be picked-up again from the population to be a part of the sample.\n",
    "            - **Sample without replacement**\n",
    "                - It means a sample record once picked from the population, kept aside so that it cannot be picked again or cannot occur more than once in the sample.\n",
    "- **Systematic Sampling**\n",
    "    - It is the way in which sample observations are picked in certain manner.\n",
    "        - ***For example***: x is the user provided or any random number. k is the gap or interval from the next number.\n",
    "        - x, x+k, x+2k, x+3k, x+4k, x+5k, x+6k, ...... , x+nk\n",
    "- **Stratified Sampling**\n",
    "    - It is the way in which population data has been divided into various categories or classes and observations are randomly picked up from each class.\n",
    "    - These different classes are referred as Stratums. And, from each Stratum you can pick the sample based upon its strength or fixed number of instances from every strata or using systematic sampling in stratums."
   ]
  },
  {
   "cell_type": "markdown",
   "metadata": {},
   "source": [
    "#### **``Scientific method or Design of Experiments``**"
   ]
  },
  {
   "cell_type": "markdown",
   "metadata": {},
   "source": [
    "#### **Making an observation**: \n",
    "- An observation is made of a phenomenon or a group of phenomena.\n",
    "    - For example, it is readily observable that regular exercise reduces body weight in many people. It is also readily observable that changing diet may have a similar effect. In this case there are two observable phenomena, regular exercise and diet change, that have the same endpoint.\n",
    "    \n",
    "\n",
    "#### **Formulating a Hypothesis**:\n",
    "- A statistical hypothesis is like \"The average (mean) loss of body weight of people who exercise is greater than the average (mean) loss of body weight of people who do not exercise.\" In this statement a quantitative measure, the “average” or “mean” value, is hypothesized to be greater in the sample of patients who exercise.\n",
    "\n",
    "\n",
    "#### **Designing an Experiment**:\n",
    "- The third step of the scientific method involves designing an experiment that will yield the data necessary to validly test an appropriate statistical hypothesis. \n",
    "- This step of the scientific method, like that of data analysis, requires the expertise of a statistician. \n",
    "- Improperly designed experiments are the leading cause of invalid results and unjustified conclusions. \n",
    "- Further, most studies that are challenged by experts are challenged on the basis of the appropriateness or inappropriateness of the study’s research design.   "
   ]
  },
  {
   "cell_type": "code",
   "execution_count": 1,
   "metadata": {},
   "outputs": [],
   "source": [
    "import numpy as np\n",
    "import pandas as pd\n",
    "import matplotlib.pyplot as plt\n",
    "\n",
    "%matplotlib inline"
   ]
  },
  {
   "cell_type": "code",
   "execution_count": 2,
   "metadata": {},
   "outputs": [],
   "source": [
    "patient_id_age = pd.read_csv(\"ch01_all/EXA_C01_S04_01.csv\")"
   ]
  },
  {
   "cell_type": "code",
   "execution_count": 3,
   "metadata": {},
   "outputs": [
    {
     "data": {
      "text/html": [
       "<div>\n",
       "<style scoped>\n",
       "    .dataframe tbody tr th:only-of-type {\n",
       "        vertical-align: middle;\n",
       "    }\n",
       "\n",
       "    .dataframe tbody tr th {\n",
       "        vertical-align: top;\n",
       "    }\n",
       "\n",
       "    .dataframe thead th {\n",
       "        text-align: right;\n",
       "    }\n",
       "</style>\n",
       "<table border=\"1\" class=\"dataframe\">\n",
       "  <thead>\n",
       "    <tr style=\"text-align: right;\">\n",
       "      <th></th>\n",
       "      <th>SUBJ</th>\n",
       "      <th>AGE</th>\n",
       "    </tr>\n",
       "  </thead>\n",
       "  <tbody>\n",
       "    <tr>\n",
       "      <th>count</th>\n",
       "      <td>189.000000</td>\n",
       "      <td>189.000000</td>\n",
       "    </tr>\n",
       "    <tr>\n",
       "      <th>mean</th>\n",
       "      <td>95.000000</td>\n",
       "      <td>55.031746</td>\n",
       "    </tr>\n",
       "    <tr>\n",
       "      <th>std</th>\n",
       "      <td>54.703748</td>\n",
       "      <td>9.914477</td>\n",
       "    </tr>\n",
       "    <tr>\n",
       "      <th>min</th>\n",
       "      <td>1.000000</td>\n",
       "      <td>30.000000</td>\n",
       "    </tr>\n",
       "    <tr>\n",
       "      <th>25%</th>\n",
       "      <td>48.000000</td>\n",
       "      <td>48.000000</td>\n",
       "    </tr>\n",
       "    <tr>\n",
       "      <th>50%</th>\n",
       "      <td>95.000000</td>\n",
       "      <td>54.000000</td>\n",
       "    </tr>\n",
       "    <tr>\n",
       "      <th>75%</th>\n",
       "      <td>142.000000</td>\n",
       "      <td>61.000000</td>\n",
       "    </tr>\n",
       "    <tr>\n",
       "      <th>max</th>\n",
       "      <td>189.000000</td>\n",
       "      <td>82.000000</td>\n",
       "    </tr>\n",
       "  </tbody>\n",
       "</table>\n",
       "</div>"
      ],
      "text/plain": [
       "             SUBJ         AGE\n",
       "count  189.000000  189.000000\n",
       "mean    95.000000   55.031746\n",
       "std     54.703748    9.914477\n",
       "min      1.000000   30.000000\n",
       "25%     48.000000   48.000000\n",
       "50%     95.000000   54.000000\n",
       "75%    142.000000   61.000000\n",
       "max    189.000000   82.000000"
      ]
     },
     "execution_count": 3,
     "metadata": {},
     "output_type": "execute_result"
    }
   ],
   "source": [
    "patient_id_age.describe()"
   ]
  },
  {
   "cell_type": "code",
   "execution_count": 4,
   "metadata": {},
   "outputs": [
    {
     "data": {
      "text/html": [
       "<div>\n",
       "<style scoped>\n",
       "    .dataframe tbody tr th:only-of-type {\n",
       "        vertical-align: middle;\n",
       "    }\n",
       "\n",
       "    .dataframe tbody tr th {\n",
       "        vertical-align: top;\n",
       "    }\n",
       "\n",
       "    .dataframe thead th {\n",
       "        text-align: right;\n",
       "    }\n",
       "</style>\n",
       "<table border=\"1\" class=\"dataframe\">\n",
       "  <thead>\n",
       "    <tr style=\"text-align: right;\">\n",
       "      <th></th>\n",
       "      <th>SUBJ</th>\n",
       "      <th>AGE</th>\n",
       "    </tr>\n",
       "  </thead>\n",
       "  <tbody>\n",
       "    <tr>\n",
       "      <th>0</th>\n",
       "      <td>1</td>\n",
       "      <td>48</td>\n",
       "    </tr>\n",
       "    <tr>\n",
       "      <th>1</th>\n",
       "      <td>2</td>\n",
       "      <td>35</td>\n",
       "    </tr>\n",
       "    <tr>\n",
       "      <th>2</th>\n",
       "      <td>3</td>\n",
       "      <td>46</td>\n",
       "    </tr>\n",
       "    <tr>\n",
       "      <th>3</th>\n",
       "      <td>4</td>\n",
       "      <td>44</td>\n",
       "    </tr>\n",
       "    <tr>\n",
       "      <th>4</th>\n",
       "      <td>5</td>\n",
       "      <td>43</td>\n",
       "    </tr>\n",
       "    <tr>\n",
       "      <th>5</th>\n",
       "      <td>6</td>\n",
       "      <td>42</td>\n",
       "    </tr>\n",
       "    <tr>\n",
       "      <th>6</th>\n",
       "      <td>7</td>\n",
       "      <td>39</td>\n",
       "    </tr>\n",
       "    <tr>\n",
       "      <th>7</th>\n",
       "      <td>8</td>\n",
       "      <td>44</td>\n",
       "    </tr>\n",
       "    <tr>\n",
       "      <th>8</th>\n",
       "      <td>9</td>\n",
       "      <td>49</td>\n",
       "    </tr>\n",
       "    <tr>\n",
       "      <th>9</th>\n",
       "      <td>10</td>\n",
       "      <td>49</td>\n",
       "    </tr>\n",
       "    <tr>\n",
       "      <th>10</th>\n",
       "      <td>11</td>\n",
       "      <td>44</td>\n",
       "    </tr>\n",
       "    <tr>\n",
       "      <th>11</th>\n",
       "      <td>12</td>\n",
       "      <td>39</td>\n",
       "    </tr>\n",
       "    <tr>\n",
       "      <th>12</th>\n",
       "      <td>13</td>\n",
       "      <td>38</td>\n",
       "    </tr>\n",
       "    <tr>\n",
       "      <th>13</th>\n",
       "      <td>14</td>\n",
       "      <td>49</td>\n",
       "    </tr>\n",
       "    <tr>\n",
       "      <th>14</th>\n",
       "      <td>15</td>\n",
       "      <td>49</td>\n",
       "    </tr>\n",
       "  </tbody>\n",
       "</table>\n",
       "</div>"
      ],
      "text/plain": [
       "    SUBJ  AGE\n",
       "0      1   48\n",
       "1      2   35\n",
       "2      3   46\n",
       "3      4   44\n",
       "4      5   43\n",
       "5      6   42\n",
       "6      7   39\n",
       "7      8   44\n",
       "8      9   49\n",
       "9     10   49\n",
       "10    11   44\n",
       "11    12   39\n",
       "12    13   38\n",
       "13    14   49\n",
       "14    15   49"
      ]
     },
     "execution_count": 4,
     "metadata": {},
     "output_type": "execute_result"
    }
   ],
   "source": [
    "patient_id_age.head(15)"
   ]
  },
  {
   "cell_type": "code",
   "execution_count": 5,
   "metadata": {},
   "outputs": [
    {
     "data": {
      "text/plain": [
       "(189, 2)"
      ]
     },
     "execution_count": 5,
     "metadata": {},
     "output_type": "execute_result"
    }
   ],
   "source": [
    "patient_id_age.shape"
   ]
  },
  {
   "cell_type": "markdown",
   "metadata": {},
   "source": [
    "## **``Simple_Random_Sampling``**"
   ]
  },
  {
   "cell_type": "code",
   "execution_count": 6,
   "metadata": {},
   "outputs": [],
   "source": [
    "simple_random_numbers = [val for val in np.random.randint(low=1,high=patient_id_age.shape[0]+1,size=14)]"
   ]
  },
  {
   "cell_type": "code",
   "execution_count": 7,
   "metadata": {},
   "outputs": [
    {
     "data": {
      "text/plain": [
       "[12, 185, 25, 3, 10, 20, 90, 79, 104, 20, 135, 27, 143, 12]"
      ]
     },
     "execution_count": 7,
     "metadata": {},
     "output_type": "execute_result"
    }
   ],
   "source": [
    "simple_random_numbers"
   ]
  },
  {
   "cell_type": "code",
   "execution_count": 8,
   "metadata": {},
   "outputs": [],
   "source": [
    "simple_random_sample = patient_id_age[patient_id_age['SUBJ'].isin(simple_random_numbers)]"
   ]
  },
  {
   "cell_type": "code",
   "execution_count": 9,
   "metadata": {},
   "outputs": [
    {
     "data": {
      "text/html": [
       "<div>\n",
       "<style scoped>\n",
       "    .dataframe tbody tr th:only-of-type {\n",
       "        vertical-align: middle;\n",
       "    }\n",
       "\n",
       "    .dataframe tbody tr th {\n",
       "        vertical-align: top;\n",
       "    }\n",
       "\n",
       "    .dataframe thead th {\n",
       "        text-align: right;\n",
       "    }\n",
       "</style>\n",
       "<table border=\"1\" class=\"dataframe\">\n",
       "  <thead>\n",
       "    <tr style=\"text-align: right;\">\n",
       "      <th></th>\n",
       "      <th>SUBJ</th>\n",
       "      <th>AGE</th>\n",
       "    </tr>\n",
       "  </thead>\n",
       "  <tbody>\n",
       "    <tr>\n",
       "      <th>2</th>\n",
       "      <td>3</td>\n",
       "      <td>46</td>\n",
       "    </tr>\n",
       "    <tr>\n",
       "      <th>9</th>\n",
       "      <td>10</td>\n",
       "      <td>49</td>\n",
       "    </tr>\n",
       "    <tr>\n",
       "      <th>11</th>\n",
       "      <td>12</td>\n",
       "      <td>39</td>\n",
       "    </tr>\n",
       "    <tr>\n",
       "      <th>19</th>\n",
       "      <td>20</td>\n",
       "      <td>61</td>\n",
       "    </tr>\n",
       "    <tr>\n",
       "      <th>24</th>\n",
       "      <td>25</td>\n",
       "      <td>72</td>\n",
       "    </tr>\n",
       "    <tr>\n",
       "      <th>26</th>\n",
       "      <td>27</td>\n",
       "      <td>67</td>\n",
       "    </tr>\n",
       "    <tr>\n",
       "      <th>78</th>\n",
       "      <td>79</td>\n",
       "      <td>54</td>\n",
       "    </tr>\n",
       "    <tr>\n",
       "      <th>89</th>\n",
       "      <td>90</td>\n",
       "      <td>59</td>\n",
       "    </tr>\n",
       "    <tr>\n",
       "      <th>103</th>\n",
       "      <td>104</td>\n",
       "      <td>54</td>\n",
       "    </tr>\n",
       "    <tr>\n",
       "      <th>134</th>\n",
       "      <td>135</td>\n",
       "      <td>38</td>\n",
       "    </tr>\n",
       "    <tr>\n",
       "      <th>142</th>\n",
       "      <td>143</td>\n",
       "      <td>47</td>\n",
       "    </tr>\n",
       "    <tr>\n",
       "      <th>184</th>\n",
       "      <td>185</td>\n",
       "      <td>65</td>\n",
       "    </tr>\n",
       "  </tbody>\n",
       "</table>\n",
       "</div>"
      ],
      "text/plain": [
       "     SUBJ  AGE\n",
       "2       3   46\n",
       "9      10   49\n",
       "11     12   39\n",
       "19     20   61\n",
       "24     25   72\n",
       "26     27   67\n",
       "78     79   54\n",
       "89     90   59\n",
       "103   104   54\n",
       "134   135   38\n",
       "142   143   47\n",
       "184   185   65"
      ]
     },
     "execution_count": 9,
     "metadata": {},
     "output_type": "execute_result"
    }
   ],
   "source": [
    "simple_random_sample"
   ]
  },
  {
   "cell_type": "markdown",
   "metadata": {},
   "source": [
    "## **``Systematic_Random_Sampling``**"
   ]
  },
  {
   "cell_type": "code",
   "execution_count": 10,
   "metadata": {},
   "outputs": [],
   "source": [
    "first_number = np.random.randint(low=1,high=5,size=1,dtype=np.int)"
   ]
  },
  {
   "cell_type": "code",
   "execution_count": 11,
   "metadata": {},
   "outputs": [
    {
     "data": {
      "text/plain": [
       "array([3])"
      ]
     },
     "execution_count": 11,
     "metadata": {},
     "output_type": "execute_result"
    }
   ],
   "source": [
    "first_number"
   ]
  },
  {
   "cell_type": "code",
   "execution_count": 12,
   "metadata": {},
   "outputs": [],
   "source": [
    "sample_size = 20"
   ]
  },
  {
   "cell_type": "code",
   "execution_count": 13,
   "metadata": {},
   "outputs": [],
   "source": [
    "population_size = patient_id_age.shape[0] - first_number[0]"
   ]
  },
  {
   "cell_type": "code",
   "execution_count": 14,
   "metadata": {},
   "outputs": [],
   "source": [
    "interval_number_for_sample = np.round(population_size/sample_size,0)"
   ]
  },
  {
   "cell_type": "code",
   "execution_count": 15,
   "metadata": {},
   "outputs": [
    {
     "data": {
      "text/plain": [
       "9.0"
      ]
     },
     "execution_count": 15,
     "metadata": {},
     "output_type": "execute_result"
    }
   ],
   "source": [
    "interval_number_for_sample"
   ]
  },
  {
   "cell_type": "code",
   "execution_count": 236,
   "metadata": {},
   "outputs": [],
   "source": [
    "def gen_systematic_sampling_numbers(start_num,pop_size,sample_size,interval_num):\n",
    "    \"\"\"\n",
    "    ``Description``: This function is craeted for performing the Systematic Random Sampling by generating Systematic Random Numbers.\n",
    "    \n",
    "    ``Input Parameters``: It accepts below input parameters:\n",
    "        1. start_num : First number (x) from which sample numbers to be started\n",
    "        2. pop_size : Size of the entire data\n",
    "        3. sample_size : Size of systematic sample size\n",
    "        4. interval_num : Represents k in generating the series of numbers like:\n",
    "                        ``x, x+k, x+2k, x+3k, x+4k, ..... x+nk``\n",
    "        \n",
    "    ``Returns``: It returns sys_sampling_nums as the systematic sampling numbers.\n",
    "    \"\"\"\n",
    "    sys_sampling_nums = []\n",
    "    for num in range(start_num[-1], pop_size):\n",
    "        if sys_sampling_nums == []:\n",
    "            sys_sampling_nums.append(num)\n",
    "        elif sys_sampling_nums != [] and sys_sampling_nums[-1] < pop_size and sys_sampling_nums[-1]+interval_num < pop_size:\n",
    "            sys_sampling_nums.append(sys_sampling_nums[-1]+interval_num)\n",
    "    return sys_sampling_nums"
   ]
  },
  {
   "cell_type": "code",
   "execution_count": 17,
   "metadata": {},
   "outputs": [],
   "source": [
    "systematic_sampling_numbers = gen_systematic_sampling_numbers(first_number,population_size,sample_size,interval_number_for_sample)"
   ]
  },
  {
   "cell_type": "code",
   "execution_count": 18,
   "metadata": {},
   "outputs": [
    {
     "data": {
      "text/plain": [
       "[3,\n",
       " 12.0,\n",
       " 21.0,\n",
       " 30.0,\n",
       " 39.0,\n",
       " 48.0,\n",
       " 57.0,\n",
       " 66.0,\n",
       " 75.0,\n",
       " 84.0,\n",
       " 93.0,\n",
       " 102.0,\n",
       " 111.0,\n",
       " 120.0,\n",
       " 129.0,\n",
       " 138.0,\n",
       " 147.0,\n",
       " 156.0,\n",
       " 165.0,\n",
       " 174.0,\n",
       " 183.0]"
      ]
     },
     "execution_count": 18,
     "metadata": {},
     "output_type": "execute_result"
    }
   ],
   "source": [
    "systematic_sampling_numbers"
   ]
  },
  {
   "cell_type": "code",
   "execution_count": 19,
   "metadata": {},
   "outputs": [],
   "source": [
    "systematic_sample = patient_id_age[patient_id_age['SUBJ'].isin(systematic_sampling_numbers)]"
   ]
  },
  {
   "cell_type": "code",
   "execution_count": 20,
   "metadata": {},
   "outputs": [
    {
     "data": {
      "text/html": [
       "<div>\n",
       "<style scoped>\n",
       "    .dataframe tbody tr th:only-of-type {\n",
       "        vertical-align: middle;\n",
       "    }\n",
       "\n",
       "    .dataframe tbody tr th {\n",
       "        vertical-align: top;\n",
       "    }\n",
       "\n",
       "    .dataframe thead th {\n",
       "        text-align: right;\n",
       "    }\n",
       "</style>\n",
       "<table border=\"1\" class=\"dataframe\">\n",
       "  <thead>\n",
       "    <tr style=\"text-align: right;\">\n",
       "      <th></th>\n",
       "      <th>SUBJ</th>\n",
       "      <th>AGE</th>\n",
       "    </tr>\n",
       "  </thead>\n",
       "  <tbody>\n",
       "    <tr>\n",
       "      <th>2</th>\n",
       "      <td>3</td>\n",
       "      <td>46</td>\n",
       "    </tr>\n",
       "    <tr>\n",
       "      <th>11</th>\n",
       "      <td>12</td>\n",
       "      <td>39</td>\n",
       "    </tr>\n",
       "    <tr>\n",
       "      <th>20</th>\n",
       "      <td>21</td>\n",
       "      <td>53</td>\n",
       "    </tr>\n",
       "    <tr>\n",
       "      <th>29</th>\n",
       "      <td>30</td>\n",
       "      <td>46</td>\n",
       "    </tr>\n",
       "    <tr>\n",
       "      <th>38</th>\n",
       "      <td>39</td>\n",
       "      <td>48</td>\n",
       "    </tr>\n",
       "    <tr>\n",
       "      <th>47</th>\n",
       "      <td>48</td>\n",
       "      <td>49</td>\n",
       "    </tr>\n",
       "    <tr>\n",
       "      <th>56</th>\n",
       "      <td>57</td>\n",
       "      <td>56</td>\n",
       "    </tr>\n",
       "    <tr>\n",
       "      <th>65</th>\n",
       "      <td>66</td>\n",
       "      <td>50</td>\n",
       "    </tr>\n",
       "    <tr>\n",
       "      <th>74</th>\n",
       "      <td>75</td>\n",
       "      <td>61</td>\n",
       "    </tr>\n",
       "    <tr>\n",
       "      <th>83</th>\n",
       "      <td>84</td>\n",
       "      <td>57</td>\n",
       "    </tr>\n",
       "    <tr>\n",
       "      <th>92</th>\n",
       "      <td>93</td>\n",
       "      <td>61</td>\n",
       "    </tr>\n",
       "    <tr>\n",
       "      <th>101</th>\n",
       "      <td>102</td>\n",
       "      <td>50</td>\n",
       "    </tr>\n",
       "    <tr>\n",
       "      <th>110</th>\n",
       "      <td>111</td>\n",
       "      <td>82</td>\n",
       "    </tr>\n",
       "    <tr>\n",
       "      <th>119</th>\n",
       "      <td>120</td>\n",
       "      <td>69</td>\n",
       "    </tr>\n",
       "    <tr>\n",
       "      <th>128</th>\n",
       "      <td>129</td>\n",
       "      <td>43</td>\n",
       "    </tr>\n",
       "    <tr>\n",
       "      <th>137</th>\n",
       "      <td>138</td>\n",
       "      <td>46</td>\n",
       "    </tr>\n",
       "    <tr>\n",
       "      <th>146</th>\n",
       "      <td>147</td>\n",
       "      <td>61</td>\n",
       "    </tr>\n",
       "    <tr>\n",
       "      <th>155</th>\n",
       "      <td>156</td>\n",
       "      <td>61</td>\n",
       "    </tr>\n",
       "    <tr>\n",
       "      <th>164</th>\n",
       "      <td>165</td>\n",
       "      <td>53</td>\n",
       "    </tr>\n",
       "    <tr>\n",
       "      <th>173</th>\n",
       "      <td>174</td>\n",
       "      <td>62</td>\n",
       "    </tr>\n",
       "    <tr>\n",
       "      <th>182</th>\n",
       "      <td>183</td>\n",
       "      <td>64</td>\n",
       "    </tr>\n",
       "  </tbody>\n",
       "</table>\n",
       "</div>"
      ],
      "text/plain": [
       "     SUBJ  AGE\n",
       "2       3   46\n",
       "11     12   39\n",
       "20     21   53\n",
       "29     30   46\n",
       "38     39   48\n",
       "47     48   49\n",
       "56     57   56\n",
       "65     66   50\n",
       "74     75   61\n",
       "83     84   57\n",
       "92     93   61\n",
       "101   102   50\n",
       "110   111   82\n",
       "119   120   69\n",
       "128   129   43\n",
       "137   138   46\n",
       "146   147   61\n",
       "155   156   61\n",
       "164   165   53\n",
       "173   174   62\n",
       "182   183   64"
      ]
     },
     "execution_count": 20,
     "metadata": {},
     "output_type": "execute_result"
    }
   ],
   "source": [
    "systematic_sample"
   ]
  },
  {
   "cell_type": "markdown",
   "metadata": {},
   "source": [
    "## **``Stratified_Sampling``**"
   ]
  },
  {
   "cell_type": "code",
   "execution_count": 237,
   "metadata": {},
   "outputs": [],
   "source": [
    "def stratified_sampling(strata_length,total_stratums,df,df_col,s_size=False,s_intervals=False):\n",
    "    \"\"\"\n",
    "    ``Description``: This function is created for below tasks:\n",
    "        1. Dividing the entire data into stratums\n",
    "        2. Generating systematic sample numbers for all the stratums\n",
    "        \n",
    "    ``Inputs``: It accepts below input parameters:\n",
    "        1. strata_length : Minimum number of records in each stratum\n",
    "        2. total_stratums : Number of stratums in which data needs to be divided\n",
    "        3. df : DataFrame having all the records\n",
    "        4. df_col : DataFrame column used for defining the classes or categories for stratums\n",
    "        5. s_size : Sample size\n",
    "        6. s_intervals : Represents k of systematic sampling(interval for separating the data values)\n",
    "        \n",
    "    ``Returns``: It returns below outputs:\n",
    "        1. stratums_dict : Data divided in stratums\n",
    "        2. intervals : Stratum ranges as per dataframe column\n",
    "        3. stratum_sys_numbers : Systematic sample numbers of each stratum based on dataframe column \n",
    "    \"\"\"\n",
    "    intervals = []\n",
    "    for i in range(total_stratums+1):\n",
    "        if intervals == []:\n",
    "            intervals.append(df[df_col].min())\n",
    "        elif intervals != []:\n",
    "            intervals.append(intervals[-1] + strata_length)\n",
    "    \n",
    "    stratums_dict = {}\n",
    "    for i in range(len(intervals)-1):\n",
    "        stratums_dict[i] = df[(df[df_col] >= intervals[i]) & (df[df_col] < intervals[i+1])]\n",
    "    \n",
    "    stratum_sample_numbers = {}\n",
    "    for i in all_stratums.keys():\n",
    "        stratum_sample_numbers[i] = gen_systematic_sampling_numbers([all_stratums[i][df_col].min()],all_stratums[i][df_col].max(),10,2)\n",
    "    return stratums_dict, intervals, stratum_sample_numbers"
   ]
  },
  {
   "cell_type": "code",
   "execution_count": 228,
   "metadata": {},
   "outputs": [],
   "source": [
    "all_stratums, stratum_ranges, stratum_sys_numbers = stratified_sampling(18,3,patient_id_age,'AGE')"
   ]
  },
  {
   "cell_type": "code",
   "execution_count": 229,
   "metadata": {},
   "outputs": [
    {
     "data": {
      "text/plain": [
       "[30, 48, 66, 84]"
      ]
     },
     "execution_count": 229,
     "metadata": {},
     "output_type": "execute_result"
    }
   ],
   "source": [
    "stratum_ranges"
   ]
  },
  {
   "cell_type": "code",
   "execution_count": 230,
   "metadata": {},
   "outputs": [
    {
     "data": {
      "text/plain": [
       "dict_keys([0, 1, 2])"
      ]
     },
     "execution_count": 230,
     "metadata": {},
     "output_type": "execute_result"
    }
   ],
   "source": [
    "all_stratums.keys()"
   ]
  },
  {
   "cell_type": "code",
   "execution_count": 231,
   "metadata": {},
   "outputs": [
    {
     "data": {
      "text/plain": [
       "((43, 2), (116, 2), (30, 2))"
      ]
     },
     "execution_count": 231,
     "metadata": {},
     "output_type": "execute_result"
    }
   ],
   "source": [
    "all_stratums[0].shape, all_stratums[1].shape, all_stratums[2].shape"
   ]
  },
  {
   "cell_type": "code",
   "execution_count": 232,
   "metadata": {},
   "outputs": [
    {
     "data": {
      "text/plain": [
       "{0: [30, 32, 34, 36, 38, 40, 42, 44, 46],\n",
       " 1: [48, 50, 52, 54, 56, 58, 60, 62, 64],\n",
       " 2: [66, 68, 70, 72, 74, 76, 78, 80]}"
      ]
     },
     "execution_count": 232,
     "metadata": {},
     "output_type": "execute_result"
    }
   ],
   "source": [
    "stratum_sys_numbers"
   ]
  },
  {
   "cell_type": "markdown",
   "metadata": {},
   "source": [
    "### **``Stratified Systematic Samples``**"
   ]
  },
  {
   "cell_type": "code",
   "execution_count": 233,
   "metadata": {},
   "outputs": [],
   "source": [
    "stratified_sample_1 = patient_id_age[patient_id_age['AGE'].isin(stratum_sys_numbers[0])]\n",
    "stratified_sample_2 = patient_id_age[patient_id_age['AGE'].isin(stratum_sys_numbers[1])]\n",
    "stratified_sample_3 = patient_id_age[patient_id_age['AGE'].isin(stratum_sys_numbers[2])]"
   ]
  },
  {
   "cell_type": "code",
   "execution_count": 234,
   "metadata": {},
   "outputs": [
    {
     "data": {
      "text/plain": [
       "((23, 2), (57, 2), (15, 2))"
      ]
     },
     "execution_count": 234,
     "metadata": {},
     "output_type": "execute_result"
    }
   ],
   "source": [
    "stratified_sample_1.shape, stratified_sample_2.shape, stratified_sample_3.shape"
   ]
  },
  {
   "cell_type": "markdown",
   "metadata": {},
   "source": [
    "## ***````Chapter-2 :: Descriptive Statistics````***"
   ]
  },
  {
   "cell_type": "code",
   "execution_count": 306,
   "metadata": {},
   "outputs": [
    {
     "data": {
      "text/html": [
       "<div>\n",
       "<style scoped>\n",
       "    .dataframe tbody tr th:only-of-type {\n",
       "        vertical-align: middle;\n",
       "    }\n",
       "\n",
       "    .dataframe tbody tr th {\n",
       "        vertical-align: top;\n",
       "    }\n",
       "\n",
       "    .dataframe thead th {\n",
       "        text-align: right;\n",
       "    }\n",
       "</style>\n",
       "<table border=\"1\" class=\"dataframe\">\n",
       "  <thead>\n",
       "    <tr style=\"text-align: right;\">\n",
       "      <th></th>\n",
       "      <th>SUBJ</th>\n",
       "      <th>AGE</th>\n",
       "    </tr>\n",
       "  </thead>\n",
       "  <tbody>\n",
       "    <tr>\n",
       "      <th>0</th>\n",
       "      <td>35</td>\n",
       "      <td>30</td>\n",
       "    </tr>\n",
       "    <tr>\n",
       "      <th>1</th>\n",
       "      <td>139</td>\n",
       "      <td>34</td>\n",
       "    </tr>\n",
       "    <tr>\n",
       "      <th>2</th>\n",
       "      <td>2</td>\n",
       "      <td>35</td>\n",
       "    </tr>\n",
       "    <tr>\n",
       "      <th>3</th>\n",
       "      <td>132</td>\n",
       "      <td>37</td>\n",
       "    </tr>\n",
       "    <tr>\n",
       "      <th>4</th>\n",
       "      <td>29</td>\n",
       "      <td>37</td>\n",
       "    </tr>\n",
       "    <tr>\n",
       "      <th>5</th>\n",
       "      <td>49</td>\n",
       "      <td>38</td>\n",
       "    </tr>\n",
       "    <tr>\n",
       "      <th>6</th>\n",
       "      <td>135</td>\n",
       "      <td>38</td>\n",
       "    </tr>\n",
       "    <tr>\n",
       "      <th>7</th>\n",
       "      <td>13</td>\n",
       "      <td>38</td>\n",
       "    </tr>\n",
       "    <tr>\n",
       "      <th>8</th>\n",
       "      <td>28</td>\n",
       "      <td>38</td>\n",
       "    </tr>\n",
       "    <tr>\n",
       "      <th>9</th>\n",
       "      <td>7</td>\n",
       "      <td>39</td>\n",
       "    </tr>\n",
       "  </tbody>\n",
       "</table>\n",
       "</div>"
      ],
      "text/plain": [
       "   SUBJ  AGE\n",
       "0    35   30\n",
       "1   139   34\n",
       "2     2   35\n",
       "3   132   37\n",
       "4    29   37\n",
       "5    49   38\n",
       "6   135   38\n",
       "7    13   38\n",
       "8    28   38\n",
       "9     7   39"
      ]
     },
     "execution_count": 306,
     "metadata": {},
     "output_type": "execute_result"
    }
   ],
   "source": [
    "patient_id_age.head(10)"
   ]
  },
  {
   "cell_type": "code",
   "execution_count": 246,
   "metadata": {},
   "outputs": [],
   "source": [
    "patient_id_age.sort_values(by='AGE',axis=0,ascending=True,inplace=True)\n",
    "patient_id_age.reset_index(drop=True,inplace=True)"
   ]
  },
  {
   "cell_type": "code",
   "execution_count": 248,
   "metadata": {},
   "outputs": [
    {
     "data": {
      "text/html": [
       "<div>\n",
       "<style scoped>\n",
       "    .dataframe tbody tr th:only-of-type {\n",
       "        vertical-align: middle;\n",
       "    }\n",
       "\n",
       "    .dataframe tbody tr th {\n",
       "        vertical-align: top;\n",
       "    }\n",
       "\n",
       "    .dataframe thead th {\n",
       "        text-align: right;\n",
       "    }\n",
       "</style>\n",
       "<table border=\"1\" class=\"dataframe\">\n",
       "  <thead>\n",
       "    <tr style=\"text-align: right;\">\n",
       "      <th></th>\n",
       "      <th>SUBJ</th>\n",
       "      <th>AGE</th>\n",
       "    </tr>\n",
       "  </thead>\n",
       "  <tbody>\n",
       "    <tr>\n",
       "      <th>0</th>\n",
       "      <td>35</td>\n",
       "      <td>30</td>\n",
       "    </tr>\n",
       "    <tr>\n",
       "      <th>1</th>\n",
       "      <td>139</td>\n",
       "      <td>34</td>\n",
       "    </tr>\n",
       "    <tr>\n",
       "      <th>2</th>\n",
       "      <td>2</td>\n",
       "      <td>35</td>\n",
       "    </tr>\n",
       "    <tr>\n",
       "      <th>3</th>\n",
       "      <td>132</td>\n",
       "      <td>37</td>\n",
       "    </tr>\n",
       "    <tr>\n",
       "      <th>4</th>\n",
       "      <td>29</td>\n",
       "      <td>37</td>\n",
       "    </tr>\n",
       "    <tr>\n",
       "      <th>5</th>\n",
       "      <td>49</td>\n",
       "      <td>38</td>\n",
       "    </tr>\n",
       "    <tr>\n",
       "      <th>6</th>\n",
       "      <td>135</td>\n",
       "      <td>38</td>\n",
       "    </tr>\n",
       "    <tr>\n",
       "      <th>7</th>\n",
       "      <td>13</td>\n",
       "      <td>38</td>\n",
       "    </tr>\n",
       "    <tr>\n",
       "      <th>8</th>\n",
       "      <td>28</td>\n",
       "      <td>38</td>\n",
       "    </tr>\n",
       "    <tr>\n",
       "      <th>9</th>\n",
       "      <td>7</td>\n",
       "      <td>39</td>\n",
       "    </tr>\n",
       "  </tbody>\n",
       "</table>\n",
       "</div>"
      ],
      "text/plain": [
       "   SUBJ  AGE\n",
       "0    35   30\n",
       "1   139   34\n",
       "2     2   35\n",
       "3   132   37\n",
       "4    29   37\n",
       "5    49   38\n",
       "6   135   38\n",
       "7    13   38\n",
       "8    28   38\n",
       "9     7   39"
      ]
     },
     "execution_count": 248,
     "metadata": {},
     "output_type": "execute_result"
    }
   ],
   "source": [
    "patient_id_age.head(10)"
   ]
  },
  {
   "cell_type": "code",
   "execution_count": 249,
   "metadata": {},
   "outputs": [
    {
     "data": {
      "text/plain": [
       "(189, 2)"
      ]
     },
     "execution_count": 249,
     "metadata": {},
     "output_type": "execute_result"
    }
   ],
   "source": [
    "patient_id_age.shape"
   ]
  },
  {
   "cell_type": "markdown",
   "metadata": {},
   "source": [
    "#### **``Frequency Distribution``**"
   ]
  },
  {
   "cell_type": "code",
   "execution_count": 296,
   "metadata": {},
   "outputs": [
    {
     "data": {
      "text/plain": [
       "(44, 2)"
      ]
     },
     "execution_count": 296,
     "metadata": {},
     "output_type": "execute_result"
    }
   ],
   "source": [
    "freq_dist = pd.DataFrame(patient_id_age.groupby(by='AGE')['SUBJ'].count())\n",
    "freq_dist.reset_index(inplace=True)\n",
    "freq_dist.shape"
   ]
  },
  {
   "cell_type": "code",
   "execution_count": 297,
   "metadata": {},
   "outputs": [],
   "source": [
    "freq_dist['AGE_CLASS'] = freq_dist['AGE'].apply(lambda val : \"[30-48]\" if (val >= 30) & (val <= 48) \n",
    "                                                else \"[49-67]\" if (val >= 49) & (val <= 67) \n",
    "                                                else \"[68-82]\")"
   ]
  },
  {
   "cell_type": "code",
   "execution_count": 281,
   "metadata": {},
   "outputs": [
    {
     "data": {
      "text/html": [
       "<div>\n",
       "<style scoped>\n",
       "    .dataframe tbody tr th:only-of-type {\n",
       "        vertical-align: middle;\n",
       "    }\n",
       "\n",
       "    .dataframe tbody tr th {\n",
       "        vertical-align: top;\n",
       "    }\n",
       "\n",
       "    .dataframe thead th {\n",
       "        text-align: right;\n",
       "    }\n",
       "</style>\n",
       "<table border=\"1\" class=\"dataframe\">\n",
       "  <thead>\n",
       "    <tr style=\"text-align: right;\">\n",
       "      <th></th>\n",
       "      <th>AGE</th>\n",
       "      <th>SUBJ</th>\n",
       "      <th>AGE_CLASS</th>\n",
       "    </tr>\n",
       "  </thead>\n",
       "  <tbody>\n",
       "    <tr>\n",
       "      <th>0</th>\n",
       "      <td>30</td>\n",
       "      <td>1</td>\n",
       "      <td>[30-48]</td>\n",
       "    </tr>\n",
       "    <tr>\n",
       "      <th>1</th>\n",
       "      <td>34</td>\n",
       "      <td>1</td>\n",
       "      <td>[30-48]</td>\n",
       "    </tr>\n",
       "    <tr>\n",
       "      <th>2</th>\n",
       "      <td>35</td>\n",
       "      <td>1</td>\n",
       "      <td>[30-48]</td>\n",
       "    </tr>\n",
       "    <tr>\n",
       "      <th>3</th>\n",
       "      <td>37</td>\n",
       "      <td>2</td>\n",
       "      <td>[30-48]</td>\n",
       "    </tr>\n",
       "    <tr>\n",
       "      <th>4</th>\n",
       "      <td>38</td>\n",
       "      <td>4</td>\n",
       "      <td>[30-48]</td>\n",
       "    </tr>\n",
       "    <tr>\n",
       "      <th>5</th>\n",
       "      <td>39</td>\n",
       "      <td>2</td>\n",
       "      <td>[30-48]</td>\n",
       "    </tr>\n",
       "    <tr>\n",
       "      <th>6</th>\n",
       "      <td>40</td>\n",
       "      <td>2</td>\n",
       "      <td>[30-48]</td>\n",
       "    </tr>\n",
       "    <tr>\n",
       "      <th>7</th>\n",
       "      <td>42</td>\n",
       "      <td>2</td>\n",
       "      <td>[30-48]</td>\n",
       "    </tr>\n",
       "    <tr>\n",
       "      <th>8</th>\n",
       "      <td>43</td>\n",
       "      <td>6</td>\n",
       "      <td>[30-48]</td>\n",
       "    </tr>\n",
       "    <tr>\n",
       "      <th>9</th>\n",
       "      <td>44</td>\n",
       "      <td>7</td>\n",
       "      <td>[30-48]</td>\n",
       "    </tr>\n",
       "    <tr>\n",
       "      <th>10</th>\n",
       "      <td>45</td>\n",
       "      <td>3</td>\n",
       "      <td>[30-48]</td>\n",
       "    </tr>\n",
       "    <tr>\n",
       "      <th>11</th>\n",
       "      <td>46</td>\n",
       "      <td>6</td>\n",
       "      <td>[30-48]</td>\n",
       "    </tr>\n",
       "    <tr>\n",
       "      <th>12</th>\n",
       "      <td>47</td>\n",
       "      <td>6</td>\n",
       "      <td>[30-48]</td>\n",
       "    </tr>\n",
       "    <tr>\n",
       "      <th>13</th>\n",
       "      <td>48</td>\n",
       "      <td>7</td>\n",
       "      <td>[30-48]</td>\n",
       "    </tr>\n",
       "    <tr>\n",
       "      <th>14</th>\n",
       "      <td>49</td>\n",
       "      <td>7</td>\n",
       "      <td>[49-67]</td>\n",
       "    </tr>\n",
       "    <tr>\n",
       "      <th>15</th>\n",
       "      <td>50</td>\n",
       "      <td>8</td>\n",
       "      <td>[49-67]</td>\n",
       "    </tr>\n",
       "    <tr>\n",
       "      <th>16</th>\n",
       "      <td>51</td>\n",
       "      <td>4</td>\n",
       "      <td>[49-67]</td>\n",
       "    </tr>\n",
       "    <tr>\n",
       "      <th>17</th>\n",
       "      <td>52</td>\n",
       "      <td>6</td>\n",
       "      <td>[49-67]</td>\n",
       "    </tr>\n",
       "    <tr>\n",
       "      <th>18</th>\n",
       "      <td>53</td>\n",
       "      <td>17</td>\n",
       "      <td>[49-67]</td>\n",
       "    </tr>\n",
       "    <tr>\n",
       "      <th>19</th>\n",
       "      <td>54</td>\n",
       "      <td>11</td>\n",
       "      <td>[49-67]</td>\n",
       "    </tr>\n",
       "    <tr>\n",
       "      <th>20</th>\n",
       "      <td>55</td>\n",
       "      <td>3</td>\n",
       "      <td>[49-67]</td>\n",
       "    </tr>\n",
       "    <tr>\n",
       "      <th>21</th>\n",
       "      <td>56</td>\n",
       "      <td>6</td>\n",
       "      <td>[49-67]</td>\n",
       "    </tr>\n",
       "    <tr>\n",
       "      <th>22</th>\n",
       "      <td>57</td>\n",
       "      <td>7</td>\n",
       "      <td>[49-67]</td>\n",
       "    </tr>\n",
       "    <tr>\n",
       "      <th>23</th>\n",
       "      <td>58</td>\n",
       "      <td>2</td>\n",
       "      <td>[49-67]</td>\n",
       "    </tr>\n",
       "    <tr>\n",
       "      <th>24</th>\n",
       "      <td>59</td>\n",
       "      <td>6</td>\n",
       "      <td>[49-67]</td>\n",
       "    </tr>\n",
       "    <tr>\n",
       "      <th>25</th>\n",
       "      <td>60</td>\n",
       "      <td>4</td>\n",
       "      <td>[49-67]</td>\n",
       "    </tr>\n",
       "    <tr>\n",
       "      <th>26</th>\n",
       "      <td>61</td>\n",
       "      <td>11</td>\n",
       "      <td>[49-67]</td>\n",
       "    </tr>\n",
       "    <tr>\n",
       "      <th>27</th>\n",
       "      <td>62</td>\n",
       "      <td>7</td>\n",
       "      <td>[49-67]</td>\n",
       "    </tr>\n",
       "    <tr>\n",
       "      <th>28</th>\n",
       "      <td>63</td>\n",
       "      <td>2</td>\n",
       "      <td>[49-67]</td>\n",
       "    </tr>\n",
       "    <tr>\n",
       "      <th>29</th>\n",
       "      <td>64</td>\n",
       "      <td>6</td>\n",
       "      <td>[49-67]</td>\n",
       "    </tr>\n",
       "    <tr>\n",
       "      <th>30</th>\n",
       "      <td>65</td>\n",
       "      <td>2</td>\n",
       "      <td>[49-67]</td>\n",
       "    </tr>\n",
       "    <tr>\n",
       "      <th>31</th>\n",
       "      <td>66</td>\n",
       "      <td>6</td>\n",
       "      <td>[49-67]</td>\n",
       "    </tr>\n",
       "    <tr>\n",
       "      <th>32</th>\n",
       "      <td>67</td>\n",
       "      <td>1</td>\n",
       "      <td>[49-67]</td>\n",
       "    </tr>\n",
       "    <tr>\n",
       "      <th>33</th>\n",
       "      <td>68</td>\n",
       "      <td>3</td>\n",
       "      <td>[68-82]</td>\n",
       "    </tr>\n",
       "    <tr>\n",
       "      <th>34</th>\n",
       "      <td>69</td>\n",
       "      <td>3</td>\n",
       "      <td>[68-82]</td>\n",
       "    </tr>\n",
       "    <tr>\n",
       "      <th>35</th>\n",
       "      <td>70</td>\n",
       "      <td>1</td>\n",
       "      <td>[68-82]</td>\n",
       "    </tr>\n",
       "    <tr>\n",
       "      <th>36</th>\n",
       "      <td>71</td>\n",
       "      <td>7</td>\n",
       "      <td>[68-82]</td>\n",
       "    </tr>\n",
       "    <tr>\n",
       "      <th>37</th>\n",
       "      <td>72</td>\n",
       "      <td>1</td>\n",
       "      <td>[68-82]</td>\n",
       "    </tr>\n",
       "    <tr>\n",
       "      <th>38</th>\n",
       "      <td>73</td>\n",
       "      <td>1</td>\n",
       "      <td>[68-82]</td>\n",
       "    </tr>\n",
       "    <tr>\n",
       "      <th>39</th>\n",
       "      <td>75</td>\n",
       "      <td>1</td>\n",
       "      <td>[68-82]</td>\n",
       "    </tr>\n",
       "    <tr>\n",
       "      <th>40</th>\n",
       "      <td>76</td>\n",
       "      <td>1</td>\n",
       "      <td>[68-82]</td>\n",
       "    </tr>\n",
       "    <tr>\n",
       "      <th>41</th>\n",
       "      <td>77</td>\n",
       "      <td>1</td>\n",
       "      <td>[68-82]</td>\n",
       "    </tr>\n",
       "    <tr>\n",
       "      <th>42</th>\n",
       "      <td>78</td>\n",
       "      <td>3</td>\n",
       "      <td>[68-82]</td>\n",
       "    </tr>\n",
       "    <tr>\n",
       "      <th>43</th>\n",
       "      <td>82</td>\n",
       "      <td>1</td>\n",
       "      <td>[68-82]</td>\n",
       "    </tr>\n",
       "  </tbody>\n",
       "</table>\n",
       "</div>"
      ],
      "text/plain": [
       "    AGE  SUBJ AGE_CLASS\n",
       "0    30     1   [30-48]\n",
       "1    34     1   [30-48]\n",
       "2    35     1   [30-48]\n",
       "3    37     2   [30-48]\n",
       "4    38     4   [30-48]\n",
       "5    39     2   [30-48]\n",
       "6    40     2   [30-48]\n",
       "7    42     2   [30-48]\n",
       "8    43     6   [30-48]\n",
       "9    44     7   [30-48]\n",
       "10   45     3   [30-48]\n",
       "11   46     6   [30-48]\n",
       "12   47     6   [30-48]\n",
       "13   48     7   [30-48]\n",
       "14   49     7   [49-67]\n",
       "15   50     8   [49-67]\n",
       "16   51     4   [49-67]\n",
       "17   52     6   [49-67]\n",
       "18   53    17   [49-67]\n",
       "19   54    11   [49-67]\n",
       "20   55     3   [49-67]\n",
       "21   56     6   [49-67]\n",
       "22   57     7   [49-67]\n",
       "23   58     2   [49-67]\n",
       "24   59     6   [49-67]\n",
       "25   60     4   [49-67]\n",
       "26   61    11   [49-67]\n",
       "27   62     7   [49-67]\n",
       "28   63     2   [49-67]\n",
       "29   64     6   [49-67]\n",
       "30   65     2   [49-67]\n",
       "31   66     6   [49-67]\n",
       "32   67     1   [49-67]\n",
       "33   68     3   [68-82]\n",
       "34   69     3   [68-82]\n",
       "35   70     1   [68-82]\n",
       "36   71     7   [68-82]\n",
       "37   72     1   [68-82]\n",
       "38   73     1   [68-82]\n",
       "39   75     1   [68-82]\n",
       "40   76     1   [68-82]\n",
       "41   77     1   [68-82]\n",
       "42   78     3   [68-82]\n",
       "43   82     1   [68-82]"
      ]
     },
     "execution_count": 281,
     "metadata": {},
     "output_type": "execute_result"
    }
   ],
   "source": [
    "freq_dist"
   ]
  },
  {
   "cell_type": "code",
   "execution_count": 298,
   "metadata": {},
   "outputs": [
    {
     "data": {
      "text/html": [
       "<div>\n",
       "<style scoped>\n",
       "    .dataframe tbody tr th:only-of-type {\n",
       "        vertical-align: middle;\n",
       "    }\n",
       "\n",
       "    .dataframe tbody tr th {\n",
       "        vertical-align: top;\n",
       "    }\n",
       "\n",
       "    .dataframe thead th {\n",
       "        text-align: right;\n",
       "    }\n",
       "</style>\n",
       "<table border=\"1\" class=\"dataframe\">\n",
       "  <thead>\n",
       "    <tr style=\"text-align: right;\">\n",
       "      <th></th>\n",
       "      <th>AGE_CLASS</th>\n",
       "      <th>FREQ</th>\n",
       "    </tr>\n",
       "  </thead>\n",
       "  <tbody>\n",
       "    <tr>\n",
       "      <th>0</th>\n",
       "      <td>[30-48]</td>\n",
       "      <td>50</td>\n",
       "    </tr>\n",
       "    <tr>\n",
       "      <th>1</th>\n",
       "      <td>[49-67]</td>\n",
       "      <td>116</td>\n",
       "    </tr>\n",
       "    <tr>\n",
       "      <th>2</th>\n",
       "      <td>[68-82]</td>\n",
       "      <td>23</td>\n",
       "    </tr>\n",
       "  </tbody>\n",
       "</table>\n",
       "</div>"
      ],
      "text/plain": [
       "  AGE_CLASS  FREQ\n",
       "0   [30-48]    50\n",
       "1   [49-67]   116\n",
       "2   [68-82]    23"
      ]
     },
     "execution_count": 298,
     "metadata": {},
     "output_type": "execute_result"
    }
   ],
   "source": [
    "freq_dist = pd.DataFrame(freq_dist.groupby(by='AGE_CLASS')['SUBJ'].sum())\n",
    "freq_dist.reset_index(inplace=True)\n",
    "freq_dist.columns = ['AGE_CLASS', 'FREQ']\n",
    "freq_dist"
   ]
  },
  {
   "cell_type": "markdown",
   "metadata": {},
   "source": [
    "#### **``Sturges Equation or Rule``** **for creating the intervals in data for Frequency Distribution**"
   ]
  },
  {
   "cell_type": "markdown",
   "metadata": {},
   "source": [
    "\\begin{align}\n",
    "\\ k & = 1 + 3.322 (log_{10} n)\n",
    "\\end{align}\n",
    "\n",
    "##### Here, n is number of observations in your sample. And, k is the number of intervals that be formed out of your data.\n",
    "- ***For example***: Based on our dataset, we have total of 189 records or observations. Therefore, using **``Sturges formula``** number of intervals that we can form in our dataset is:\n",
    "\n",
    "\\begin{align}\n",
    "\\\\ k & = 1 + 3.322 (log_{10} 189)\n",
    "\\\\ k & = 1 + 3.322 (2.27646)\n",
    "\\\\ k & = 8.56\n",
    "\\\\ k & \\approx 9\n",
    "\\end{align}\n",
    "\n",
    "Here, k can be used as the number of intervals or the range of the interval. But, not everytime the class width is equal to k. Therefore, to find the class widths use below formula:\n",
    "\\begin{align}\n",
    "\\\\ w & = R / k\n",
    "\\\\ R & = (Greatest \\ value - Smallest \\ value)\n",
    "\\\\ w & = It \\ is \\ classwidth\n",
    "\\end{align}\n",
    "\n",
    "- ***For example***:\n",
    "\\begin{align}\n",
    "\\\\ w & = (82 - 30) / 9\n",
    "\\\\ w & = 6\n",
    "\\end{align}"
   ]
  },
  {
   "cell_type": "markdown",
   "metadata": {},
   "source": [
    "### **``Relative Frequency and Cumulative Requency``**"
   ]
  },
  {
   "cell_type": "code",
   "execution_count": 293,
   "metadata": {},
   "outputs": [
    {
     "data": {
      "text/html": [
       "<div>\n",
       "<style scoped>\n",
       "    .dataframe tbody tr th:only-of-type {\n",
       "        vertical-align: middle;\n",
       "    }\n",
       "\n",
       "    .dataframe tbody tr th {\n",
       "        vertical-align: top;\n",
       "    }\n",
       "\n",
       "    .dataframe thead th {\n",
       "        text-align: right;\n",
       "    }\n",
       "</style>\n",
       "<table border=\"1\" class=\"dataframe\">\n",
       "  <thead>\n",
       "    <tr style=\"text-align: right;\">\n",
       "      <th></th>\n",
       "      <th>AGE_CLASS</th>\n",
       "      <th>FREQ</th>\n",
       "    </tr>\n",
       "  </thead>\n",
       "  <tbody>\n",
       "    <tr>\n",
       "      <th>0</th>\n",
       "      <td>[30-48]</td>\n",
       "      <td>50</td>\n",
       "    </tr>\n",
       "    <tr>\n",
       "      <th>1</th>\n",
       "      <td>[49-67]</td>\n",
       "      <td>116</td>\n",
       "    </tr>\n",
       "    <tr>\n",
       "      <th>2</th>\n",
       "      <td>[68-82]</td>\n",
       "      <td>23</td>\n",
       "    </tr>\n",
       "  </tbody>\n",
       "</table>\n",
       "</div>"
      ],
      "text/plain": [
       "  AGE_CLASS  FREQ\n",
       "0   [30-48]    50\n",
       "1   [49-67]   116\n",
       "2   [68-82]    23"
      ]
     },
     "execution_count": 293,
     "metadata": {},
     "output_type": "execute_result"
    }
   ],
   "source": [
    "freq_dist"
   ]
  },
  {
   "cell_type": "code",
   "execution_count": 299,
   "metadata": {},
   "outputs": [],
   "source": [
    "freq_dist['R_FREQ'] = (freq_dist['FREQ']/freq_dist['FREQ'].sum())*100"
   ]
  },
  {
   "cell_type": "code",
   "execution_count": 302,
   "metadata": {},
   "outputs": [
    {
     "data": {
      "text/html": [
       "<div>\n",
       "<style scoped>\n",
       "    .dataframe tbody tr th:only-of-type {\n",
       "        vertical-align: middle;\n",
       "    }\n",
       "\n",
       "    .dataframe tbody tr th {\n",
       "        vertical-align: top;\n",
       "    }\n",
       "\n",
       "    .dataframe thead th {\n",
       "        text-align: right;\n",
       "    }\n",
       "</style>\n",
       "<table border=\"1\" class=\"dataframe\">\n",
       "  <thead>\n",
       "    <tr style=\"text-align: right;\">\n",
       "      <th></th>\n",
       "      <th>AGE_CLASS</th>\n",
       "      <th>FREQ</th>\n",
       "      <th>R_FREQ</th>\n",
       "    </tr>\n",
       "  </thead>\n",
       "  <tbody>\n",
       "    <tr>\n",
       "      <th>0</th>\n",
       "      <td>[30-48]</td>\n",
       "      <td>50</td>\n",
       "      <td>26.455026</td>\n",
       "    </tr>\n",
       "    <tr>\n",
       "      <th>1</th>\n",
       "      <td>[49-67]</td>\n",
       "      <td>116</td>\n",
       "      <td>61.375661</td>\n",
       "    </tr>\n",
       "    <tr>\n",
       "      <th>2</th>\n",
       "      <td>[68-82]</td>\n",
       "      <td>23</td>\n",
       "      <td>12.169312</td>\n",
       "    </tr>\n",
       "  </tbody>\n",
       "</table>\n",
       "</div>"
      ],
      "text/plain": [
       "  AGE_CLASS  FREQ     R_FREQ\n",
       "0   [30-48]    50  26.455026\n",
       "1   [49-67]   116  61.375661\n",
       "2   [68-82]    23  12.169312"
      ]
     },
     "execution_count": 302,
     "metadata": {},
     "output_type": "execute_result"
    }
   ],
   "source": [
    "freq_dist"
   ]
  },
  {
   "cell_type": "code",
   "execution_count": 303,
   "metadata": {},
   "outputs": [],
   "source": [
    "freq_dist['CUM_FREQ'] = freq_dist['R_FREQ'].cumsum()"
   ]
  },
  {
   "cell_type": "code",
   "execution_count": 304,
   "metadata": {},
   "outputs": [
    {
     "data": {
      "text/html": [
       "<div>\n",
       "<style scoped>\n",
       "    .dataframe tbody tr th:only-of-type {\n",
       "        vertical-align: middle;\n",
       "    }\n",
       "\n",
       "    .dataframe tbody tr th {\n",
       "        vertical-align: top;\n",
       "    }\n",
       "\n",
       "    .dataframe thead th {\n",
       "        text-align: right;\n",
       "    }\n",
       "</style>\n",
       "<table border=\"1\" class=\"dataframe\">\n",
       "  <thead>\n",
       "    <tr style=\"text-align: right;\">\n",
       "      <th></th>\n",
       "      <th>AGE_CLASS</th>\n",
       "      <th>FREQ</th>\n",
       "      <th>R_FREQ</th>\n",
       "      <th>CUM_FREQ</th>\n",
       "    </tr>\n",
       "  </thead>\n",
       "  <tbody>\n",
       "    <tr>\n",
       "      <th>0</th>\n",
       "      <td>[30-48]</td>\n",
       "      <td>50</td>\n",
       "      <td>26.455026</td>\n",
       "      <td>26.455026</td>\n",
       "    </tr>\n",
       "    <tr>\n",
       "      <th>1</th>\n",
       "      <td>[49-67]</td>\n",
       "      <td>116</td>\n",
       "      <td>61.375661</td>\n",
       "      <td>87.830688</td>\n",
       "    </tr>\n",
       "    <tr>\n",
       "      <th>2</th>\n",
       "      <td>[68-82]</td>\n",
       "      <td>23</td>\n",
       "      <td>12.169312</td>\n",
       "      <td>100.000000</td>\n",
       "    </tr>\n",
       "  </tbody>\n",
       "</table>\n",
       "</div>"
      ],
      "text/plain": [
       "  AGE_CLASS  FREQ     R_FREQ    CUM_FREQ\n",
       "0   [30-48]    50  26.455026   26.455026\n",
       "1   [49-67]   116  61.375661   87.830688\n",
       "2   [68-82]    23  12.169312  100.000000"
      ]
     },
     "execution_count": 304,
     "metadata": {},
     "output_type": "execute_result"
    }
   ],
   "source": [
    "freq_dist"
   ]
  },
  {
   "cell_type": "code",
   "execution_count": null,
   "metadata": {},
   "outputs": [],
   "source": []
  },
  {
   "cell_type": "code",
   "execution_count": null,
   "metadata": {},
   "outputs": [],
   "source": []
  },
  {
   "cell_type": "code",
   "execution_count": null,
   "metadata": {},
   "outputs": [],
   "source": []
  },
  {
   "cell_type": "code",
   "execution_count": null,
   "metadata": {},
   "outputs": [],
   "source": []
  },
  {
   "cell_type": "code",
   "execution_count": null,
   "metadata": {},
   "outputs": [],
   "source": []
  }
 ],
 "metadata": {
  "kernelspec": {
   "display_name": "Python 3",
   "language": "python",
   "name": "python3"
  },
  "language_info": {
   "codemirror_mode": {
    "name": "ipython",
    "version": 3
   },
   "file_extension": ".py",
   "mimetype": "text/x-python",
   "name": "python",
   "nbconvert_exporter": "python",
   "pygments_lexer": "ipython3",
   "version": "3.7.3"
  }
 },
 "nbformat": 4,
 "nbformat_minor": 4
}
