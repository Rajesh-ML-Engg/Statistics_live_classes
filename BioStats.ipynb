{
 "cells": [
  {
   "cell_type": "markdown",
   "metadata": {},
   "source": [
    "# **``BioStatistics``**\n",
    "#### **``Foundation for Data Analysis in Health & Medical Sciences``**"
   ]
  },
  {
   "cell_type": "markdown",
   "metadata": {},
   "source": [
    "## ***````Chapter-1 :: Introduction for Statistics````***"
   ]
  },
  {
   "cell_type": "markdown",
   "metadata": {},
   "source": [
    "##### **``Statistics``** is the field of study concerning:\n",
    "- Collection of data\n",
    "- Organizing the data\n",
    "- Summarizing the data\n",
    "- Analysing the data\n",
    "- And, drawing the conclusions for the population or entire body of data by studying the part of it"
   ]
  },
  {
   "cell_type": "markdown",
   "metadata": {},
   "source": [
    "##### There can be various **``Sources of data``**:\n",
    "- **Routinely kept records**\n",
    "    - ***For example***: In hospital most of the records like patient entires or number of patients treated in a day are the prime examples of electronic records.\n",
    "\n",
    "\n",
    "- **Surveys**\n",
    "    - These helps us in collecting the data other than the routinely kept records for finding the answer of a question. \n",
    "    - ***For example***: An administrator of a clinic wishes to obtain information regarding the mode of transportation used by patients to visit the clinic. If admission forms do not contain a question on mode of transportation, we may conduct a survey among patients to obtain this information.\n",
    "\n",
    "\n",
    "- **Experiments**\n",
    "    - ***For example***: A doctor is trying to find out whether a newly created drug helps in lowering the level of bad choloestrol.\n",
    "\n",
    "\n",
    "- **External Sources**\n",
    "    - ***For example***: Already published reports or someone has already worked on the question or problem that you are trying to solve/answer."
   ]
  },
  {
   "cell_type": "markdown",
   "metadata": {},
   "source": [
    "#### **``BioStatistics``**\n",
    "- When you are dealing with data that is derived from the biological science or medicine science.\n",
    "    - ***For example***: Cornoary Heart Disease data, Dopamine effect data, ASD data and others.\n",
    "\n",
    "\n",
    "#### **``Variable``**\n",
    "- An attribute in the data set that contains the values or characteristics of different people/subjects involved in the population or boday of data.\n",
    "    - ***For example***: Blood Sugar, Heart Rate, Cholestrol level and others.\n",
    "\n",
    "\n",
    "#### **``Random Variable``**\n",
    "- A variable whose value is dependent on various factors and cannot be exactly predicted in advance.\n",
    "    - ***For example***: What will be the height and weight of the newly born child after 20 years. Here, height and weight are the attributes which are dependent on the DNA composition or genetics or other external factors.\n",
    "\n",
    "\n",
    "#### **``Measurement``**\n",
    "- It is the unit or scale in which the data of a variable is expressed or collected. \n",
    "    - ***For example***: Nominal Scale, Ordinal Scale, Interval scale and Units like kilograms, centimeters etc.\n",
    "    \n",
    "    \n",
    "#### **``Statistical Inference``**\n",
    "- It is the process or procedure in which we use the decriptive statistics(analyse the sample) to estimate the value of the population parameter."
   ]
  },
  {
   "cell_type": "markdown",
   "metadata": {},
   "source": [
    "#### **``How to collect the sample``**\n",
    "- **Simple Random Sampling**\n",
    "    - When every record has a equal probability of being picked up from the population.\n",
    "        - There are two ways associated with Simple Random Sampling:\n",
    "            - **Sample with replacement**\n",
    "                - It means a sample record picked from the population, also exits in the popualtion and can be picked-up again from the population to be a part of the sample.\n",
    "            - **Sample without replacement**\n",
    "                - It means a sample record once picked from the population, kept aside so that it cannot be picked again or cannot occur more than once in the sample.\n",
    "- **Systematic Sampling**\n",
    "    - It is the way in which sample observations are picked in certain manner.\n",
    "        - ***For example***: x is the user provided or any random number. k is the gap or interval from the next number.\n",
    "        - x, x+k, x+2k, x+3k, x+4k, x+5k, x+6k, ...... , x+nk\n",
    "- **Stratified Sampling**\n",
    "    - It is the way in which population data has been divided into various categories or classes and observations are randomly picked up from each class.\n",
    "    - These different classes are referred as Stratums. And, from each Stratum you can pick the sample based upon its strength or fixed number of instances from every strata or using systematic sampling in stratums."
   ]
  },
  {
   "cell_type": "markdown",
   "metadata": {},
   "source": [
    "#### **``Scientific method or Design of Experiments``**"
   ]
  },
  {
   "cell_type": "markdown",
   "metadata": {},
   "source": [
    "#### **Making an observation**: \n",
    "- An observation is made of a phenomenon or a group of phenomena.\n",
    "    - For example, it is readily observable that regular exercise reduces body weight in many people. It is also readily observable that changing diet may have a similar effect. In this case there are two observable phenomena, regular exercise and diet change, that have the same endpoint.\n",
    "    \n",
    "\n",
    "#### **Formulating a Hypothesis**:\n",
    "- A statistical hypothesis is like \"The average (mean) loss of body weight of people who exercise is greater than the average (mean) loss of body weight of people who do not exercise.\" In this statement a quantitative measure, the “average” or “mean” value, is hypothesized to be greater in the sample of patients who exercise.\n",
    "\n",
    "\n",
    "#### **Designing an Experiment**:\n",
    "- The third step of the scientific method involves designing an experiment that will yield the data necessary to validly test an appropriate statistical hypothesis. \n",
    "- This step of the scientific method, like that of data analysis, requires the expertise of a statistician. \n",
    "- Improperly designed experiments are the leading cause of invalid results and unjustified conclusions. \n",
    "- Further, most studies that are challenged by experts are challenged on the basis of the appropriateness or inappropriateness of the study’s research design.   "
   ]
  },
  {
   "cell_type": "code",
   "execution_count": 1,
   "metadata": {},
   "outputs": [],
   "source": [
    "import numpy as np\n",
    "import pandas as pd\n",
    "import matplotlib.pyplot as plt\n",
    "import stemgraphic as stem\n",
    "\n",
    "%matplotlib inline"
   ]
  },
  {
   "cell_type": "code",
   "execution_count": 2,
   "metadata": {},
   "outputs": [],
   "source": [
    "patient_id_age = pd.read_csv(\"ch01_all/EXA_C01_S04_01.csv\")"
   ]
  },
  {
   "cell_type": "code",
   "execution_count": 3,
   "metadata": {},
   "outputs": [
    {
     "data": {
      "text/html": [
       "<div>\n",
       "<style scoped>\n",
       "    .dataframe tbody tr th:only-of-type {\n",
       "        vertical-align: middle;\n",
       "    }\n",
       "\n",
       "    .dataframe tbody tr th {\n",
       "        vertical-align: top;\n",
       "    }\n",
       "\n",
       "    .dataframe thead th {\n",
       "        text-align: right;\n",
       "    }\n",
       "</style>\n",
       "<table border=\"1\" class=\"dataframe\">\n",
       "  <thead>\n",
       "    <tr style=\"text-align: right;\">\n",
       "      <th></th>\n",
       "      <th>SUBJ</th>\n",
       "      <th>AGE</th>\n",
       "    </tr>\n",
       "  </thead>\n",
       "  <tbody>\n",
       "    <tr>\n",
       "      <th>count</th>\n",
       "      <td>189.000000</td>\n",
       "      <td>189.000000</td>\n",
       "    </tr>\n",
       "    <tr>\n",
       "      <th>mean</th>\n",
       "      <td>95.000000</td>\n",
       "      <td>55.031746</td>\n",
       "    </tr>\n",
       "    <tr>\n",
       "      <th>std</th>\n",
       "      <td>54.703748</td>\n",
       "      <td>9.914477</td>\n",
       "    </tr>\n",
       "    <tr>\n",
       "      <th>min</th>\n",
       "      <td>1.000000</td>\n",
       "      <td>30.000000</td>\n",
       "    </tr>\n",
       "    <tr>\n",
       "      <th>25%</th>\n",
       "      <td>48.000000</td>\n",
       "      <td>48.000000</td>\n",
       "    </tr>\n",
       "    <tr>\n",
       "      <th>50%</th>\n",
       "      <td>95.000000</td>\n",
       "      <td>54.000000</td>\n",
       "    </tr>\n",
       "    <tr>\n",
       "      <th>75%</th>\n",
       "      <td>142.000000</td>\n",
       "      <td>61.000000</td>\n",
       "    </tr>\n",
       "    <tr>\n",
       "      <th>max</th>\n",
       "      <td>189.000000</td>\n",
       "      <td>82.000000</td>\n",
       "    </tr>\n",
       "  </tbody>\n",
       "</table>\n",
       "</div>"
      ],
      "text/plain": [
       "             SUBJ         AGE\n",
       "count  189.000000  189.000000\n",
       "mean    95.000000   55.031746\n",
       "std     54.703748    9.914477\n",
       "min      1.000000   30.000000\n",
       "25%     48.000000   48.000000\n",
       "50%     95.000000   54.000000\n",
       "75%    142.000000   61.000000\n",
       "max    189.000000   82.000000"
      ]
     },
     "execution_count": 3,
     "metadata": {},
     "output_type": "execute_result"
    }
   ],
   "source": [
    "patient_id_age.describe()"
   ]
  },
  {
   "cell_type": "code",
   "execution_count": 4,
   "metadata": {},
   "outputs": [
    {
     "data": {
      "text/html": [
       "<div>\n",
       "<style scoped>\n",
       "    .dataframe tbody tr th:only-of-type {\n",
       "        vertical-align: middle;\n",
       "    }\n",
       "\n",
       "    .dataframe tbody tr th {\n",
       "        vertical-align: top;\n",
       "    }\n",
       "\n",
       "    .dataframe thead th {\n",
       "        text-align: right;\n",
       "    }\n",
       "</style>\n",
       "<table border=\"1\" class=\"dataframe\">\n",
       "  <thead>\n",
       "    <tr style=\"text-align: right;\">\n",
       "      <th></th>\n",
       "      <th>SUBJ</th>\n",
       "      <th>AGE</th>\n",
       "    </tr>\n",
       "  </thead>\n",
       "  <tbody>\n",
       "    <tr>\n",
       "      <th>0</th>\n",
       "      <td>1</td>\n",
       "      <td>48</td>\n",
       "    </tr>\n",
       "    <tr>\n",
       "      <th>1</th>\n",
       "      <td>2</td>\n",
       "      <td>35</td>\n",
       "    </tr>\n",
       "    <tr>\n",
       "      <th>2</th>\n",
       "      <td>3</td>\n",
       "      <td>46</td>\n",
       "    </tr>\n",
       "    <tr>\n",
       "      <th>3</th>\n",
       "      <td>4</td>\n",
       "      <td>44</td>\n",
       "    </tr>\n",
       "    <tr>\n",
       "      <th>4</th>\n",
       "      <td>5</td>\n",
       "      <td>43</td>\n",
       "    </tr>\n",
       "    <tr>\n",
       "      <th>5</th>\n",
       "      <td>6</td>\n",
       "      <td>42</td>\n",
       "    </tr>\n",
       "    <tr>\n",
       "      <th>6</th>\n",
       "      <td>7</td>\n",
       "      <td>39</td>\n",
       "    </tr>\n",
       "    <tr>\n",
       "      <th>7</th>\n",
       "      <td>8</td>\n",
       "      <td>44</td>\n",
       "    </tr>\n",
       "    <tr>\n",
       "      <th>8</th>\n",
       "      <td>9</td>\n",
       "      <td>49</td>\n",
       "    </tr>\n",
       "    <tr>\n",
       "      <th>9</th>\n",
       "      <td>10</td>\n",
       "      <td>49</td>\n",
       "    </tr>\n",
       "    <tr>\n",
       "      <th>10</th>\n",
       "      <td>11</td>\n",
       "      <td>44</td>\n",
       "    </tr>\n",
       "    <tr>\n",
       "      <th>11</th>\n",
       "      <td>12</td>\n",
       "      <td>39</td>\n",
       "    </tr>\n",
       "    <tr>\n",
       "      <th>12</th>\n",
       "      <td>13</td>\n",
       "      <td>38</td>\n",
       "    </tr>\n",
       "    <tr>\n",
       "      <th>13</th>\n",
       "      <td>14</td>\n",
       "      <td>49</td>\n",
       "    </tr>\n",
       "    <tr>\n",
       "      <th>14</th>\n",
       "      <td>15</td>\n",
       "      <td>49</td>\n",
       "    </tr>\n",
       "  </tbody>\n",
       "</table>\n",
       "</div>"
      ],
      "text/plain": [
       "    SUBJ  AGE\n",
       "0      1   48\n",
       "1      2   35\n",
       "2      3   46\n",
       "3      4   44\n",
       "4      5   43\n",
       "5      6   42\n",
       "6      7   39\n",
       "7      8   44\n",
       "8      9   49\n",
       "9     10   49\n",
       "10    11   44\n",
       "11    12   39\n",
       "12    13   38\n",
       "13    14   49\n",
       "14    15   49"
      ]
     },
     "execution_count": 4,
     "metadata": {},
     "output_type": "execute_result"
    }
   ],
   "source": [
    "patient_id_age.head(15)"
   ]
  },
  {
   "cell_type": "code",
   "execution_count": 5,
   "metadata": {},
   "outputs": [
    {
     "data": {
      "text/plain": [
       "(189, 2)"
      ]
     },
     "execution_count": 5,
     "metadata": {},
     "output_type": "execute_result"
    }
   ],
   "source": [
    "patient_id_age.shape"
   ]
  },
  {
   "cell_type": "markdown",
   "metadata": {},
   "source": [
    "## **``Simple_Random_Sampling``**"
   ]
  },
  {
   "cell_type": "code",
   "execution_count": 6,
   "metadata": {},
   "outputs": [],
   "source": [
    "simple_random_numbers = [val for val in np.random.randint(low=1,high=patient_id_age.shape[0]+1,size=14)]"
   ]
  },
  {
   "cell_type": "code",
   "execution_count": 7,
   "metadata": {},
   "outputs": [
    {
     "data": {
      "text/plain": [
       "[63, 121, 107, 27, 54, 124, 83, 60, 90, 134, 142, 44, 101, 11]"
      ]
     },
     "execution_count": 7,
     "metadata": {},
     "output_type": "execute_result"
    }
   ],
   "source": [
    "simple_random_numbers"
   ]
  },
  {
   "cell_type": "code",
   "execution_count": 8,
   "metadata": {},
   "outputs": [],
   "source": [
    "simple_random_sample = patient_id_age[patient_id_age['SUBJ'].isin(simple_random_numbers)]"
   ]
  },
  {
   "cell_type": "code",
   "execution_count": 9,
   "metadata": {},
   "outputs": [
    {
     "data": {
      "text/html": [
       "<div>\n",
       "<style scoped>\n",
       "    .dataframe tbody tr th:only-of-type {\n",
       "        vertical-align: middle;\n",
       "    }\n",
       "\n",
       "    .dataframe tbody tr th {\n",
       "        vertical-align: top;\n",
       "    }\n",
       "\n",
       "    .dataframe thead th {\n",
       "        text-align: right;\n",
       "    }\n",
       "</style>\n",
       "<table border=\"1\" class=\"dataframe\">\n",
       "  <thead>\n",
       "    <tr style=\"text-align: right;\">\n",
       "      <th></th>\n",
       "      <th>SUBJ</th>\n",
       "      <th>AGE</th>\n",
       "    </tr>\n",
       "  </thead>\n",
       "  <tbody>\n",
       "    <tr>\n",
       "      <th>10</th>\n",
       "      <td>11</td>\n",
       "      <td>44</td>\n",
       "    </tr>\n",
       "    <tr>\n",
       "      <th>26</th>\n",
       "      <td>27</td>\n",
       "      <td>67</td>\n",
       "    </tr>\n",
       "    <tr>\n",
       "      <th>43</th>\n",
       "      <td>44</td>\n",
       "      <td>43</td>\n",
       "    </tr>\n",
       "    <tr>\n",
       "      <th>53</th>\n",
       "      <td>54</td>\n",
       "      <td>57</td>\n",
       "    </tr>\n",
       "    <tr>\n",
       "      <th>59</th>\n",
       "      <td>60</td>\n",
       "      <td>53</td>\n",
       "    </tr>\n",
       "    <tr>\n",
       "      <th>62</th>\n",
       "      <td>63</td>\n",
       "      <td>59</td>\n",
       "    </tr>\n",
       "    <tr>\n",
       "      <th>82</th>\n",
       "      <td>83</td>\n",
       "      <td>62</td>\n",
       "    </tr>\n",
       "    <tr>\n",
       "      <th>89</th>\n",
       "      <td>90</td>\n",
       "      <td>59</td>\n",
       "    </tr>\n",
       "    <tr>\n",
       "      <th>100</th>\n",
       "      <td>101</td>\n",
       "      <td>63</td>\n",
       "    </tr>\n",
       "    <tr>\n",
       "      <th>106</th>\n",
       "      <td>107</td>\n",
       "      <td>56</td>\n",
       "    </tr>\n",
       "    <tr>\n",
       "      <th>120</th>\n",
       "      <td>121</td>\n",
       "      <td>78</td>\n",
       "    </tr>\n",
       "    <tr>\n",
       "      <th>123</th>\n",
       "      <td>124</td>\n",
       "      <td>71</td>\n",
       "    </tr>\n",
       "    <tr>\n",
       "      <th>133</th>\n",
       "      <td>134</td>\n",
       "      <td>42</td>\n",
       "    </tr>\n",
       "    <tr>\n",
       "      <th>141</th>\n",
       "      <td>142</td>\n",
       "      <td>48</td>\n",
       "    </tr>\n",
       "  </tbody>\n",
       "</table>\n",
       "</div>"
      ],
      "text/plain": [
       "     SUBJ  AGE\n",
       "10     11   44\n",
       "26     27   67\n",
       "43     44   43\n",
       "53     54   57\n",
       "59     60   53\n",
       "62     63   59\n",
       "82     83   62\n",
       "89     90   59\n",
       "100   101   63\n",
       "106   107   56\n",
       "120   121   78\n",
       "123   124   71\n",
       "133   134   42\n",
       "141   142   48"
      ]
     },
     "execution_count": 9,
     "metadata": {},
     "output_type": "execute_result"
    }
   ],
   "source": [
    "simple_random_sample"
   ]
  },
  {
   "cell_type": "markdown",
   "metadata": {},
   "source": [
    "## **``Systematic_Random_Sampling``**"
   ]
  },
  {
   "cell_type": "code",
   "execution_count": 10,
   "metadata": {},
   "outputs": [],
   "source": [
    "first_number = np.random.randint(low=1,high=5,size=1,dtype=np.int)"
   ]
  },
  {
   "cell_type": "code",
   "execution_count": 11,
   "metadata": {},
   "outputs": [
    {
     "data": {
      "text/plain": [
       "array([4])"
      ]
     },
     "execution_count": 11,
     "metadata": {},
     "output_type": "execute_result"
    }
   ],
   "source": [
    "first_number"
   ]
  },
  {
   "cell_type": "code",
   "execution_count": 12,
   "metadata": {},
   "outputs": [],
   "source": [
    "sample_size = 20"
   ]
  },
  {
   "cell_type": "code",
   "execution_count": 13,
   "metadata": {},
   "outputs": [],
   "source": [
    "population_size = patient_id_age.shape[0] - first_number[0]"
   ]
  },
  {
   "cell_type": "code",
   "execution_count": 14,
   "metadata": {},
   "outputs": [],
   "source": [
    "interval_number_for_sample = np.round(population_size/sample_size,0)"
   ]
  },
  {
   "cell_type": "code",
   "execution_count": 15,
   "metadata": {},
   "outputs": [
    {
     "data": {
      "text/plain": [
       "9.0"
      ]
     },
     "execution_count": 15,
     "metadata": {},
     "output_type": "execute_result"
    }
   ],
   "source": [
    "interval_number_for_sample"
   ]
  },
  {
   "cell_type": "code",
   "execution_count": 16,
   "metadata": {},
   "outputs": [],
   "source": [
    "def gen_systematic_sampling_numbers(start_num,pop_size,sample_size,interval_num):\n",
    "    \"\"\"\n",
    "    ``Description``: This function is craeted for performing the Systematic Random Sampling by generating Systematic Random Numbers.\n",
    "    \n",
    "    ``Input Parameters``: It accepts below input parameters:\n",
    "        1. start_num : First number (x) from which sample numbers to be started\n",
    "        2. pop_size : Size of the entire data\n",
    "        3. sample_size : Size of systematic sample size\n",
    "        4. interval_num : Represents k in generating the series of numbers like:\n",
    "                        ``x, x+k, x+2k, x+3k, x+4k, ..... x+nk``\n",
    "        \n",
    "    ``Returns``: It returns sys_sampling_nums as the systematic sampling numbers.\n",
    "    \"\"\"\n",
    "    sys_sampling_nums = []\n",
    "    for num in range(start_num[-1], pop_size):\n",
    "        if sys_sampling_nums == []:\n",
    "            sys_sampling_nums.append(num)\n",
    "        elif sys_sampling_nums != [] and sys_sampling_nums[-1] < pop_size and sys_sampling_nums[-1]+interval_num < pop_size:\n",
    "            sys_sampling_nums.append(sys_sampling_nums[-1]+interval_num)\n",
    "    return sys_sampling_nums"
   ]
  },
  {
   "cell_type": "code",
   "execution_count": 17,
   "metadata": {},
   "outputs": [],
   "source": [
    "systematic_sampling_numbers = gen_systematic_sampling_numbers(first_number,population_size,sample_size,interval_number_for_sample)"
   ]
  },
  {
   "cell_type": "code",
   "execution_count": 18,
   "metadata": {},
   "outputs": [
    {
     "data": {
      "text/plain": [
       "[4,\n",
       " 13.0,\n",
       " 22.0,\n",
       " 31.0,\n",
       " 40.0,\n",
       " 49.0,\n",
       " 58.0,\n",
       " 67.0,\n",
       " 76.0,\n",
       " 85.0,\n",
       " 94.0,\n",
       " 103.0,\n",
       " 112.0,\n",
       " 121.0,\n",
       " 130.0,\n",
       " 139.0,\n",
       " 148.0,\n",
       " 157.0,\n",
       " 166.0,\n",
       " 175.0,\n",
       " 184.0]"
      ]
     },
     "execution_count": 18,
     "metadata": {},
     "output_type": "execute_result"
    }
   ],
   "source": [
    "systematic_sampling_numbers"
   ]
  },
  {
   "cell_type": "code",
   "execution_count": 19,
   "metadata": {},
   "outputs": [],
   "source": [
    "systematic_sample = patient_id_age[patient_id_age['SUBJ'].isin(systematic_sampling_numbers)]"
   ]
  },
  {
   "cell_type": "code",
   "execution_count": 20,
   "metadata": {},
   "outputs": [
    {
     "data": {
      "text/html": [
       "<div>\n",
       "<style scoped>\n",
       "    .dataframe tbody tr th:only-of-type {\n",
       "        vertical-align: middle;\n",
       "    }\n",
       "\n",
       "    .dataframe tbody tr th {\n",
       "        vertical-align: top;\n",
       "    }\n",
       "\n",
       "    .dataframe thead th {\n",
       "        text-align: right;\n",
       "    }\n",
       "</style>\n",
       "<table border=\"1\" class=\"dataframe\">\n",
       "  <thead>\n",
       "    <tr style=\"text-align: right;\">\n",
       "      <th></th>\n",
       "      <th>SUBJ</th>\n",
       "      <th>AGE</th>\n",
       "    </tr>\n",
       "  </thead>\n",
       "  <tbody>\n",
       "    <tr>\n",
       "      <th>3</th>\n",
       "      <td>4</td>\n",
       "      <td>44</td>\n",
       "    </tr>\n",
       "    <tr>\n",
       "      <th>12</th>\n",
       "      <td>13</td>\n",
       "      <td>38</td>\n",
       "    </tr>\n",
       "    <tr>\n",
       "      <th>21</th>\n",
       "      <td>22</td>\n",
       "      <td>66</td>\n",
       "    </tr>\n",
       "    <tr>\n",
       "      <th>30</th>\n",
       "      <td>31</td>\n",
       "      <td>44</td>\n",
       "    </tr>\n",
       "    <tr>\n",
       "      <th>39</th>\n",
       "      <td>40</td>\n",
       "      <td>47</td>\n",
       "    </tr>\n",
       "    <tr>\n",
       "      <th>48</th>\n",
       "      <td>49</td>\n",
       "      <td>38</td>\n",
       "    </tr>\n",
       "    <tr>\n",
       "      <th>57</th>\n",
       "      <td>58</td>\n",
       "      <td>53</td>\n",
       "    </tr>\n",
       "    <tr>\n",
       "      <th>66</th>\n",
       "      <td>67</td>\n",
       "      <td>64</td>\n",
       "    </tr>\n",
       "    <tr>\n",
       "      <th>75</th>\n",
       "      <td>76</td>\n",
       "      <td>59</td>\n",
       "    </tr>\n",
       "    <tr>\n",
       "      <th>84</th>\n",
       "      <td>85</td>\n",
       "      <td>59</td>\n",
       "    </tr>\n",
       "    <tr>\n",
       "      <th>93</th>\n",
       "      <td>94</td>\n",
       "      <td>56</td>\n",
       "    </tr>\n",
       "    <tr>\n",
       "      <th>102</th>\n",
       "      <td>103</td>\n",
       "      <td>59</td>\n",
       "    </tr>\n",
       "    <tr>\n",
       "      <th>111</th>\n",
       "      <td>112</td>\n",
       "      <td>68</td>\n",
       "    </tr>\n",
       "    <tr>\n",
       "      <th>120</th>\n",
       "      <td>121</td>\n",
       "      <td>78</td>\n",
       "    </tr>\n",
       "    <tr>\n",
       "      <th>129</th>\n",
       "      <td>130</td>\n",
       "      <td>47</td>\n",
       "    </tr>\n",
       "    <tr>\n",
       "      <th>138</th>\n",
       "      <td>139</td>\n",
       "      <td>34</td>\n",
       "    </tr>\n",
       "    <tr>\n",
       "      <th>147</th>\n",
       "      <td>148</td>\n",
       "      <td>60</td>\n",
       "    </tr>\n",
       "    <tr>\n",
       "      <th>156</th>\n",
       "      <td>157</td>\n",
       "      <td>64</td>\n",
       "    </tr>\n",
       "    <tr>\n",
       "      <th>165</th>\n",
       "      <td>166</td>\n",
       "      <td>64</td>\n",
       "    </tr>\n",
       "    <tr>\n",
       "      <th>174</th>\n",
       "      <td>175</td>\n",
       "      <td>54</td>\n",
       "    </tr>\n",
       "    <tr>\n",
       "      <th>183</th>\n",
       "      <td>184</td>\n",
       "      <td>63</td>\n",
       "    </tr>\n",
       "  </tbody>\n",
       "</table>\n",
       "</div>"
      ],
      "text/plain": [
       "     SUBJ  AGE\n",
       "3       4   44\n",
       "12     13   38\n",
       "21     22   66\n",
       "30     31   44\n",
       "39     40   47\n",
       "48     49   38\n",
       "57     58   53\n",
       "66     67   64\n",
       "75     76   59\n",
       "84     85   59\n",
       "93     94   56\n",
       "102   103   59\n",
       "111   112   68\n",
       "120   121   78\n",
       "129   130   47\n",
       "138   139   34\n",
       "147   148   60\n",
       "156   157   64\n",
       "165   166   64\n",
       "174   175   54\n",
       "183   184   63"
      ]
     },
     "execution_count": 20,
     "metadata": {},
     "output_type": "execute_result"
    }
   ],
   "source": [
    "systematic_sample"
   ]
  },
  {
   "cell_type": "markdown",
   "metadata": {},
   "source": [
    "## **``Stratified_Sampling``**"
   ]
  },
  {
   "cell_type": "code",
   "execution_count": 21,
   "metadata": {},
   "outputs": [],
   "source": [
    "def stratified_sampling(strata_length,total_stratums,df,df_col,s_size=False,s_intervals=False):\n",
    "    \"\"\"\n",
    "    ``Description``: This function is created for below tasks:\n",
    "        1. Dividing the entire data into stratums\n",
    "        2. Generating systematic sample numbers for all the stratums\n",
    "        \n",
    "    ``Inputs``: It accepts below input parameters:\n",
    "        1. strata_length : Minimum number of records in each stratum\n",
    "        2. total_stratums : Number of stratums in which data needs to be divided\n",
    "        3. df : DataFrame having all the records\n",
    "        4. df_col : DataFrame column used for defining the classes or categories for stratums\n",
    "        5. s_size : Sample size\n",
    "        6. s_intervals : Represents k of systematic sampling(interval for separating the data values)\n",
    "        \n",
    "    ``Returns``: It returns below outputs:\n",
    "        1. stratums_dict : Data divided in stratums\n",
    "        2. intervals : Stratum ranges as per dataframe column\n",
    "        3. stratum_sys_numbers : Systematic sample numbers of each stratum based on dataframe column \n",
    "    \"\"\"\n",
    "    intervals = []\n",
    "    for i in range(total_stratums+1):\n",
    "        if intervals == []:\n",
    "            intervals.append(df[df_col].min())\n",
    "        elif intervals != []:\n",
    "            intervals.append(intervals[-1] + strata_length)\n",
    "    \n",
    "    stratums_dict = {}\n",
    "    for i in range(len(intervals)-1):\n",
    "        stratums_dict[i] = df[(df[df_col] >= intervals[i]) & (df[df_col] < intervals[i+1])]\n",
    "    \n",
    "    stratum_sample_numbers = {}\n",
    "    for i in stratums_dict.keys():\n",
    "        stratum_sample_numbers[i] = gen_systematic_sampling_numbers([stratums_dict[i][df_col].min()],stratums_dict[i][df_col].max(),10,2)\n",
    "    return stratums_dict, intervals, stratum_sample_numbers"
   ]
  },
  {
   "cell_type": "code",
   "execution_count": 22,
   "metadata": {},
   "outputs": [],
   "source": [
    "all_stratums, stratum_ranges, stratum_sys_numbers = stratified_sampling(18,3,patient_id_age,'AGE')"
   ]
  },
  {
   "cell_type": "code",
   "execution_count": 23,
   "metadata": {},
   "outputs": [
    {
     "data": {
      "text/plain": [
       "[30, 48, 66, 84]"
      ]
     },
     "execution_count": 23,
     "metadata": {},
     "output_type": "execute_result"
    }
   ],
   "source": [
    "stratum_ranges"
   ]
  },
  {
   "cell_type": "code",
   "execution_count": 24,
   "metadata": {},
   "outputs": [
    {
     "data": {
      "text/plain": [
       "dict_keys([0, 1, 2])"
      ]
     },
     "execution_count": 24,
     "metadata": {},
     "output_type": "execute_result"
    }
   ],
   "source": [
    "all_stratums.keys()"
   ]
  },
  {
   "cell_type": "code",
   "execution_count": 25,
   "metadata": {},
   "outputs": [
    {
     "data": {
      "text/plain": [
       "((43, 2), (116, 2), (30, 2))"
      ]
     },
     "execution_count": 25,
     "metadata": {},
     "output_type": "execute_result"
    }
   ],
   "source": [
    "all_stratums[0].shape, all_stratums[1].shape, all_stratums[2].shape"
   ]
  },
  {
   "cell_type": "code",
   "execution_count": 26,
   "metadata": {},
   "outputs": [
    {
     "data": {
      "text/plain": [
       "{0: [30, 32, 34, 36, 38, 40, 42, 44, 46],\n",
       " 1: [48, 50, 52, 54, 56, 58, 60, 62, 64],\n",
       " 2: [66, 68, 70, 72, 74, 76, 78, 80]}"
      ]
     },
     "execution_count": 26,
     "metadata": {},
     "output_type": "execute_result"
    }
   ],
   "source": [
    "stratum_sys_numbers"
   ]
  },
  {
   "cell_type": "markdown",
   "metadata": {},
   "source": [
    "### **``Stratified Systematic Samples``**"
   ]
  },
  {
   "cell_type": "code",
   "execution_count": 27,
   "metadata": {},
   "outputs": [],
   "source": [
    "stratified_sample_1 = patient_id_age[patient_id_age['AGE'].isin(stratum_sys_numbers[0])]\n",
    "stratified_sample_2 = patient_id_age[patient_id_age['AGE'].isin(stratum_sys_numbers[1])]\n",
    "stratified_sample_3 = patient_id_age[patient_id_age['AGE'].isin(stratum_sys_numbers[2])]"
   ]
  },
  {
   "cell_type": "code",
   "execution_count": 28,
   "metadata": {},
   "outputs": [
    {
     "data": {
      "text/plain": [
       "((23, 2), (57, 2), (15, 2))"
      ]
     },
     "execution_count": 28,
     "metadata": {},
     "output_type": "execute_result"
    }
   ],
   "source": [
    "stratified_sample_1.shape, stratified_sample_2.shape, stratified_sample_3.shape"
   ]
  },
  {
   "cell_type": "markdown",
   "metadata": {},
   "source": [
    "## ***````Chapter-2 :: Descriptive Statistics````***"
   ]
  },
  {
   "cell_type": "code",
   "execution_count": 29,
   "metadata": {},
   "outputs": [
    {
     "data": {
      "text/html": [
       "<div>\n",
       "<style scoped>\n",
       "    .dataframe tbody tr th:only-of-type {\n",
       "        vertical-align: middle;\n",
       "    }\n",
       "\n",
       "    .dataframe tbody tr th {\n",
       "        vertical-align: top;\n",
       "    }\n",
       "\n",
       "    .dataframe thead th {\n",
       "        text-align: right;\n",
       "    }\n",
       "</style>\n",
       "<table border=\"1\" class=\"dataframe\">\n",
       "  <thead>\n",
       "    <tr style=\"text-align: right;\">\n",
       "      <th></th>\n",
       "      <th>SUBJ</th>\n",
       "      <th>AGE</th>\n",
       "    </tr>\n",
       "  </thead>\n",
       "  <tbody>\n",
       "    <tr>\n",
       "      <th>0</th>\n",
       "      <td>1</td>\n",
       "      <td>48</td>\n",
       "    </tr>\n",
       "    <tr>\n",
       "      <th>1</th>\n",
       "      <td>2</td>\n",
       "      <td>35</td>\n",
       "    </tr>\n",
       "    <tr>\n",
       "      <th>2</th>\n",
       "      <td>3</td>\n",
       "      <td>46</td>\n",
       "    </tr>\n",
       "    <tr>\n",
       "      <th>3</th>\n",
       "      <td>4</td>\n",
       "      <td>44</td>\n",
       "    </tr>\n",
       "    <tr>\n",
       "      <th>4</th>\n",
       "      <td>5</td>\n",
       "      <td>43</td>\n",
       "    </tr>\n",
       "    <tr>\n",
       "      <th>5</th>\n",
       "      <td>6</td>\n",
       "      <td>42</td>\n",
       "    </tr>\n",
       "    <tr>\n",
       "      <th>6</th>\n",
       "      <td>7</td>\n",
       "      <td>39</td>\n",
       "    </tr>\n",
       "    <tr>\n",
       "      <th>7</th>\n",
       "      <td>8</td>\n",
       "      <td>44</td>\n",
       "    </tr>\n",
       "    <tr>\n",
       "      <th>8</th>\n",
       "      <td>9</td>\n",
       "      <td>49</td>\n",
       "    </tr>\n",
       "    <tr>\n",
       "      <th>9</th>\n",
       "      <td>10</td>\n",
       "      <td>49</td>\n",
       "    </tr>\n",
       "  </tbody>\n",
       "</table>\n",
       "</div>"
      ],
      "text/plain": [
       "   SUBJ  AGE\n",
       "0     1   48\n",
       "1     2   35\n",
       "2     3   46\n",
       "3     4   44\n",
       "4     5   43\n",
       "5     6   42\n",
       "6     7   39\n",
       "7     8   44\n",
       "8     9   49\n",
       "9    10   49"
      ]
     },
     "execution_count": 29,
     "metadata": {},
     "output_type": "execute_result"
    }
   ],
   "source": [
    "patient_id_age.head(10)"
   ]
  },
  {
   "cell_type": "code",
   "execution_count": 30,
   "metadata": {},
   "outputs": [],
   "source": [
    "patient_id_age.sort_values(by='AGE',axis=0,ascending=True,inplace=True)\n",
    "patient_id_age.reset_index(drop=True,inplace=True)"
   ]
  },
  {
   "cell_type": "code",
   "execution_count": 31,
   "metadata": {},
   "outputs": [
    {
     "data": {
      "text/html": [
       "<div>\n",
       "<style scoped>\n",
       "    .dataframe tbody tr th:only-of-type {\n",
       "        vertical-align: middle;\n",
       "    }\n",
       "\n",
       "    .dataframe tbody tr th {\n",
       "        vertical-align: top;\n",
       "    }\n",
       "\n",
       "    .dataframe thead th {\n",
       "        text-align: right;\n",
       "    }\n",
       "</style>\n",
       "<table border=\"1\" class=\"dataframe\">\n",
       "  <thead>\n",
       "    <tr style=\"text-align: right;\">\n",
       "      <th></th>\n",
       "      <th>SUBJ</th>\n",
       "      <th>AGE</th>\n",
       "    </tr>\n",
       "  </thead>\n",
       "  <tbody>\n",
       "    <tr>\n",
       "      <th>0</th>\n",
       "      <td>35</td>\n",
       "      <td>30</td>\n",
       "    </tr>\n",
       "    <tr>\n",
       "      <th>1</th>\n",
       "      <td>139</td>\n",
       "      <td>34</td>\n",
       "    </tr>\n",
       "    <tr>\n",
       "      <th>2</th>\n",
       "      <td>2</td>\n",
       "      <td>35</td>\n",
       "    </tr>\n",
       "    <tr>\n",
       "      <th>3</th>\n",
       "      <td>132</td>\n",
       "      <td>37</td>\n",
       "    </tr>\n",
       "    <tr>\n",
       "      <th>4</th>\n",
       "      <td>29</td>\n",
       "      <td>37</td>\n",
       "    </tr>\n",
       "    <tr>\n",
       "      <th>5</th>\n",
       "      <td>49</td>\n",
       "      <td>38</td>\n",
       "    </tr>\n",
       "    <tr>\n",
       "      <th>6</th>\n",
       "      <td>135</td>\n",
       "      <td>38</td>\n",
       "    </tr>\n",
       "    <tr>\n",
       "      <th>7</th>\n",
       "      <td>13</td>\n",
       "      <td>38</td>\n",
       "    </tr>\n",
       "    <tr>\n",
       "      <th>8</th>\n",
       "      <td>28</td>\n",
       "      <td>38</td>\n",
       "    </tr>\n",
       "    <tr>\n",
       "      <th>9</th>\n",
       "      <td>7</td>\n",
       "      <td>39</td>\n",
       "    </tr>\n",
       "  </tbody>\n",
       "</table>\n",
       "</div>"
      ],
      "text/plain": [
       "   SUBJ  AGE\n",
       "0    35   30\n",
       "1   139   34\n",
       "2     2   35\n",
       "3   132   37\n",
       "4    29   37\n",
       "5    49   38\n",
       "6   135   38\n",
       "7    13   38\n",
       "8    28   38\n",
       "9     7   39"
      ]
     },
     "execution_count": 31,
     "metadata": {},
     "output_type": "execute_result"
    }
   ],
   "source": [
    "patient_id_age.head(10)"
   ]
  },
  {
   "cell_type": "code",
   "execution_count": 32,
   "metadata": {},
   "outputs": [
    {
     "data": {
      "text/plain": [
       "(189, 2)"
      ]
     },
     "execution_count": 32,
     "metadata": {},
     "output_type": "execute_result"
    }
   ],
   "source": [
    "patient_id_age.shape"
   ]
  },
  {
   "cell_type": "markdown",
   "metadata": {},
   "source": [
    "#### **``Frequency Distribution``**"
   ]
  },
  {
   "cell_type": "code",
   "execution_count": 33,
   "metadata": {},
   "outputs": [
    {
     "data": {
      "text/plain": [
       "(44, 2)"
      ]
     },
     "execution_count": 33,
     "metadata": {},
     "output_type": "execute_result"
    }
   ],
   "source": [
    "freq_dist = pd.DataFrame(patient_id_age.groupby(by='AGE')['SUBJ'].count())\n",
    "freq_dist.reset_index(inplace=True)\n",
    "freq_dist.shape"
   ]
  },
  {
   "cell_type": "code",
   "execution_count": 34,
   "metadata": {},
   "outputs": [],
   "source": [
    "freq_dist['AGE_CLASS'] = freq_dist['AGE'].apply(lambda val : \"[30-48]\" if (val >= 30) & (val <= 48) \n",
    "                                                else \"[49-67]\" if (val >= 49) & (val <= 67) \n",
    "                                                else \"[68-82]\")"
   ]
  },
  {
   "cell_type": "code",
   "execution_count": 35,
   "metadata": {},
   "outputs": [
    {
     "data": {
      "text/html": [
       "<div>\n",
       "<style scoped>\n",
       "    .dataframe tbody tr th:only-of-type {\n",
       "        vertical-align: middle;\n",
       "    }\n",
       "\n",
       "    .dataframe tbody tr th {\n",
       "        vertical-align: top;\n",
       "    }\n",
       "\n",
       "    .dataframe thead th {\n",
       "        text-align: right;\n",
       "    }\n",
       "</style>\n",
       "<table border=\"1\" class=\"dataframe\">\n",
       "  <thead>\n",
       "    <tr style=\"text-align: right;\">\n",
       "      <th></th>\n",
       "      <th>AGE</th>\n",
       "      <th>SUBJ</th>\n",
       "      <th>AGE_CLASS</th>\n",
       "    </tr>\n",
       "  </thead>\n",
       "  <tbody>\n",
       "    <tr>\n",
       "      <th>0</th>\n",
       "      <td>30</td>\n",
       "      <td>1</td>\n",
       "      <td>[30-48]</td>\n",
       "    </tr>\n",
       "    <tr>\n",
       "      <th>1</th>\n",
       "      <td>34</td>\n",
       "      <td>1</td>\n",
       "      <td>[30-48]</td>\n",
       "    </tr>\n",
       "    <tr>\n",
       "      <th>2</th>\n",
       "      <td>35</td>\n",
       "      <td>1</td>\n",
       "      <td>[30-48]</td>\n",
       "    </tr>\n",
       "    <tr>\n",
       "      <th>3</th>\n",
       "      <td>37</td>\n",
       "      <td>2</td>\n",
       "      <td>[30-48]</td>\n",
       "    </tr>\n",
       "    <tr>\n",
       "      <th>4</th>\n",
       "      <td>38</td>\n",
       "      <td>4</td>\n",
       "      <td>[30-48]</td>\n",
       "    </tr>\n",
       "    <tr>\n",
       "      <th>5</th>\n",
       "      <td>39</td>\n",
       "      <td>2</td>\n",
       "      <td>[30-48]</td>\n",
       "    </tr>\n",
       "    <tr>\n",
       "      <th>6</th>\n",
       "      <td>40</td>\n",
       "      <td>2</td>\n",
       "      <td>[30-48]</td>\n",
       "    </tr>\n",
       "    <tr>\n",
       "      <th>7</th>\n",
       "      <td>42</td>\n",
       "      <td>2</td>\n",
       "      <td>[30-48]</td>\n",
       "    </tr>\n",
       "    <tr>\n",
       "      <th>8</th>\n",
       "      <td>43</td>\n",
       "      <td>6</td>\n",
       "      <td>[30-48]</td>\n",
       "    </tr>\n",
       "    <tr>\n",
       "      <th>9</th>\n",
       "      <td>44</td>\n",
       "      <td>7</td>\n",
       "      <td>[30-48]</td>\n",
       "    </tr>\n",
       "    <tr>\n",
       "      <th>10</th>\n",
       "      <td>45</td>\n",
       "      <td>3</td>\n",
       "      <td>[30-48]</td>\n",
       "    </tr>\n",
       "    <tr>\n",
       "      <th>11</th>\n",
       "      <td>46</td>\n",
       "      <td>6</td>\n",
       "      <td>[30-48]</td>\n",
       "    </tr>\n",
       "    <tr>\n",
       "      <th>12</th>\n",
       "      <td>47</td>\n",
       "      <td>6</td>\n",
       "      <td>[30-48]</td>\n",
       "    </tr>\n",
       "    <tr>\n",
       "      <th>13</th>\n",
       "      <td>48</td>\n",
       "      <td>7</td>\n",
       "      <td>[30-48]</td>\n",
       "    </tr>\n",
       "    <tr>\n",
       "      <th>14</th>\n",
       "      <td>49</td>\n",
       "      <td>7</td>\n",
       "      <td>[49-67]</td>\n",
       "    </tr>\n",
       "    <tr>\n",
       "      <th>15</th>\n",
       "      <td>50</td>\n",
       "      <td>8</td>\n",
       "      <td>[49-67]</td>\n",
       "    </tr>\n",
       "    <tr>\n",
       "      <th>16</th>\n",
       "      <td>51</td>\n",
       "      <td>4</td>\n",
       "      <td>[49-67]</td>\n",
       "    </tr>\n",
       "    <tr>\n",
       "      <th>17</th>\n",
       "      <td>52</td>\n",
       "      <td>6</td>\n",
       "      <td>[49-67]</td>\n",
       "    </tr>\n",
       "    <tr>\n",
       "      <th>18</th>\n",
       "      <td>53</td>\n",
       "      <td>17</td>\n",
       "      <td>[49-67]</td>\n",
       "    </tr>\n",
       "    <tr>\n",
       "      <th>19</th>\n",
       "      <td>54</td>\n",
       "      <td>11</td>\n",
       "      <td>[49-67]</td>\n",
       "    </tr>\n",
       "    <tr>\n",
       "      <th>20</th>\n",
       "      <td>55</td>\n",
       "      <td>3</td>\n",
       "      <td>[49-67]</td>\n",
       "    </tr>\n",
       "    <tr>\n",
       "      <th>21</th>\n",
       "      <td>56</td>\n",
       "      <td>6</td>\n",
       "      <td>[49-67]</td>\n",
       "    </tr>\n",
       "    <tr>\n",
       "      <th>22</th>\n",
       "      <td>57</td>\n",
       "      <td>7</td>\n",
       "      <td>[49-67]</td>\n",
       "    </tr>\n",
       "    <tr>\n",
       "      <th>23</th>\n",
       "      <td>58</td>\n",
       "      <td>2</td>\n",
       "      <td>[49-67]</td>\n",
       "    </tr>\n",
       "    <tr>\n",
       "      <th>24</th>\n",
       "      <td>59</td>\n",
       "      <td>6</td>\n",
       "      <td>[49-67]</td>\n",
       "    </tr>\n",
       "    <tr>\n",
       "      <th>25</th>\n",
       "      <td>60</td>\n",
       "      <td>4</td>\n",
       "      <td>[49-67]</td>\n",
       "    </tr>\n",
       "    <tr>\n",
       "      <th>26</th>\n",
       "      <td>61</td>\n",
       "      <td>11</td>\n",
       "      <td>[49-67]</td>\n",
       "    </tr>\n",
       "    <tr>\n",
       "      <th>27</th>\n",
       "      <td>62</td>\n",
       "      <td>7</td>\n",
       "      <td>[49-67]</td>\n",
       "    </tr>\n",
       "    <tr>\n",
       "      <th>28</th>\n",
       "      <td>63</td>\n",
       "      <td>2</td>\n",
       "      <td>[49-67]</td>\n",
       "    </tr>\n",
       "    <tr>\n",
       "      <th>29</th>\n",
       "      <td>64</td>\n",
       "      <td>6</td>\n",
       "      <td>[49-67]</td>\n",
       "    </tr>\n",
       "    <tr>\n",
       "      <th>30</th>\n",
       "      <td>65</td>\n",
       "      <td>2</td>\n",
       "      <td>[49-67]</td>\n",
       "    </tr>\n",
       "    <tr>\n",
       "      <th>31</th>\n",
       "      <td>66</td>\n",
       "      <td>6</td>\n",
       "      <td>[49-67]</td>\n",
       "    </tr>\n",
       "    <tr>\n",
       "      <th>32</th>\n",
       "      <td>67</td>\n",
       "      <td>1</td>\n",
       "      <td>[49-67]</td>\n",
       "    </tr>\n",
       "    <tr>\n",
       "      <th>33</th>\n",
       "      <td>68</td>\n",
       "      <td>3</td>\n",
       "      <td>[68-82]</td>\n",
       "    </tr>\n",
       "    <tr>\n",
       "      <th>34</th>\n",
       "      <td>69</td>\n",
       "      <td>3</td>\n",
       "      <td>[68-82]</td>\n",
       "    </tr>\n",
       "    <tr>\n",
       "      <th>35</th>\n",
       "      <td>70</td>\n",
       "      <td>1</td>\n",
       "      <td>[68-82]</td>\n",
       "    </tr>\n",
       "    <tr>\n",
       "      <th>36</th>\n",
       "      <td>71</td>\n",
       "      <td>7</td>\n",
       "      <td>[68-82]</td>\n",
       "    </tr>\n",
       "    <tr>\n",
       "      <th>37</th>\n",
       "      <td>72</td>\n",
       "      <td>1</td>\n",
       "      <td>[68-82]</td>\n",
       "    </tr>\n",
       "    <tr>\n",
       "      <th>38</th>\n",
       "      <td>73</td>\n",
       "      <td>1</td>\n",
       "      <td>[68-82]</td>\n",
       "    </tr>\n",
       "    <tr>\n",
       "      <th>39</th>\n",
       "      <td>75</td>\n",
       "      <td>1</td>\n",
       "      <td>[68-82]</td>\n",
       "    </tr>\n",
       "    <tr>\n",
       "      <th>40</th>\n",
       "      <td>76</td>\n",
       "      <td>1</td>\n",
       "      <td>[68-82]</td>\n",
       "    </tr>\n",
       "    <tr>\n",
       "      <th>41</th>\n",
       "      <td>77</td>\n",
       "      <td>1</td>\n",
       "      <td>[68-82]</td>\n",
       "    </tr>\n",
       "    <tr>\n",
       "      <th>42</th>\n",
       "      <td>78</td>\n",
       "      <td>3</td>\n",
       "      <td>[68-82]</td>\n",
       "    </tr>\n",
       "    <tr>\n",
       "      <th>43</th>\n",
       "      <td>82</td>\n",
       "      <td>1</td>\n",
       "      <td>[68-82]</td>\n",
       "    </tr>\n",
       "  </tbody>\n",
       "</table>\n",
       "</div>"
      ],
      "text/plain": [
       "    AGE  SUBJ AGE_CLASS\n",
       "0    30     1   [30-48]\n",
       "1    34     1   [30-48]\n",
       "2    35     1   [30-48]\n",
       "3    37     2   [30-48]\n",
       "4    38     4   [30-48]\n",
       "5    39     2   [30-48]\n",
       "6    40     2   [30-48]\n",
       "7    42     2   [30-48]\n",
       "8    43     6   [30-48]\n",
       "9    44     7   [30-48]\n",
       "10   45     3   [30-48]\n",
       "11   46     6   [30-48]\n",
       "12   47     6   [30-48]\n",
       "13   48     7   [30-48]\n",
       "14   49     7   [49-67]\n",
       "15   50     8   [49-67]\n",
       "16   51     4   [49-67]\n",
       "17   52     6   [49-67]\n",
       "18   53    17   [49-67]\n",
       "19   54    11   [49-67]\n",
       "20   55     3   [49-67]\n",
       "21   56     6   [49-67]\n",
       "22   57     7   [49-67]\n",
       "23   58     2   [49-67]\n",
       "24   59     6   [49-67]\n",
       "25   60     4   [49-67]\n",
       "26   61    11   [49-67]\n",
       "27   62     7   [49-67]\n",
       "28   63     2   [49-67]\n",
       "29   64     6   [49-67]\n",
       "30   65     2   [49-67]\n",
       "31   66     6   [49-67]\n",
       "32   67     1   [49-67]\n",
       "33   68     3   [68-82]\n",
       "34   69     3   [68-82]\n",
       "35   70     1   [68-82]\n",
       "36   71     7   [68-82]\n",
       "37   72     1   [68-82]\n",
       "38   73     1   [68-82]\n",
       "39   75     1   [68-82]\n",
       "40   76     1   [68-82]\n",
       "41   77     1   [68-82]\n",
       "42   78     3   [68-82]\n",
       "43   82     1   [68-82]"
      ]
     },
     "execution_count": 35,
     "metadata": {},
     "output_type": "execute_result"
    }
   ],
   "source": [
    "freq_dist"
   ]
  },
  {
   "cell_type": "code",
   "execution_count": 36,
   "metadata": {},
   "outputs": [
    {
     "data": {
      "text/html": [
       "<div>\n",
       "<style scoped>\n",
       "    .dataframe tbody tr th:only-of-type {\n",
       "        vertical-align: middle;\n",
       "    }\n",
       "\n",
       "    .dataframe tbody tr th {\n",
       "        vertical-align: top;\n",
       "    }\n",
       "\n",
       "    .dataframe thead th {\n",
       "        text-align: right;\n",
       "    }\n",
       "</style>\n",
       "<table border=\"1\" class=\"dataframe\">\n",
       "  <thead>\n",
       "    <tr style=\"text-align: right;\">\n",
       "      <th></th>\n",
       "      <th>AGE_CLASS</th>\n",
       "      <th>FREQ</th>\n",
       "    </tr>\n",
       "  </thead>\n",
       "  <tbody>\n",
       "    <tr>\n",
       "      <th>0</th>\n",
       "      <td>[30-48]</td>\n",
       "      <td>50</td>\n",
       "    </tr>\n",
       "    <tr>\n",
       "      <th>1</th>\n",
       "      <td>[49-67]</td>\n",
       "      <td>116</td>\n",
       "    </tr>\n",
       "    <tr>\n",
       "      <th>2</th>\n",
       "      <td>[68-82]</td>\n",
       "      <td>23</td>\n",
       "    </tr>\n",
       "  </tbody>\n",
       "</table>\n",
       "</div>"
      ],
      "text/plain": [
       "  AGE_CLASS  FREQ\n",
       "0   [30-48]    50\n",
       "1   [49-67]   116\n",
       "2   [68-82]    23"
      ]
     },
     "execution_count": 36,
     "metadata": {},
     "output_type": "execute_result"
    }
   ],
   "source": [
    "freq_dist = pd.DataFrame(freq_dist.groupby(by='AGE_CLASS')['SUBJ'].sum())\n",
    "freq_dist.reset_index(inplace=True)\n",
    "freq_dist.columns = ['AGE_CLASS', 'FREQ']\n",
    "freq_dist"
   ]
  },
  {
   "cell_type": "markdown",
   "metadata": {},
   "source": [
    "#### **``Sturges Equation or Rule``** **for creating the intervals in data for Frequency Distribution**"
   ]
  },
  {
   "cell_type": "markdown",
   "metadata": {},
   "source": [
    "\\begin{align}\n",
    "\\ k & = 1 + 3.322 (log_{10} n)\n",
    "\\end{align}\n",
    "\n",
    "##### Here, n is number of observations in your sample. And, k is the number of intervals that be formed out of your data.\n",
    "- ***For example***: Based on our dataset, we have total of 189 records or observations. Therefore, using **``Sturges formula``** number of intervals that we can form in our dataset is:\n",
    "\n",
    "\\begin{align}\n",
    "\\\\ k & = 1 + 3.322 (log_{10} 189)\n",
    "\\\\ k & = 1 + 3.322 (2.27646)\n",
    "\\\\ k & = 8.56\n",
    "\\\\ k & \\approx 9\n",
    "\\end{align}\n",
    "\n",
    "Here, k can be used as the number of intervals or the range of the interval. But, not everytime the class width is equal to k. Therefore, to find the class widths use below formula:\n",
    "\\begin{align}\n",
    "\\\\ w & = R / k\n",
    "\\\\ R & = (Greatest \\ value - Smallest \\ value)\n",
    "\\\\ w & = It \\ is \\ classwidth\n",
    "\\end{align}\n",
    "\n",
    "- ***For example***:\n",
    "\\begin{align}\n",
    "\\\\ w & = (82 - 30) / 9\n",
    "\\\\ w & = 6\n",
    "\\end{align}"
   ]
  },
  {
   "cell_type": "markdown",
   "metadata": {},
   "source": [
    "### **``Relative Frequency and Cumulative Requency``**"
   ]
  },
  {
   "cell_type": "code",
   "execution_count": 37,
   "metadata": {},
   "outputs": [
    {
     "data": {
      "text/html": [
       "<div>\n",
       "<style scoped>\n",
       "    .dataframe tbody tr th:only-of-type {\n",
       "        vertical-align: middle;\n",
       "    }\n",
       "\n",
       "    .dataframe tbody tr th {\n",
       "        vertical-align: top;\n",
       "    }\n",
       "\n",
       "    .dataframe thead th {\n",
       "        text-align: right;\n",
       "    }\n",
       "</style>\n",
       "<table border=\"1\" class=\"dataframe\">\n",
       "  <thead>\n",
       "    <tr style=\"text-align: right;\">\n",
       "      <th></th>\n",
       "      <th>AGE_CLASS</th>\n",
       "      <th>FREQ</th>\n",
       "    </tr>\n",
       "  </thead>\n",
       "  <tbody>\n",
       "    <tr>\n",
       "      <th>0</th>\n",
       "      <td>[30-48]</td>\n",
       "      <td>50</td>\n",
       "    </tr>\n",
       "    <tr>\n",
       "      <th>1</th>\n",
       "      <td>[49-67]</td>\n",
       "      <td>116</td>\n",
       "    </tr>\n",
       "    <tr>\n",
       "      <th>2</th>\n",
       "      <td>[68-82]</td>\n",
       "      <td>23</td>\n",
       "    </tr>\n",
       "  </tbody>\n",
       "</table>\n",
       "</div>"
      ],
      "text/plain": [
       "  AGE_CLASS  FREQ\n",
       "0   [30-48]    50\n",
       "1   [49-67]   116\n",
       "2   [68-82]    23"
      ]
     },
     "execution_count": 37,
     "metadata": {},
     "output_type": "execute_result"
    }
   ],
   "source": [
    "freq_dist"
   ]
  },
  {
   "cell_type": "code",
   "execution_count": 38,
   "metadata": {},
   "outputs": [],
   "source": [
    "freq_dist['R_FREQ'] = (freq_dist['FREQ']/freq_dist['FREQ'].sum())*100"
   ]
  },
  {
   "cell_type": "code",
   "execution_count": 39,
   "metadata": {},
   "outputs": [
    {
     "data": {
      "text/html": [
       "<div>\n",
       "<style scoped>\n",
       "    .dataframe tbody tr th:only-of-type {\n",
       "        vertical-align: middle;\n",
       "    }\n",
       "\n",
       "    .dataframe tbody tr th {\n",
       "        vertical-align: top;\n",
       "    }\n",
       "\n",
       "    .dataframe thead th {\n",
       "        text-align: right;\n",
       "    }\n",
       "</style>\n",
       "<table border=\"1\" class=\"dataframe\">\n",
       "  <thead>\n",
       "    <tr style=\"text-align: right;\">\n",
       "      <th></th>\n",
       "      <th>AGE_CLASS</th>\n",
       "      <th>FREQ</th>\n",
       "      <th>R_FREQ</th>\n",
       "    </tr>\n",
       "  </thead>\n",
       "  <tbody>\n",
       "    <tr>\n",
       "      <th>0</th>\n",
       "      <td>[30-48]</td>\n",
       "      <td>50</td>\n",
       "      <td>26.455026</td>\n",
       "    </tr>\n",
       "    <tr>\n",
       "      <th>1</th>\n",
       "      <td>[49-67]</td>\n",
       "      <td>116</td>\n",
       "      <td>61.375661</td>\n",
       "    </tr>\n",
       "    <tr>\n",
       "      <th>2</th>\n",
       "      <td>[68-82]</td>\n",
       "      <td>23</td>\n",
       "      <td>12.169312</td>\n",
       "    </tr>\n",
       "  </tbody>\n",
       "</table>\n",
       "</div>"
      ],
      "text/plain": [
       "  AGE_CLASS  FREQ     R_FREQ\n",
       "0   [30-48]    50  26.455026\n",
       "1   [49-67]   116  61.375661\n",
       "2   [68-82]    23  12.169312"
      ]
     },
     "execution_count": 39,
     "metadata": {},
     "output_type": "execute_result"
    }
   ],
   "source": [
    "freq_dist"
   ]
  },
  {
   "cell_type": "code",
   "execution_count": 40,
   "metadata": {},
   "outputs": [],
   "source": [
    "freq_dist['CUM_FREQ'] = freq_dist['R_FREQ'].cumsum()"
   ]
  },
  {
   "cell_type": "code",
   "execution_count": 41,
   "metadata": {},
   "outputs": [
    {
     "data": {
      "text/html": [
       "<div>\n",
       "<style scoped>\n",
       "    .dataframe tbody tr th:only-of-type {\n",
       "        vertical-align: middle;\n",
       "    }\n",
       "\n",
       "    .dataframe tbody tr th {\n",
       "        vertical-align: top;\n",
       "    }\n",
       "\n",
       "    .dataframe thead th {\n",
       "        text-align: right;\n",
       "    }\n",
       "</style>\n",
       "<table border=\"1\" class=\"dataframe\">\n",
       "  <thead>\n",
       "    <tr style=\"text-align: right;\">\n",
       "      <th></th>\n",
       "      <th>AGE_CLASS</th>\n",
       "      <th>FREQ</th>\n",
       "      <th>R_FREQ</th>\n",
       "      <th>CUM_FREQ</th>\n",
       "    </tr>\n",
       "  </thead>\n",
       "  <tbody>\n",
       "    <tr>\n",
       "      <th>0</th>\n",
       "      <td>[30-48]</td>\n",
       "      <td>50</td>\n",
       "      <td>26.455026</td>\n",
       "      <td>26.455026</td>\n",
       "    </tr>\n",
       "    <tr>\n",
       "      <th>1</th>\n",
       "      <td>[49-67]</td>\n",
       "      <td>116</td>\n",
       "      <td>61.375661</td>\n",
       "      <td>87.830688</td>\n",
       "    </tr>\n",
       "    <tr>\n",
       "      <th>2</th>\n",
       "      <td>[68-82]</td>\n",
       "      <td>23</td>\n",
       "      <td>12.169312</td>\n",
       "      <td>100.000000</td>\n",
       "    </tr>\n",
       "  </tbody>\n",
       "</table>\n",
       "</div>"
      ],
      "text/plain": [
       "  AGE_CLASS  FREQ     R_FREQ    CUM_FREQ\n",
       "0   [30-48]    50  26.455026   26.455026\n",
       "1   [49-67]   116  61.375661   87.830688\n",
       "2   [68-82]    23  12.169312  100.000000"
      ]
     },
     "execution_count": 41,
     "metadata": {},
     "output_type": "execute_result"
    }
   ],
   "source": [
    "freq_dist"
   ]
  },
  {
   "cell_type": "markdown",
   "metadata": {},
   "source": [
    "## **``Stem-n-Leaf Plot``**"
   ]
  },
  {
   "cell_type": "code",
   "execution_count": 42,
   "metadata": {},
   "outputs": [
    {
     "data": {
      "image/png": "[encoded data removed]",
      "text/plain": [
       "<Figure size 540x162 with 1 Axes>"
      ]
     },
     "metadata": {
      "needs_background": "light"
     },
     "output_type": "display_data"
    }
   ],
   "source": [
    "stem.stem_graphic(patient_id_age['AGE'],scale=10,break_on=10)\n",
    "plt.show()"
   ]
  },
  {
   "cell_type": "markdown",
   "metadata": {},
   "source": [
    "#### **``Stem-n-Leaf Plot :: Divided Stems``**"
   ]
  },
  {
   "cell_type": "code",
   "execution_count": 43,
   "metadata": {},
   "outputs": [
    {
     "data": {
      "image/png": "[encoded data removed]",
      "text/plain": [
       "<Figure size 540x252 with 1 Axes>"
      ]
     },
     "metadata": {
      "needs_background": "light"
     },
     "output_type": "display_data"
    }
   ],
   "source": [
    "stem.stem_graphic(patient_id_age['AGE'],scale=10,break_on=5)\n",
    "plt.show()"
   ]
  },
  {
   "cell_type": "markdown",
   "metadata": {},
   "source": [
    "## **``Bar Graph``**"
   ]
  },
  {
   "cell_type": "code",
   "execution_count": 44,
   "metadata": {},
   "outputs": [
    {
     "data": {
      "text/html": [
       "<div>\n",
       "<style scoped>\n",
       "    .dataframe tbody tr th:only-of-type {\n",
       "        vertical-align: middle;\n",
       "    }\n",
       "\n",
       "    .dataframe tbody tr th {\n",
       "        vertical-align: top;\n",
       "    }\n",
       "\n",
       "    .dataframe thead th {\n",
       "        text-align: right;\n",
       "    }\n",
       "</style>\n",
       "<table border=\"1\" class=\"dataframe\">\n",
       "  <thead>\n",
       "    <tr style=\"text-align: right;\">\n",
       "      <th></th>\n",
       "      <th>AGE_CLASS</th>\n",
       "      <th>FREQ</th>\n",
       "      <th>R_FREQ</th>\n",
       "      <th>CUM_FREQ</th>\n",
       "    </tr>\n",
       "  </thead>\n",
       "  <tbody>\n",
       "    <tr>\n",
       "      <th>0</th>\n",
       "      <td>[30-48]</td>\n",
       "      <td>50</td>\n",
       "      <td>26.455026</td>\n",
       "      <td>26.455026</td>\n",
       "    </tr>\n",
       "    <tr>\n",
       "      <th>1</th>\n",
       "      <td>[49-67]</td>\n",
       "      <td>116</td>\n",
       "      <td>61.375661</td>\n",
       "      <td>87.830688</td>\n",
       "    </tr>\n",
       "    <tr>\n",
       "      <th>2</th>\n",
       "      <td>[68-82]</td>\n",
       "      <td>23</td>\n",
       "      <td>12.169312</td>\n",
       "      <td>100.000000</td>\n",
       "    </tr>\n",
       "  </tbody>\n",
       "</table>\n",
       "</div>"
      ],
      "text/plain": [
       "  AGE_CLASS  FREQ     R_FREQ    CUM_FREQ\n",
       "0   [30-48]    50  26.455026   26.455026\n",
       "1   [49-67]   116  61.375661   87.830688\n",
       "2   [68-82]    23  12.169312  100.000000"
      ]
     },
     "execution_count": 44,
     "metadata": {},
     "output_type": "execute_result"
    }
   ],
   "source": [
    "freq_dist"
   ]
  },
  {
   "cell_type": "code",
   "execution_count": 45,
   "metadata": {},
   "outputs": [
    {
     "data": {
      "image/png": "[encoded data removed]",
      "text/plain": [
       "<Figure size 504x504 with 1 Axes>"
      ]
     },
     "metadata": {
      "needs_background": "light"
     },
     "output_type": "display_data"
    }
   ],
   "source": [
    "font_style = {'size':14, 'color':'r'}\n",
    "freq_dist.plot(kind='bar',x='AGE_CLASS',y='FREQ',figsize=(7,7),color=['lightblue','palegreen','yellow'],legend=False)\n",
    "plt.minorticks_on()\n",
    "plt.xlabel(\"Different Age Groups\",fontdict=font_style)\n",
    "plt.ylabel(\"People Frequency/Count\",fontdict=font_style)\n",
    "plt.grid(which='major',color='coral',linestyle='--')\n",
    "plt.xticks(np.arange(3),('[30-48]','[49-67]','[68-82]'),rotation=20)\n",
    "plt.show()"
   ]
  },
  {
   "cell_type": "markdown",
   "metadata": {},
   "source": [
    "## **``Histogram``**"
   ]
  },
  {
   "cell_type": "code",
   "execution_count": 46,
   "metadata": {},
   "outputs": [
    {
     "data": {
      "text/plain": [
       "0     30\n",
       "1     34\n",
       "2     35\n",
       "3     37\n",
       "4     37\n",
       "5     38\n",
       "6     38\n",
       "7     38\n",
       "8     38\n",
       "9     39\n",
       "10    39\n",
       "11    40\n",
       "12    40\n",
       "13    42\n",
       "14    42\n",
       "Name: AGE, dtype: int64"
      ]
     },
     "execution_count": 46,
     "metadata": {},
     "output_type": "execute_result"
    }
   ],
   "source": [
    "patient_id_age['AGE'].head(15)"
   ]
  },
  {
   "cell_type": "code",
   "execution_count": 47,
   "metadata": {},
   "outputs": [
    {
     "data": {
      "image/png": "[encoded data removed]",
      "text/plain": [
       "<Figure size 504x504 with 1 Axes>"
      ]
     },
     "metadata": {
      "needs_background": "light"
     },
     "output_type": "display_data"
    }
   ],
   "source": [
    "patient_id_age['AGE'].plot(kind='hist',figsize=(7,7),color='blue')\n",
    "plt.minorticks_on()\n",
    "plt.xlabel(\"Age Distribution\",fontdict=font_style)\n",
    "plt.ylabel(\"Frequency\",fontdict=font_style)\n",
    "plt.grid(which='major',color='orange',linestyle='-.')\n",
    "plt.xticks(rotation=20)\n",
    "plt.show()"
   ]
  },
  {
   "cell_type": "markdown",
   "metadata": {},
   "source": [
    "#### **``Step-type Histogram``**"
   ]
  },
  {
   "cell_type": "code",
   "execution_count": 48,
   "metadata": {},
   "outputs": [
    {
     "data": {
      "image/png": "[encoded data removed]",
      "text/plain": [
       "<Figure size 504x504 with 1 Axes>"
      ]
     },
     "metadata": {
      "needs_background": "light"
     },
     "output_type": "display_data"
    }
   ],
   "source": [
    "patient_id_age['AGE'].plot(kind='hist',figsize=(7,7),color='blue',histtype='step')\n",
    "plt.minorticks_on()\n",
    "plt.xlabel(\"Age Distribution\",fontdict=font_style)\n",
    "plt.ylabel(\"Frequency\",fontdict=font_style)\n",
    "plt.grid(which='major',color='orange',linestyle='-.')\n",
    "plt.xticks(rotation=20)\n",
    "plt.show()"
   ]
  },
  {
   "cell_type": "markdown",
   "metadata": {},
   "source": [
    "#### **``Step-type Histogram and Probability Distribution or Density Curve``**"
   ]
  },
  {
   "cell_type": "code",
   "execution_count": 49,
   "metadata": {},
   "outputs": [
    {
     "data": {
      "image/png": "[encoded data removed]",
      "text/plain": [
       "<Figure size 504x504 with 1 Axes>"
      ]
     },
     "metadata": {
      "needs_background": "light"
     },
     "output_type": "display_data"
    }
   ],
   "source": [
    "patient_id_age['AGE'].plot(kind='hist',figsize=(7,7),color='blue',histtype='step',density=True)\n",
    "patient_id_age['AGE'].plot(kind='density',color='green')\n",
    "plt.minorticks_on()\n",
    "plt.xlabel(\"Age Distribution\",fontdict=font_style)\n",
    "plt.ylabel(\"Frequency\",fontdict=font_style)\n",
    "plt.grid(which='major',color='orange',linestyle='-.')\n",
    "plt.xticks(rotation=20)\n",
    "plt.show()"
   ]
  },
  {
   "cell_type": "markdown",
   "metadata": {},
   "source": [
    "#### **``AGE Cumulative Distribution``**"
   ]
  },
  {
   "cell_type": "code",
   "execution_count": 50,
   "metadata": {},
   "outputs": [
    {
     "data": {
      "image/png": "[encoded data removed]",
      "text/plain": [
       "<Figure size 504x504 with 1 Axes>"
      ]
     },
     "metadata": {
      "needs_background": "light"
     },
     "output_type": "display_data"
    }
   ],
   "source": [
    "plt.figure(figsize=(7,7))\n",
    "plt.hist(data=patient_id_age,x='AGE',cumulative=True,color='coral')\n",
    "plt.minorticks_on()\n",
    "plt.xlabel(\"Age Cumulative Distribution\",fontdict=font_style)\n",
    "plt.ylabel(\"Frequency\",fontdict=font_style)\n",
    "plt.grid(which='major',color='lightyellow',linestyle='--')\n",
    "plt.xticks(rotation=20)\n",
    "plt.show()"
   ]
  },
  {
   "cell_type": "markdown",
   "metadata": {},
   "source": [
    "\\begin{align}\n",
    "\\\\ (Pop \\ Mean) \\ \\ \\mu & = \\frac{1} {N} \\sum_{i=1}^N X_{i}\n",
    "\\\\\n",
    "\\\\ (Sample \\ Mean) \\ \\  \\bar{x}  & = \\frac{1} {N} \\sum_{i=1}^n x_{i}\n",
    "\\\\\n",
    "\\\\ (Median) \\ \\ M & = \\frac{(n+1)} {2} \\ \\ \\ (Here, \\ n \\ is \\ total \\ observations)\n",
    "\\\\\n",
    "\\\\ (Mode) \\ \\ MO & = (Most \\ frequently \\ occuring \\ value \\ in \\ data.) \\ (It \\ can \\ be \\ no-mode, \\ bi-modal \\ ,tri-modal \\ .... \\ so \\ on)\n",
    "\\\\\n",
    "\\\\ (Range) \\ \\ R & = (X_{L} - X_{S})\n",
    "\\\\\n",
    "\\\\ (Pop \\ Variance) \\ \\ \\sigma^2 & = \\frac{1}{N} \\sum_{i=1}^{N} [(X_{i} - \\mu)^2]\n",
    "\\\\\n",
    "\\\\ (Pop \\ Standard \\ Deviation) \\ \\ \\sigma & = \\sqrt{\\frac{1}{N} \\sum_{i=1}^{N} [(X_{i} - \\mu)^2]}\n",
    "\\\\\n",
    "\\\\ (Sample \\ Variance) \\ \\ S^2 & = \\sqrt{\\frac{1}{n-1} \\sum_{i=1}^{n} [(x_{i} - \\bar{x})^2]}\n",
    "\\\\\n",
    "\\\\ (Sample \\ Standard \\ Deviation) \\ \\ S & = \\sqrt{\\frac{1}{n-1} \\sum_{i=1}^{n} [(x_{i} - \\bar{x})^2]}\n",
    "\\end{align}"
   ]
  },
  {
   "cell_type": "markdown",
   "metadata": {},
   "source": [
    "## ***``A comment on Mode``***\n",
    "- The mode may be used also for describing qualitative data. \n",
    "    - For example, suppose the patients seen in a mental health clinic during a given year received one of the following diagnoses: mental retardation, organic brain syndrome, psychosis, neurosis, and personality disorder. \n",
    "        - The diagnosis occurring most frequently in the group of patients would be called the modal diagnosis. \n",
    "- **An attractive property of a data distribution occurs when the mean, median, and mode are all equal. The well-known “bell-shaped curve” is a graphical representation of a distribution for which the mean, median, and mode are all equal.**"
   ]
  },
  {
   "cell_type": "markdown",
   "metadata": {},
   "source": [
    "## **``Skewness in Data``**"
   ]
  },
  {
   "cell_type": "markdown",
   "metadata": {},
   "source": [
    "![image1](Histograms.png)\n",
    "###### ***Fig :: Three histograms illustrating skewness***\n",
    "\n",
    "- If the graph (histogram or frequency polygon) of a distribution is asymmetric, the distribution is said to be skewed. \n",
    "- If a distribution is not symmetric because its graph extends further to the right than to the left, that is, if it has a long tail to the right, we say that the distribution is **skewed to the right or is positively skewed**. \n",
    "- If a distribution is not symmetric because its graph extends further to the left than to the right, that is, if it has a long tail to the left, we say that the distribution is **skewed to the left or is negatively skewed**.\n",
    "\n",
    "\\begin{align}\n",
    "\\\\ if \\ (Skewness \\ > \\ 0) & = +ve \\ or \\ right \\ skewed\n",
    "\\\\ if \\ (Skewness \\ < \\ 0) & = -ve \\ or \\ left \\ skewed\n",
    "\\end{align}"
   ]
  },
  {
   "cell_type": "markdown",
   "metadata": {},
   "source": [
    "![image2](Histograms_skewness_measure.png)"
   ]
  },
  {
   "cell_type": "markdown",
   "metadata": {},
   "source": [
    "#### **``Left Skewed Data``**"
   ]
  },
  {
   "cell_type": "markdown",
   "metadata": {},
   "source": [
    "***``Approach-I``***"
   ]
  },
  {
   "cell_type": "code",
   "execution_count": 51,
   "metadata": {},
   "outputs": [],
   "source": [
    "skewness_data = pd.DataFrame([1,4,4,7,7,7,8,8,8,8,8,8,9,9,9,9,9,9,9],columns=['col'])"
   ]
  },
  {
   "cell_type": "code",
   "execution_count": 52,
   "metadata": {},
   "outputs": [
    {
     "name": "stdout",
     "output_type": "stream",
     "text": [
      "col    7.421053\n",
      "dtype: float64\n",
      "   col\n",
      "0    9\n",
      "col    4.701754\n",
      "dtype: float64\n",
      "col    2.168353\n",
      "dtype: float64\n",
      "col   -1.926508\n",
      "dtype: float64\n"
     ]
    }
   ],
   "source": [
    "print(skewness_data.mean(), skewness_data.mode(), skewness_data.var(), skewness_data.std(), skewness_data.skew(),sep='\\n')"
   ]
  },
  {
   "cell_type": "markdown",
   "metadata": {},
   "source": [
    "***``Approach-II :: Using Statsmodels``***"
   ]
  },
  {
   "cell_type": "code",
   "execution_count": 53,
   "metadata": {},
   "outputs": [],
   "source": [
    "from scipy.stats import skew as skw"
   ]
  },
  {
   "cell_type": "code",
   "execution_count": 54,
   "metadata": {},
   "outputs": [
    {
     "data": {
      "text/plain": [
       "array([-1.77095128])"
      ]
     },
     "execution_count": 54,
     "metadata": {},
     "output_type": "execute_result"
    }
   ],
   "source": [
    "skw(skewness_data)"
   ]
  },
  {
   "cell_type": "code",
   "execution_count": 55,
   "metadata": {},
   "outputs": [],
   "source": [
    "skewness_data_gph = pd.DataFrame(skewness_data.groupby(by='col')['col'].count())\n",
    "skewness_data_gph.columns = ['freq']\n",
    "skewness_data_gph.reset_index(inplace=True)"
   ]
  },
  {
   "cell_type": "markdown",
   "metadata": {},
   "source": [
    "***``Plot the Left Skewed Chart``***"
   ]
  },
  {
   "cell_type": "code",
   "execution_count": 56,
   "metadata": {},
   "outputs": [
    {
     "data": {
      "text/html": [
       "<div>\n",
       "<style scoped>\n",
       "    .dataframe tbody tr th:only-of-type {\n",
       "        vertical-align: middle;\n",
       "    }\n",
       "\n",
       "    .dataframe tbody tr th {\n",
       "        vertical-align: top;\n",
       "    }\n",
       "\n",
       "    .dataframe thead th {\n",
       "        text-align: right;\n",
       "    }\n",
       "</style>\n",
       "<table border=\"1\" class=\"dataframe\">\n",
       "  <thead>\n",
       "    <tr style=\"text-align: right;\">\n",
       "      <th></th>\n",
       "      <th>col</th>\n",
       "      <th>freq</th>\n",
       "    </tr>\n",
       "  </thead>\n",
       "  <tbody>\n",
       "    <tr>\n",
       "      <th>0</th>\n",
       "      <td>1</td>\n",
       "      <td>1</td>\n",
       "    </tr>\n",
       "    <tr>\n",
       "      <th>1</th>\n",
       "      <td>4</td>\n",
       "      <td>2</td>\n",
       "    </tr>\n",
       "    <tr>\n",
       "      <th>2</th>\n",
       "      <td>7</td>\n",
       "      <td>3</td>\n",
       "    </tr>\n",
       "    <tr>\n",
       "      <th>3</th>\n",
       "      <td>8</td>\n",
       "      <td>6</td>\n",
       "    </tr>\n",
       "    <tr>\n",
       "      <th>4</th>\n",
       "      <td>9</td>\n",
       "      <td>7</td>\n",
       "    </tr>\n",
       "  </tbody>\n",
       "</table>\n",
       "</div>"
      ],
      "text/plain": [
       "   col  freq\n",
       "0    1     1\n",
       "1    4     2\n",
       "2    7     3\n",
       "3    8     6\n",
       "4    9     7"
      ]
     },
     "execution_count": 56,
     "metadata": {},
     "output_type": "execute_result"
    }
   ],
   "source": [
    "skewness_data_gph"
   ]
  },
  {
   "cell_type": "code",
   "execution_count": 57,
   "metadata": {},
   "outputs": [
    {
     "data": {
      "text/plain": [
       "<matplotlib.axes._subplots.AxesSubplot at 0x1faaf7fe080>"
      ]
     },
     "execution_count": 57,
     "metadata": {},
     "output_type": "execute_result"
    },
    {
     "data": {
      "image/png": "[encoded data removed]",
      "text/plain": [
       "<Figure size 432x288 with 1 Axes>"
      ]
     },
     "metadata": {
      "needs_background": "light"
     },
     "output_type": "display_data"
    }
   ],
   "source": [
    "skewness_data_gph.plot(kind='bar',x='col',y='freq')"
   ]
  },
  {
   "cell_type": "markdown",
   "metadata": {},
   "source": [
    "#### **``Right Skewed Data``**"
   ]
  },
  {
   "cell_type": "code",
   "execution_count": 58,
   "metadata": {},
   "outputs": [],
   "source": [
    "skewness_data_right = pd.DataFrame([1,1,1,4,4,7,7,7,7,3,3,3,3,3,3,3,3,9,9,9,9,9,9])"
   ]
  },
  {
   "cell_type": "markdown",
   "metadata": {},
   "source": [
    "***``Approach-I``***"
   ]
  },
  {
   "cell_type": "code",
   "execution_count": 59,
   "metadata": {},
   "outputs": [
    {
     "name": "stdout",
     "output_type": "stream",
     "text": [
      "0    5.086957\n",
      "dtype: float64\n",
      "   0\n",
      "0  3\n",
      "0    8.810277\n",
      "dtype: float64\n",
      "0    2.968211\n",
      "dtype: float64\n",
      "0    0.2045\n",
      "dtype: float64\n"
     ]
    }
   ],
   "source": [
    "print(skewness_data_right.mean(), skewness_data_right.mode(), skewness_data_right.var(), skewness_data_right.std(), skewness_data_right.skew(),sep='\\n')"
   ]
  },
  {
   "cell_type": "markdown",
   "metadata": {},
   "source": [
    "***``Approach-II``***"
   ]
  },
  {
   "cell_type": "code",
   "execution_count": 60,
   "metadata": {},
   "outputs": [
    {
     "data": {
      "text/plain": [
       "array([0.19091365])"
      ]
     },
     "execution_count": 60,
     "metadata": {},
     "output_type": "execute_result"
    }
   ],
   "source": [
    "skw(skewness_data_right)"
   ]
  },
  {
   "cell_type": "markdown",
   "metadata": {},
   "source": [
    "## **``The Coefficient of Variation``**\n",
    "- The standard deviation is useful as a measure of variation within a given set of data. When one desires to compare the dispersion in two sets of data, however, comparing the two standard deviations may lead to fallacious results. \n",
    "- It may be that the two variables involved are measured in different units. \n",
    "    - For example, we may wish to know, for a certain population, whether serum cholesterol levels, measured in milligrams per 100 ml, are more variable than body weight, measured in pounds.\n",
    "    - Furthermore, although the same unit of measurement is used, the two means may be quite different. If we compare the standard deviation of weights of first-grade children with the standard deviation of weights of high school freshmen, we may find that the latter standard deviation is numerically larger than the former, because the weights themselves are larger, not because the dispersion is greater.\n",
    "    \n",
    "\\begin{align}\n",
    "\\\\ (Population) \\ C.V. & = \\frac{\\sigma}{\\bar{\\mu}} \\ . \\ (100) \\ \\%\n",
    "\\\\\n",
    "\\\\ (Sample) \\ C.V. & = \\frac{S}{\\bar{x}} \\ . \\ (100) \\ \\%\n",
    "\\end{align}\n",
    "\n",
    "- The coefficient of variation is also useful in comparing the results obtained by different persons who are conducting investigations involving the same variable. \n",
    "- Since the coefficient of variation is independent of the scale of measurement, it is a useful statistic for comparing the variability of two or more variables measured on different scales.\n",
    "     - We could, for example, use the coefficient of variation to compare the variability in weights of one sample of subjects whose weights are expressed in pounds with the variability in weights of another sample of subjects whose weights are expressed in kilograms."
   ]
  },
  {
   "cell_type": "markdown",
   "metadata": {},
   "source": [
    "***``Using Statsmodels``***"
   ]
  },
  {
   "cell_type": "code",
   "execution_count": 61,
   "metadata": {},
   "outputs": [],
   "source": [
    "from scipy.stats import variation as cv"
   ]
  },
  {
   "cell_type": "code",
   "execution_count": 62,
   "metadata": {},
   "outputs": [
    {
     "data": {
      "text/plain": [
       "array([0.28439628])"
      ]
     },
     "execution_count": 62,
     "metadata": {},
     "output_type": "execute_result"
    }
   ],
   "source": [
    "cv(skewness_data)"
   ]
  },
  {
   "cell_type": "code",
   "execution_count": 63,
   "metadata": {},
   "outputs": [
    {
     "data": {
      "text/plain": [
       "(7.421052631578948, 2.110519753238255)"
      ]
     },
     "execution_count": 63,
     "metadata": {},
     "output_type": "execute_result"
    }
   ],
   "source": [
    "np.mean(skewness_data['col'],axis=0), np.std(skewness_data['col'])"
   ]
  },
  {
   "cell_type": "code",
   "execution_count": 64,
   "metadata": {},
   "outputs": [
    {
     "data": {
      "text/plain": [
       "(3.8, 2.3151673805580453)"
      ]
     },
     "execution_count": 64,
     "metadata": {},
     "output_type": "execute_result"
    }
   ],
   "source": [
    "np.mean(skewness_data_gph['freq'],axis=0), np.std(skewness_data_gph['freq'])"
   ]
  },
  {
   "cell_type": "code",
   "execution_count": 65,
   "metadata": {},
   "outputs": [
    {
     "data": {
      "text/plain": [
       "(0.503448275862069, 0.6078947368421053)"
      ]
     },
     "execution_count": 65,
     "metadata": {},
     "output_type": "execute_result"
    }
   ],
   "source": [
    "(2.92/5.8), (2.31/3.8)"
   ]
  },
  {
   "cell_type": "markdown",
   "metadata": {},
   "source": [
    "## **``Percentiles and Quartiles``**\n",
    "- The mean and median are special cases of a family of parameters known as location parameters. \n",
    "- These descriptive measures are called location parameters because they can be used to designate certain positions on the horizontal axis when the distribution of a variable is graphed. \n",
    "    - In that sense the so-called location parameters “locate” the distribution on the horizontal axis.\n",
    "\n",
    "#### ***Other location parameters include percentiles and quartiles.*** \n",
    "##### We may define a percentile as follows:\n",
    "\n",
    "- Given a set of n observations xn, the pth percentile P is the x1; x2; . . . value of X such that p percent observations are less than X.\n",
    "\n",
    "- The 10th percentile, for example, is designated as P10, the 70th is designated P70, and so on. The **50th percentile** is the **median** and is designated P50.\n",
    "\n",
    "- The **25th percentile** is often referred to as the **first quartile** and denoted **Q1**.\n",
    "\n",
    "- The **50th percentile** (the median) is referred to as the second or middle quartile and written **Q2**, and the **75th percentile** is referred to as the **third quartile**, **Q3**."
   ]
  },
  {
   "cell_type": "markdown",
   "metadata": {},
   "source": [
    "## **``How you can find the position of Q1 and Q3``**\n",
    "##### ***Disclaimer*** :: Here, we are taking about finding the position of Q1 and Q3 in the dataset not their actual values.\n",
    "\n",
    "\\begin{align}\n",
    "\\\\ Q_{1} & = \\frac{n+1}{4}\n",
    "\\\\\n",
    "\\\\ Q_{3} & = \\frac{(n+1) \\ . \\ 3}{4}\n",
    "\\\\\n",
    "\\\\ Q_{2} & = Q_{3} - Q_{1} = \\frac{n+1}{2} = IQR\n",
    "\\\\\n",
    "\\\\ IQR & = Interquartile Range\n",
    "\\end{align}"
   ]
  },
  {
   "cell_type": "markdown",
   "metadata": {},
   "source": [
    "### **``How to find the values of Q1 and Q3?????``**\n",
    "**Use example**"
   ]
  },
  {
   "cell_type": "markdown",
   "metadata": {},
   "source": [
    "## **``Kurtosis``** \n",
    "- It describes the peakedness of the distribution.\n",
    "- It is a measure of the degree to which a distribution is “peaked” or flat in comparison to a normal distribution whose graph is characterized by a bell-shaped appearance.\n",
    "    - A distribution, in comparison to a normal distribution, may **possesses an excessive proportion of observations in its tails**, so that its graph exhibits a flattened appearance. Such a distribution is said to be **platykurtic**.\n",
    "    \n",
    "    - Conversely, a distribution, in comparison to a normal distribution, may **possess a smaller proportion of observations in its tails**, so that its graph exhibits a **more peaked appearance**. Such a distribution is said to be **leptokurtic**.\n",
    "    \n",
    "    - A normal, or bell-shaped distribution, is said to be **mesokurtic**."
   ]
  },
  {
   "cell_type": "code",
   "execution_count": 66,
   "metadata": {},
   "outputs": [],
   "source": [
    "from scipy.stats import kurtosis as kurt"
   ]
  },
  {
   "cell_type": "markdown",
   "metadata": {},
   "source": [
    "***``Skewed Data``***"
   ]
  },
  {
   "cell_type": "code",
   "execution_count": 67,
   "metadata": {},
   "outputs": [
    {
     "data": {
      "text/plain": [
       "array([2.35350301])"
      ]
     },
     "execution_count": 67,
     "metadata": {},
     "output_type": "execute_result"
    }
   ],
   "source": [
    "kurt(skewness_data)"
   ]
  },
  {
   "cell_type": "code",
   "execution_count": 68,
   "metadata": {},
   "outputs": [
    {
     "data": {
      "text/plain": [
       "array([-1.77095128])"
      ]
     },
     "execution_count": 68,
     "metadata": {},
     "output_type": "execute_result"
    }
   ],
   "source": [
    "skw(skewness_data)"
   ]
  },
  {
   "cell_type": "markdown",
   "metadata": {},
   "source": [
    "***``Normal Distribution``***"
   ]
  },
  {
   "cell_type": "code",
   "execution_count": 69,
   "metadata": {},
   "outputs": [
    {
     "data": {
      "text/plain": [
       "-0.23477827043683863"
      ]
     },
     "execution_count": 69,
     "metadata": {},
     "output_type": "execute_result"
    }
   ],
   "source": [
    "kurt(patient_id_age['AGE'])"
   ]
  },
  {
   "cell_type": "code",
   "execution_count": 70,
   "metadata": {},
   "outputs": [
    {
     "data": {
      "text/plain": [
       "0.23909298343052557"
      ]
     },
     "execution_count": 70,
     "metadata": {},
     "output_type": "execute_result"
    }
   ],
   "source": [
    "skw(patient_id_age['AGE'])"
   ]
  },
  {
   "cell_type": "markdown",
   "metadata": {},
   "source": [
    "##### ***``For a normal distribution, then 3.0 is subtracted from the result to give 0.0 as an outcome.``***\n",
    "\n",
    "![image3](Kurtosis.png)"
   ]
  },
  {
   "cell_type": "markdown",
   "metadata": {},
   "source": [
    "#### **``Five Number Summary and how to create Box-whisker plot using these five numbers?``**"
   ]
  },
  {
   "cell_type": "markdown",
   "metadata": {},
   "source": [
    "#### **``What is an Outlier?``**\n",
    "- Statistically speaking any data values outside the below limits are considered as outliers.\n",
    "\n",
    "\\begin{align}\n",
    "\\\\ x_{i} > Q_{3} + (1.5 \\ . \\ IQR)\n",
    "\\\\\n",
    "\\\\ x_{i} < Q_{1} - (1.5 \\ . \\ IQR)\n",
    "\\end{align}"
   ]
  },
  {
   "cell_type": "markdown",
   "metadata": {},
   "source": [
    "### **``Some practice questions``**"
   ]
  },
  {
   "cell_type": "markdown",
   "metadata": {},
   "source": [
    "##### _For each of the data sets in the following exercises compute (a) the mean, (b) the median, (c) the mode, (d) the range, (e) the variance, (f) the standard deviation, (g) the coefficient of variation, and (h) the interquartile range. Treat each data set as a sample. For those exercises for which you think it would be appropriate, construct a box-and-whisker plot and discuss the usefulness in understanding the nature of the data that this device provides. For each exercise select the measure of central tendency that you think would be most appropriate for describing the data. Give reasons to justify your choice._"
   ]
  },
  {
   "cell_type": "markdown",
   "metadata": {},
   "source": [
    "- **Question1.** Shair and Jasper (A-9) investigated whether decreasing the venous return in young rats would affect ultrasonic vocalizations (USVs). Their research showed no significant change in the number of ultrasonic vocalizations when blood was removed from either the superior vena cava or the carotid artery. Another important variable measured was the heart rate (bmp) during the withdrawal of blood. The table below presents the heart rate of seven rat pups from the experiment involving the carotid artery.\n",
    "\n",
    "**500 570 560 570 450 560 570**\n",
    "\n",
    "**Source:** Harry N. Shair and Anna Jasper, \"Decreased Venous Return Is Neither Sufficient nor Necessary to Elicit Ultrasonic Vocalization of Infant Rat Pups\"."
   ]
  },
  {
   "cell_type": "markdown",
   "metadata": {},
   "source": [
    "#### **``Some definitions for knowledge building``**:\n",
    "\n",
    "**Venous Return**\n",
    "- The rate at which blood is flowing back to the heart. \n",
    "\n",
    "**Ultrasonic vocalizations**\n",
    " - Rodent communication includes calls in the ultrasonic range. \n",
    " - Mice pups will start emitting ultrasonic vocalizations (USV) shortly after birth. \n",
    " - Ultrasonic vocalizations occur at frequencies ranging from approximately 20–100 kHz. \n",
    " - They are emitted by animals such as bats and rodents, and have been extensively studied in rats and mice. \n",
    "     - As opposed to sonic vocalizations, ultrasonic vocalizations cannot be detected by the human ear.\n",
    "\n",
    "**Rodent**\n",
    " - Rodents are mammals of the order Rodentia, which are characterized by a single pair of continuously growing incisors in each of the upper and lower jaws. \n",
    " - About 40% of all mammal species are rodents; they are found in vast numbers on all continents except Antarctica.\n",
    "     - For example: Rats, Squirrels, Hamster and others.\n",
    " \n",
    "**What is the function of the superior and inferior vena cava?**\n",
    "- These blood vessels carry oxygen-depleted blood from various regions of the body to the right atrium of the heart. \n",
    "- The superior vena cava delivers blood from the head and chest area to the heart\n",
    "- While the inferior vena cava returns blood from the lower body regions to the heart\n",
    "\n",
    "**What are Carotid Arteries?**\n",
    "- The carotid arteries are major blood vessels in the neck that supply blood to the brain, neck, and face. \n",
    "- There are two carotid arteries, one on the right and one on the left. \n",
    "    - In the neck, each carotid artery branches into two divisions:\n",
    "        - The internal carotid artery supplies blood to the brain.\n",
    "        - The external carotid artery supplies blood to the face and neck.\n",
    "\n",
    "**Pulmonary circulation** moves blood between the heart and the lungs. It transports deoxygenated blood to the lungs to absorb oxygen and release carbon dioxide. The oxygenated blood then flows back to the heart. \n",
    "\n",
    "**Systemic circulation** moves blood between the heart and the rest of the body. It sends oxygenated blood out to cells and returns deoxygenated blood to the heart.\n",
    "\n",
    "**Cardiac output:** The amount of blood the heart pumps through the circulatory system in a minute. The amount of blood put out by the left ventricle of the heart in one contraction is called the stroke volume. The stroke volume and the heart rate determine the cardiac output. A normal adult has a cardiac output of 4.7 liters (5 quarts) of blood per minute."
   ]
  },
  {
   "cell_type": "code",
   "execution_count": 71,
   "metadata": {},
   "outputs": [],
   "source": [
    "rats_heart_rate = np.array([500, 570 ,560 ,570, 450, 560, 570])"
   ]
  },
  {
   "cell_type": "code",
   "execution_count": 72,
   "metadata": {},
   "outputs": [
    {
     "name": "stdout",
     "output_type": "stream",
     "text": [
      "Mean is 540.0, Median is 560.0, Mode is 570\n",
      "Variance is 2200.0\n",
      "Standard Deviation is 46.904\n",
      "Co-efficient of variation is 8.686\n",
      "\n",
      "$$$$$ 5 Number Series $$$$$\n",
      "\n",
      "Min is 450, Q1, Q2 and Q3 are [530. 560. 570.], Max is 570\n",
      "IQR is [40.]\n"
     ]
    }
   ],
   "source": [
    "print(\"Mean is {}, Median is {}, Mode is {}\".format(np.mean(rats_heart_rate), np.median(rats_heart_rate), \n",
    "                                                    np.asarray(pd.DataFrame(rats_heart_rate).mode()[0])[0])) \n",
    "print(\"Variance is {}\".format(round(np.var(rats_heart_rate,ddof=1),3))) \n",
    "print(\"Standard Deviation is {}\".format(round(np.std(rats_heart_rate,ddof=1),3)))\n",
    "print(\"Co-efficient of variation is {}\".format(round(np.std(rats_heart_rate,ddof=1)*100/np.mean(rats_heart_rate),3)))\n",
    "print(\"\\n$$$$$ 5 Number Series $$$$$\\n\")\n",
    "print(\"Min is {}, Q1, Q2 and Q3 are {}, Max is {}\".format(np.min(rats_heart_rate),np.quantile(rats_heart_rate,[0.25,0.5,0.75]),np.max(rats_heart_rate)))\n",
    "print(\"IQR is {}\".format(np.quantile(rats_heart_rate,[0.75]) - np.quantile(rats_heart_rate,[0.25])))"
   ]
  },
  {
   "cell_type": "code",
   "execution_count": 73,
   "metadata": {},
   "outputs": [
    {
     "data": {
      "image/png": "[encoded data removed]",
      "text/plain": [
       "<Figure size 504x504 with 1 Axes>"
      ]
     },
     "metadata": {
      "needs_background": "light"
     },
     "output_type": "display_data"
    }
   ],
   "source": [
    "plt.figure(figsize=(7,7))\n",
    "plt.boxplot(rats_heart_rate)\n",
    "plt.minorticks_on()\n",
    "plt.grid(which='major',linestyle='-.',color='lightgray')\n",
    "plt.ylabel('Heart Rate(bmp)',fontdict=font_style)\n",
    "plt.title('Box and Whisker Plot of Rats Heart Rate',fontdict=font_style)\n",
    "plt.show()"
   ]
  },
  {
   "cell_type": "markdown",
   "metadata": {},
   "source": [
    "## **``QQ (Quantile-Quantile) Plot``**"
   ]
  },
  {
   "cell_type": "code",
   "execution_count": 74,
   "metadata": {},
   "outputs": [],
   "source": [
    "from scipy.stats import probplot as qqplot"
   ]
  },
  {
   "cell_type": "code",
   "execution_count": 75,
   "metadata": {},
   "outputs": [
    {
     "data": {
      "image/png": "[encoded data removed]",
      "text/plain": [
       "<Figure size 432x288 with 1 Axes>"
      ]
     },
     "metadata": {
      "needs_background": "light"
     },
     "output_type": "display_data"
    }
   ],
   "source": [
    "qqplot(patient_id_age['AGE'],plot=plt)\n",
    "plt.show()"
   ]
  },
  {
   "cell_type": "code",
   "execution_count": 76,
   "metadata": {},
   "outputs": [
    {
     "data": {
      "image/png": "[encoded data removed]",
      "text/plain": [
       "<Figure size 432x432 with 1 Axes>"
      ]
     },
     "metadata": {
      "needs_background": "light"
     },
     "output_type": "display_data"
    }
   ],
   "source": [
    "plt.figure(figsize=(6,6))\n",
    "plt.boxplot(patient_id_age['AGE'])\n",
    "plt.minorticks_on()\n",
    "plt.grid(which='major',linestyle='-.',color='lightgray')\n",
    "plt.ylabel('Subject AGE',fontdict=font_style)\n",
    "plt.title('Box and Whisker Plot of Patients Age',fontdict=font_style)\n",
    "plt.show()"
   ]
  },
  {
   "cell_type": "code",
   "execution_count": 77,
   "metadata": {},
   "outputs": [
    {
     "data": {
      "image/png": "[encoded data removed]",
      "text/plain": [
       "<Figure size 432x432 with 1 Axes>"
      ]
     },
     "metadata": {
      "needs_background": "light"
     },
     "output_type": "display_data"
    }
   ],
   "source": [
    "plt.figure(figsize=(6,6))\n",
    "plt.hist(x=patient_id_age['AGE'])\n",
    "plt.minorticks_on()\n",
    "plt.grid(which='major',linestyle='-.',color='lightgray')\n",
    "plt.xlabel('Subject AGE',fontdict=font_style)\n",
    "plt.title('Histogram of Patients Ages',fontdict=font_style)\n",
    "plt.show()"
   ]
  },
  {
   "cell_type": "markdown",
   "metadata": {},
   "source": [
    "- **Question2.** Johnson et al. (A-16) performed a retrospective review of 50 fetuses that underwent open fetal myelomeningocele closure. The data below show the gestational age in weeks of the 50 fetuses undergoing the procedure.\n",
    "\n",
    "**25\n",
    "25\n",
    "26\n",
    "27\n",
    "29\n",
    "29\n",
    "29\n",
    "30\n",
    "30\n",
    "31\n",
    "32\n",
    "32\n",
    "32\n",
    "33\n",
    "33\n",
    "33\n",
    "33\n",
    "34\n",
    "34\n",
    "34\n",
    "35\n",
    "35\n",
    "35\n",
    "35\n",
    "35\n",
    "35\n",
    "35\n",
    "35\n",
    "35\n",
    "36\n",
    "36\n",
    "36\n",
    "36\n",
    "36\n",
    "36\n",
    "36\n",
    "36\n",
    "36\n",
    "36\n",
    "36\n",
    "36\n",
    "36\n",
    "36\n",
    "36\n",
    "36\n",
    "36\n",
    "36\n",
    "36\n",
    "37\n",
    "37**\n",
    "\n",
    "(a) Construct a stem-and-leaf plot for these gestational ages.\n",
    "\n",
    "(b) Based on the stem-and-leaf plot, what one word would you use to describe the nature of the data?\n",
    "\n",
    "(c) Why do you think the stem-and-leaf plot looks the way it does?\n",
    "\n",
    "(d) Compute the mean, median, variance, and standard deviation."
   ]
  },
  {
   "cell_type": "code",
   "execution_count": 78,
   "metadata": {},
   "outputs": [],
   "source": [
    "pregnancy_age = np.array([25,25,26,27,29,29,29,30,30,31,32,32,32,33,33,33,33,34,34,34,\n",
    "                          35,35,35,35,35,35,35,35,35,36,36,36,36,36,36,36,36,36,36,36,36,36,36,36,36,36,36,36,37,37])"
   ]
  },
  {
   "cell_type": "code",
   "execution_count": 79,
   "metadata": {},
   "outputs": [
    {
     "data": {
      "image/png": "[encoded data removed]",
      "text/plain": [
       "<Figure size 540x126 with 1 Axes>"
      ]
     },
     "metadata": {
      "needs_background": "light"
     },
     "output_type": "display_data"
    }
   ],
   "source": [
    "stem.stem_graphic(pregnancy_age,scale=10,legend_pos='bottom',break_on=5)\n",
    "plt.show()"
   ]
  },
  {
   "cell_type": "code",
   "execution_count": 80,
   "metadata": {},
   "outputs": [
    {
     "data": {
      "text/plain": [
       "(33.68, 10.303673469387757, 3.209933561522381)"
      ]
     },
     "execution_count": 80,
     "metadata": {},
     "output_type": "execute_result"
    }
   ],
   "source": [
    "np.mean(pregnancy_age),np.var(pregnancy_age,ddof=1),np.std(pregnancy_age,ddof=1)"
   ]
  },
  {
   "cell_type": "code",
   "execution_count": 81,
   "metadata": {},
   "outputs": [
    {
     "data": {
      "image/png": "[encoded data removed]",
      "text/plain": [
       "<Figure size 432x288 with 1 Axes>"
      ]
     },
     "metadata": {
      "needs_background": "light"
     },
     "output_type": "display_data"
    }
   ],
   "source": [
    "plt.hist(pregnancy_age)\n",
    "plt.show()"
   ]
  },
  {
   "cell_type": "code",
   "execution_count": 82,
   "metadata": {},
   "outputs": [
    {
     "data": {
      "image/png": "[encoded data removed]",
      "text/plain": [
       "<Figure size 432x288 with 1 Axes>"
      ]
     },
     "metadata": {
      "needs_background": "light"
     },
     "output_type": "display_data"
    }
   ],
   "source": [
    "qqplot(pregnancy_age,plot=plt)\n",
    "plt.show()"
   ]
  },
  {
   "cell_type": "code",
   "execution_count": 83,
   "metadata": {},
   "outputs": [
    {
     "data": {
      "image/png": "[encoded data removed]",
      "text/plain": [
       "<Figure size 432x288 with 1 Axes>"
      ]
     },
     "metadata": {
      "needs_background": "light"
     },
     "output_type": "display_data"
    }
   ],
   "source": [
    "plt.boxplot(pregnancy_age)\n",
    "plt.show()"
   ]
  },
  {
   "cell_type": "markdown",
   "metadata": {},
   "source": [
    "- **Question3.** The following are the cystatin C levels (mg/L) for the patients described in Exercise 15 (A-17). Cystatin C is a cationic basic protein that was investigated for its relationship to GFR levels. In addition, creatinine levels are also given. (Note: Some subjects were measured more than once.)\n",
    "\n",
    "![q3](Q3.png)\n",
    "\n",
    "(a) For each variable, compute the mean, median, variance, standard deviation, and coefficient of variation.\n",
    "\n",
    "(b) For each variable, construct a stem-and-leaf display and a box-and-whisker plot.\n",
    "\n",
    "(c) Which set of measurements is more variable, cystatin C or creatinine? On what do you base your answer?"
   ]
  },
  {
   "cell_type": "code",
   "execution_count": 84,
   "metadata": {},
   "outputs": [],
   "source": [
    "cystatin_levels = np.array([1.78,2.16,1.82,1.86,1.75,1.83,2.49,1.69,1.85,1.76,1.25,1.50,2.06,2.34,\n",
    "                            4.69,3.78,2.24,4.93,2.71,1.76,2.62,2.61,3.65,2.36,3.25,2.01,2.51])\n",
    "\n",
    "creatinine_levels = np.array([0.35,0.30,0.20,0.17,0.15,0.13,0.14,0.12,0.24,0.16,0.17,0.11,0.12,\n",
    "                              0.14,0.11,0.09,0.12,0.07,0.12,0.11,0.07,0.10,0.13,0.09,0.12,0.06])"
   ]
  },
  {
   "cell_type": "code",
   "execution_count": 122,
   "metadata": {},
   "outputs": [
    {
     "data": {
      "text/plain": [
       "(2.4170370370370367, 0.8114652949245541, 0.9008136849118991)"
      ]
     },
     "execution_count": 122,
     "metadata": {},
     "output_type": "execute_result"
    }
   ],
   "source": [
    "np.mean(cystatin_levels), np.var(cystatin_levels,ddof=1),np.std(cystatin_levels,ddof=1)"
   ]
  },
  {
   "cell_type": "code",
   "execution_count": 125,
   "metadata": {},
   "outputs": [
    {
     "data": {
      "text/plain": [
       "(2.16, 0.12)"
      ]
     },
     "execution_count": 125,
     "metadata": {},
     "output_type": "execute_result"
    }
   ],
   "source": [
    "np.median(cystatin_levels),np.median(creatinine_levels)"
   ]
  },
  {
   "cell_type": "code",
   "execution_count": 131,
   "metadata": {},
   "outputs": [
    {
     "data": {
      "text/plain": [
       "(0.14192307692307693, 0.004528153846153846, 0.4649335635795232)"
      ]
     },
     "execution_count": 131,
     "metadata": {},
     "output_type": "execute_result"
    }
   ],
   "source": [
    "np.mean(creatinine_levels), np.var(creatinine_levels,ddof=1),np.std(creatinine_levels,ddof=0)/np.mean(creatinine_levels)"
   ]
  },
  {
   "cell_type": "code",
   "execution_count": 126,
   "metadata": {},
   "outputs": [],
   "source": [
    "from scipy.stats import variation as cv"
   ]
  },
  {
   "cell_type": "code",
   "execution_count": 127,
   "metadata": {},
   "outputs": [
    {
     "data": {
      "text/plain": [
       "(0.37269337255012686, 0.4649335635795232)"
      ]
     },
     "execution_count": 127,
     "metadata": {},
     "output_type": "execute_result"
    }
   ],
   "source": [
    "cv(cystatin_levels) , cv(creatinine_levels)"
   ]
  },
  {
   "cell_type": "code",
   "execution_count": 85,
   "metadata": {},
   "outputs": [
    {
     "data": {
      "image/png": "[encoded data removed]",
      "text/plain": [
       "<Figure size 540x198 with 1 Axes>"
      ]
     },
     "metadata": {
      "needs_background": "light"
     },
     "output_type": "display_data"
    },
    {
     "data": {
      "image/png": "[encoded data removed]",
      "text/plain": [
       "<Figure size 540x72 with 1 Axes>"
      ]
     },
     "metadata": {
      "needs_background": "light"
     },
     "output_type": "display_data"
    }
   ],
   "source": [
    "stem.stem_graphic(cystatin_levels,break_on=5,scale=1)\n",
    "stem.stem_graphic(creatinine_levels,break_on=5,scale=1)\n",
    "plt.show()"
   ]
  },
  {
   "cell_type": "code",
   "execution_count": 86,
   "metadata": {},
   "outputs": [
    {
     "data": {
      "image/png": "[encoded data removed]",
      "text/plain": [
       "<Figure size 126x360 with 1 Axes>"
      ]
     },
     "metadata": {
      "needs_background": "light"
     },
     "output_type": "display_data"
    },
    {
     "data": {
      "image/png": "[encoded data removed]",
      "text/plain": [
       "<Figure size 126x414 with 1 Axes>"
      ]
     },
     "metadata": {
      "needs_background": "light"
     },
     "output_type": "display_data"
    }
   ],
   "source": [
    "stem.stem_hist(cystatin_levels)\n",
    "stem.stem_hist(creatinine_levels)\n",
    "plt.show()"
   ]
  },
  {
   "cell_type": "code",
   "execution_count": 87,
   "metadata": {},
   "outputs": [
    {
     "data": {
      "image/png": "[encoded data removed]",
      "text/plain": [
       "<Figure size 432x288 with 1 Axes>"
      ]
     },
     "metadata": {
      "needs_background": "light"
     },
     "output_type": "display_data"
    },
    {
     "data": {
      "image/png": "[encoded data removed]",
      "text/plain": [
       "<Figure size 432x288 with 1 Axes>"
      ]
     },
     "metadata": {
      "needs_background": "light"
     },
     "output_type": "display_data"
    }
   ],
   "source": [
    "plt.boxplot(cystatin_levels)\n",
    "plt.show()\n",
    "plt.boxplot(creatinine_levels)\n",
    "plt.show()"
   ]
  },
  {
   "cell_type": "code",
   "execution_count": 88,
   "metadata": {},
   "outputs": [],
   "source": [
    "from scipy.stats import variation as cv"
   ]
  },
  {
   "cell_type": "code",
   "execution_count": 89,
   "metadata": {},
   "outputs": [
    {
     "data": {
      "text/plain": [
       "(0.37269337255012686, 0.4649335635795232)"
      ]
     },
     "execution_count": 89,
     "metadata": {},
     "output_type": "execute_result"
    }
   ],
   "source": [
    "cv(cystatin_levels), cv(creatinine_levels)"
   ]
  },
  {
   "cell_type": "markdown",
   "metadata": {},
   "source": [
    "- **Question4.**Thilothammal et al. (A-19) designed a study to determine the efficacy of BCG (bacillus Calmette-Guueerin) vaccine in preventing tuberculous meningitis. Among the data collected on each subject was a measure of nutritional status (actual weight expressed as a percentage of expected weight for actual height). The following table shows the nutritional status values of the 107 cases studied.\n",
    "\n",
    "(a) For these data compute the following descriptive measures: mean, median, mode, variance, standard deviation, range, first quartile, third quartile, and IQR.\n",
    "\n",
    "(b) Construct the following graphs for the data: histogram, frequency polygon, stem-and-leaf plot, and boxplot.\n",
    "\n",
    "(c) Discuss the data in terms of variability. Compare the IQR with the range. What does the comparison tell you about the variability of the observations?\n",
    "\n",
    "(d) What proportion of the measurements are within one standard deviation of the mean? Two standard deviations of the mean? Three standard deviations of the mean?\n",
    "\n",
    "(e) What proportion of the measurements are less than 100?\n",
    "\n",
    "(f) What proportion of the measurements are less than 50?"
   ]
  },
  {
   "cell_type": "code",
   "execution_count": 90,
   "metadata": {},
   "outputs": [],
   "source": [
    "bcg_nutritional_status = np.array([73.3\n",
    ",54.6\n",
    ",82.4\n",
    ",76.5\n",
    ",72.2\n",
    ",73.6\n",
    ",74.0\n",
    ",80.5\n",
    ",71.0\n",
    ",56.8\n",
    ",80.6\n",
    ",100.0\n",
    ",79.6\n",
    ",67.3\n",
    ",50.4\n",
    ",66.0\n",
    ",83.0\n",
    ",72.3\n",
    ",55.7\n",
    ",64.1\n",
    ",66.3\n",
    ",50.9\n",
    ",71.0\n",
    ",76.5\n",
    ",99.6\n",
    ",79.3\n",
    ",76.9\n",
    ",96.0\n",
    ",64.8\n",
    ",74.0\n",
    ",72.6\n",
    ",80.7\n",
    ",109.0\n",
    ",68.6\n",
    ",73.8\n",
    ",74.0\n",
    ",72.7\n",
    ",65.9\n",
    ",73.3\n",
    ",84.4\n",
    ",73.2\n",
    ",70.0\n",
    ",72.8\n",
    ",73.6\n",
    ",70.0\n",
    ",77.4\n",
    ",76.4\n",
    ",66.3\n",
    ",50.5\n",
    ",72.0\n",
    ",97.5\n",
    ",130.0\n",
    ",68.1\n",
    ",86.4\n",
    ",70.0\n",
    ",73.0\n",
    ",59.7\n",
    ",89.6\n",
    ",76.9\n",
    ",74.6\n",
    ",67.7\n",
    ",91.9\n",
    ",55.0\n",
    ",90.9\n",
    ",70.5\n",
    ",88.2\n",
    ",70.5\n",
    ",74.0\n",
    ",55.5\n",
    ",80.0\n",
    ",76.9\n",
    ",78.1\n",
    ",63.4\n",
    ",58.8\n",
    ",92.3\n",
    ",100.0\n",
    ",84.0\n",
    ",71.4\n",
    ",84.6\n",
    ",123.7\n",
    ",93.7\n",
    ",76.9\n",
    ",79.6\n",
    ",45.6\n",
    ",92.5\n",
    ",65.6\n",
    ",61.3\n",
    ",64.5\n",
    ",72.7\n",
    ",77.5\n",
    ",76.9\n",
    ",80.2\n",
    ",76.9\n",
    ",88.7\n",
    ",78.1\n",
    ",60.6\n",
    ",59.0\n",
    ",84.7\n",
    ",78.2\n",
    ",72.4\n",
    ",68.3\n",
    ",67.5\n",
    ",76.9\n",
    ",82.6\n",
    ",85.4\n",
    ",65.7\n",
    ",65.9])"
   ]
  },
  {
   "cell_type": "code",
   "execution_count": 91,
   "metadata": {},
   "outputs": [
    {
     "data": {
      "text/plain": [
       "(107,)"
      ]
     },
     "execution_count": 91,
     "metadata": {},
     "output_type": "execute_result"
    }
   ],
   "source": [
    "bcg_nutritional_status.shape"
   ]
  },
  {
   "cell_type": "code",
   "execution_count": 92,
   "metadata": {},
   "outputs": [
    {
     "data": {
      "image/png": "[encoded data removed]",
      "text/plain": [
       "<Figure size 540x234 with 1 Axes>"
      ]
     },
     "metadata": {
      "needs_background": "light"
     },
     "output_type": "display_data"
    },
    {
     "data": {
      "image/png": "[encoded data removed]",
      "text/plain": [
       "<Figure size 540x396 with 1 Axes>"
      ]
     },
     "metadata": {
      "needs_background": "light"
     },
     "output_type": "display_data"
    }
   ],
   "source": [
    "stem.stem_graphic(bcg_nutritional_status,scale=10)\n",
    "stem.stem_graphic(bcg_nutritional_status,scale=10,break_on=5)\n",
    "plt.show()"
   ]
  },
  {
   "cell_type": "code",
   "execution_count": 93,
   "metadata": {},
   "outputs": [
    {
     "data": {
      "image/png": "[encoded data removed]",
      "text/plain": [
       "<Figure size 432x288 with 1 Axes>"
      ]
     },
     "metadata": {
      "needs_background": "light"
     },
     "output_type": "display_data"
    }
   ],
   "source": [
    "plt.hist(bcg_nutritional_status)\n",
    "plt.show()"
   ]
  },
  {
   "cell_type": "code",
   "execution_count": 94,
   "metadata": {},
   "outputs": [
    {
     "data": {
      "image/png": "[encoded data removed]",
      "text/plain": [
       "<Figure size 432x288 with 1 Axes>"
      ]
     },
     "metadata": {
      "needs_background": "light"
     },
     "output_type": "display_data"
    }
   ],
   "source": [
    "qqplot(bcg_nutritional_status,plot=plt)\n",
    "plt.show()"
   ]
  },
  {
   "cell_type": "code",
   "execution_count": 95,
   "metadata": {},
   "outputs": [
    {
     "data": {
      "image/png": "[encoded data removed]",
      "text/plain": [
       "<Figure size 432x288 with 1 Axes>"
      ]
     },
     "metadata": {
      "needs_background": "light"
     },
     "output_type": "display_data"
    }
   ],
   "source": [
    "plt.boxplot(bcg_nutritional_status)\n",
    "plt.show()"
   ]
  },
  {
   "cell_type": "code",
   "execution_count": 96,
   "metadata": {},
   "outputs": [],
   "source": [
    "from scipy.stats import skew as skw, kurtosis as krt"
   ]
  },
  {
   "cell_type": "code",
   "execution_count": 97,
   "metadata": {},
   "outputs": [
    {
     "data": {
      "text/plain": [
       "(1.0074524317129416, 2.722847188853673)"
      ]
     },
     "execution_count": 97,
     "metadata": {},
     "output_type": "execute_result"
    }
   ],
   "source": [
    "skw(bcg_nutritional_status), krt(bcg_nutritional_status)"
   ]
  },
  {
   "cell_type": "code",
   "execution_count": 98,
   "metadata": {},
   "outputs": [
    {
     "name": "stdout",
     "output_type": "stream",
     "text": [
      "75.397 13.644\n"
     ]
    }
   ],
   "source": [
    "bcg_nutritional_status_mean = round(np.mean(bcg_nutritional_status),3)\n",
    "bcg_nutritional_status_stddev = round(np.std(bcg_nutritional_status,ddof=1),3)\n",
    "two_stddev = bcg_nutritional_status_stddev*2\n",
    "three_stddev = bcg_nutritional_status_stddev*3\n",
    "print(bcg_nutritional_status_mean,bcg_nutritional_status_stddev)"
   ]
  },
  {
   "cell_type": "code",
   "execution_count": 99,
   "metadata": {},
   "outputs": [
    {
     "data": {
      "text/plain": [
       "48.10900000000001"
      ]
     },
     "execution_count": 99,
     "metadata": {},
     "output_type": "execute_result"
    }
   ],
   "source": [
    "bcg_nutritional_status_mean - two_stddev"
   ]
  },
  {
   "cell_type": "code",
   "execution_count": 100,
   "metadata": {},
   "outputs": [
    {
     "data": {
      "text/plain": [
       "102.685"
      ]
     },
     "execution_count": 100,
     "metadata": {},
     "output_type": "execute_result"
    }
   ],
   "source": [
    "bcg_nutritional_status_mean + two_stddev"
   ]
  },
  {
   "cell_type": "code",
   "execution_count": 101,
   "metadata": {},
   "outputs": [
    {
     "data": {
      "text/plain": [
       "116.32900000000001"
      ]
     },
     "execution_count": 101,
     "metadata": {},
     "output_type": "execute_result"
    }
   ],
   "source": [
    "bcg_nutritional_status_mean + three_stddev"
   ]
  },
  {
   "cell_type": "code",
   "execution_count": 102,
   "metadata": {},
   "outputs": [
    {
     "data": {
      "text/plain": [
       "34.465"
      ]
     },
     "execution_count": 102,
     "metadata": {},
     "output_type": "execute_result"
    }
   ],
   "source": [
    "bcg_nutritional_status_mean - three_stddev"
   ]
  },
  {
   "cell_type": "code",
   "execution_count": 103,
   "metadata": {},
   "outputs": [],
   "source": [
    "quantiles = np.quantile(bcg_nutritional_status,[0.0088,0.25,0.50,0.75,0.97])"
   ]
  },
  {
   "cell_type": "code",
   "execution_count": 104,
   "metadata": {},
   "outputs": [
    {
     "data": {
      "text/plain": [
       "array([ 50.07744,  67.6    ,  73.8    ,  80.55   , 100.     ])"
      ]
     },
     "execution_count": 104,
     "metadata": {},
     "output_type": "execute_result"
    }
   ],
   "source": [
    "quantiles"
   ]
  },
  {
   "cell_type": "code",
   "execution_count": 105,
   "metadata": {},
   "outputs": [
    {
     "data": {
      "text/plain": [
       "array([45.6])"
      ]
     },
     "execution_count": 105,
     "metadata": {},
     "output_type": "execute_result"
    }
   ],
   "source": [
    "bcg_nutritional_status[bcg_nutritional_status <= 50]"
   ]
  },
  {
   "cell_type": "code",
   "execution_count": 106,
   "metadata": {},
   "outputs": [
    {
     "data": {
      "text/plain": [
       "array([ 50.07744, 100.     ])"
      ]
     },
     "execution_count": 106,
     "metadata": {},
     "output_type": "execute_result"
    }
   ],
   "source": [
    "np.percentile(bcg_nutritional_status,[0.88,97])"
   ]
  },
  {
   "cell_type": "markdown",
   "metadata": {},
   "source": [
    "## **``Discrete Probability Distributions``**"
   ]
  },
  {
   "cell_type": "markdown",
   "metadata": {},
   "source": [
    "- The probability distribution of a discrete random variable is a table, graph, formula, or other device used to specify all possible values of a discrete random variable along with their respective probabilities.\n",
    "- The discrete probability distribution be represented by **p(x)** that is the probability of the **discrete random variable X** assume to be x means **P(X=x)**."
   ]
  },
  {
   "cell_type": "markdown",
   "metadata": {},
   "source": [
    "\\begin{align}\n",
    "\\\\ (Freq \\ Distn) \\ \\mu & = \\sum_{i=1}^{N} [ \\ X_{i} . p(X_{i}) \\ ]\n",
    "\\\\\n",
    "\\\\ p(X) & = probability \\ or \\ relative \\ frequency \\ of \\ that \\ event \\ or \\ discrete \\ random \\ variable = P(X=x)\n",
    "\\\\\n",
    "\\\\ p(X) & = P(X = x_{1}) + P(X = x_{2}) + P(X = x_{3}) \\ + .... + \\ P(X = x_{N}) = 1\n",
    "\\\\\n",
    "\\\\ (Variance) \\ \\sigma^{2} & = \\sum_{i=1}^{N} [(X_{i} - \\mu)^{2}.p(X_{i})]\n",
    "\\\\\n",
    "\\\\ (Standard \\ Deviation) \\ \\sigma & = \\sqrt{\\sigma^{2}}\n",
    "\\end{align}"
   ]
  },
  {
   "cell_type": "markdown",
   "metadata": {},
   "source": [
    "**Below table represents the hunger rates of families with children in a local Head Start program in Athens, Ohio.**\n",
    "\n",
    "![discrete_rv_distn](Discrete_RV_Distn.png)\n",
    "\n",
    "- Q1. What is the probability that a family picked at random used two or fewer assistance programs?\n",
    "\n",
    "- Q2. What is the probability that a randomly selected family used fewer than four programs?\n",
    "\n",
    "- Q3. What is the probability that a randomly selected family used five or more programs?\n",
    "\n",
    "- Q4. What is the probability that a randomly selected family used between three and five programs, inclusive?"
   ]
  },
  {
   "cell_type": "markdown",
   "metadata": {},
   "source": [
    "### **``Question``**\n",
    "\n",
    "![Prob_dist_q](Discrete_RV_Distn_Q2.PNG)"
   ]
  },
  {
   "cell_type": "code",
   "execution_count": 107,
   "metadata": {},
   "outputs": [],
   "source": [
    "additive_substances = pd.DataFrame({'number_of_subs': [0,1,2,3,4,5,6,7,8,9], 'freq': [144,342,142,72,39,20,6,9,2,1]})"
   ]
  },
  {
   "cell_type": "code",
   "execution_count": 108,
   "metadata": {},
   "outputs": [
    {
     "data": {
      "text/html": [
       "<div>\n",
       "<style scoped>\n",
       "    .dataframe tbody tr th:only-of-type {\n",
       "        vertical-align: middle;\n",
       "    }\n",
       "\n",
       "    .dataframe tbody tr th {\n",
       "        vertical-align: top;\n",
       "    }\n",
       "\n",
       "    .dataframe thead th {\n",
       "        text-align: right;\n",
       "    }\n",
       "</style>\n",
       "<table border=\"1\" class=\"dataframe\">\n",
       "  <thead>\n",
       "    <tr style=\"text-align: right;\">\n",
       "      <th></th>\n",
       "      <th>number_of_subs</th>\n",
       "      <th>freq</th>\n",
       "    </tr>\n",
       "  </thead>\n",
       "  <tbody>\n",
       "    <tr>\n",
       "      <th>0</th>\n",
       "      <td>0</td>\n",
       "      <td>144</td>\n",
       "    </tr>\n",
       "    <tr>\n",
       "      <th>1</th>\n",
       "      <td>1</td>\n",
       "      <td>342</td>\n",
       "    </tr>\n",
       "    <tr>\n",
       "      <th>2</th>\n",
       "      <td>2</td>\n",
       "      <td>142</td>\n",
       "    </tr>\n",
       "    <tr>\n",
       "      <th>3</th>\n",
       "      <td>3</td>\n",
       "      <td>72</td>\n",
       "    </tr>\n",
       "    <tr>\n",
       "      <th>4</th>\n",
       "      <td>4</td>\n",
       "      <td>39</td>\n",
       "    </tr>\n",
       "    <tr>\n",
       "      <th>5</th>\n",
       "      <td>5</td>\n",
       "      <td>20</td>\n",
       "    </tr>\n",
       "    <tr>\n",
       "      <th>6</th>\n",
       "      <td>6</td>\n",
       "      <td>6</td>\n",
       "    </tr>\n",
       "    <tr>\n",
       "      <th>7</th>\n",
       "      <td>7</td>\n",
       "      <td>9</td>\n",
       "    </tr>\n",
       "    <tr>\n",
       "      <th>8</th>\n",
       "      <td>8</td>\n",
       "      <td>2</td>\n",
       "    </tr>\n",
       "    <tr>\n",
       "      <th>9</th>\n",
       "      <td>9</td>\n",
       "      <td>1</td>\n",
       "    </tr>\n",
       "  </tbody>\n",
       "</table>\n",
       "</div>"
      ],
      "text/plain": [
       "   number_of_subs  freq\n",
       "0               0   144\n",
       "1               1   342\n",
       "2               2   142\n",
       "3               3    72\n",
       "4               4    39\n",
       "5               5    20\n",
       "6               6     6\n",
       "7               7     9\n",
       "8               8     2\n",
       "9               9     1"
      ]
     },
     "execution_count": 108,
     "metadata": {},
     "output_type": "execute_result"
    }
   ],
   "source": [
    "additive_substances"
   ]
  },
  {
   "cell_type": "code",
   "execution_count": 109,
   "metadata": {},
   "outputs": [],
   "source": [
    "additive_substances['relative_freq'] = additive_substances['freq']/additive_substances['freq'].sum()"
   ]
  },
  {
   "cell_type": "code",
   "execution_count": 110,
   "metadata": {},
   "outputs": [
    {
     "data": {
      "text/html": [
       "<div>\n",
       "<style scoped>\n",
       "    .dataframe tbody tr th:only-of-type {\n",
       "        vertical-align: middle;\n",
       "    }\n",
       "\n",
       "    .dataframe tbody tr th {\n",
       "        vertical-align: top;\n",
       "    }\n",
       "\n",
       "    .dataframe thead th {\n",
       "        text-align: right;\n",
       "    }\n",
       "</style>\n",
       "<table border=\"1\" class=\"dataframe\">\n",
       "  <thead>\n",
       "    <tr style=\"text-align: right;\">\n",
       "      <th></th>\n",
       "      <th>number_of_subs</th>\n",
       "      <th>freq</th>\n",
       "      <th>relative_freq</th>\n",
       "    </tr>\n",
       "  </thead>\n",
       "  <tbody>\n",
       "    <tr>\n",
       "      <th>0</th>\n",
       "      <td>0</td>\n",
       "      <td>144</td>\n",
       "      <td>0.185328</td>\n",
       "    </tr>\n",
       "    <tr>\n",
       "      <th>1</th>\n",
       "      <td>1</td>\n",
       "      <td>342</td>\n",
       "      <td>0.440154</td>\n",
       "    </tr>\n",
       "    <tr>\n",
       "      <th>2</th>\n",
       "      <td>2</td>\n",
       "      <td>142</td>\n",
       "      <td>0.182754</td>\n",
       "    </tr>\n",
       "    <tr>\n",
       "      <th>3</th>\n",
       "      <td>3</td>\n",
       "      <td>72</td>\n",
       "      <td>0.092664</td>\n",
       "    </tr>\n",
       "    <tr>\n",
       "      <th>4</th>\n",
       "      <td>4</td>\n",
       "      <td>39</td>\n",
       "      <td>0.050193</td>\n",
       "    </tr>\n",
       "    <tr>\n",
       "      <th>5</th>\n",
       "      <td>5</td>\n",
       "      <td>20</td>\n",
       "      <td>0.025740</td>\n",
       "    </tr>\n",
       "    <tr>\n",
       "      <th>6</th>\n",
       "      <td>6</td>\n",
       "      <td>6</td>\n",
       "      <td>0.007722</td>\n",
       "    </tr>\n",
       "    <tr>\n",
       "      <th>7</th>\n",
       "      <td>7</td>\n",
       "      <td>9</td>\n",
       "      <td>0.011583</td>\n",
       "    </tr>\n",
       "    <tr>\n",
       "      <th>8</th>\n",
       "      <td>8</td>\n",
       "      <td>2</td>\n",
       "      <td>0.002574</td>\n",
       "    </tr>\n",
       "    <tr>\n",
       "      <th>9</th>\n",
       "      <td>9</td>\n",
       "      <td>1</td>\n",
       "      <td>0.001287</td>\n",
       "    </tr>\n",
       "  </tbody>\n",
       "</table>\n",
       "</div>"
      ],
      "text/plain": [
       "   number_of_subs  freq  relative_freq\n",
       "0               0   144       0.185328\n",
       "1               1   342       0.440154\n",
       "2               2   142       0.182754\n",
       "3               3    72       0.092664\n",
       "4               4    39       0.050193\n",
       "5               5    20       0.025740\n",
       "6               6     6       0.007722\n",
       "7               7     9       0.011583\n",
       "8               8     2       0.002574\n",
       "9               9     1       0.001287"
      ]
     },
     "execution_count": 110,
     "metadata": {},
     "output_type": "execute_result"
    }
   ],
   "source": [
    "additive_substances"
   ]
  },
  {
   "cell_type": "code",
   "execution_count": 111,
   "metadata": {},
   "outputs": [],
   "source": [
    "additive_substances['cumu_freq'] = additive_substances['relative_freq'].cumsum()"
   ]
  },
  {
   "cell_type": "code",
   "execution_count": 112,
   "metadata": {},
   "outputs": [
    {
     "data": {
      "text/html": [
       "<div>\n",
       "<style scoped>\n",
       "    .dataframe tbody tr th:only-of-type {\n",
       "        vertical-align: middle;\n",
       "    }\n",
       "\n",
       "    .dataframe tbody tr th {\n",
       "        vertical-align: top;\n",
       "    }\n",
       "\n",
       "    .dataframe thead th {\n",
       "        text-align: right;\n",
       "    }\n",
       "</style>\n",
       "<table border=\"1\" class=\"dataframe\">\n",
       "  <thead>\n",
       "    <tr style=\"text-align: right;\">\n",
       "      <th></th>\n",
       "      <th>number_of_subs</th>\n",
       "      <th>freq</th>\n",
       "      <th>relative_freq</th>\n",
       "      <th>cumu_freq</th>\n",
       "    </tr>\n",
       "  </thead>\n",
       "  <tbody>\n",
       "    <tr>\n",
       "      <th>0</th>\n",
       "      <td>0</td>\n",
       "      <td>144</td>\n",
       "      <td>0.185328</td>\n",
       "      <td>0.185328</td>\n",
       "    </tr>\n",
       "    <tr>\n",
       "      <th>1</th>\n",
       "      <td>1</td>\n",
       "      <td>342</td>\n",
       "      <td>0.440154</td>\n",
       "      <td>0.625483</td>\n",
       "    </tr>\n",
       "    <tr>\n",
       "      <th>2</th>\n",
       "      <td>2</td>\n",
       "      <td>142</td>\n",
       "      <td>0.182754</td>\n",
       "      <td>0.808237</td>\n",
       "    </tr>\n",
       "    <tr>\n",
       "      <th>3</th>\n",
       "      <td>3</td>\n",
       "      <td>72</td>\n",
       "      <td>0.092664</td>\n",
       "      <td>0.900901</td>\n",
       "    </tr>\n",
       "    <tr>\n",
       "      <th>4</th>\n",
       "      <td>4</td>\n",
       "      <td>39</td>\n",
       "      <td>0.050193</td>\n",
       "      <td>0.951094</td>\n",
       "    </tr>\n",
       "    <tr>\n",
       "      <th>5</th>\n",
       "      <td>5</td>\n",
       "      <td>20</td>\n",
       "      <td>0.025740</td>\n",
       "      <td>0.976834</td>\n",
       "    </tr>\n",
       "    <tr>\n",
       "      <th>6</th>\n",
       "      <td>6</td>\n",
       "      <td>6</td>\n",
       "      <td>0.007722</td>\n",
       "      <td>0.984556</td>\n",
       "    </tr>\n",
       "    <tr>\n",
       "      <th>7</th>\n",
       "      <td>7</td>\n",
       "      <td>9</td>\n",
       "      <td>0.011583</td>\n",
       "      <td>0.996139</td>\n",
       "    </tr>\n",
       "    <tr>\n",
       "      <th>8</th>\n",
       "      <td>8</td>\n",
       "      <td>2</td>\n",
       "      <td>0.002574</td>\n",
       "      <td>0.998713</td>\n",
       "    </tr>\n",
       "    <tr>\n",
       "      <th>9</th>\n",
       "      <td>9</td>\n",
       "      <td>1</td>\n",
       "      <td>0.001287</td>\n",
       "      <td>1.000000</td>\n",
       "    </tr>\n",
       "  </tbody>\n",
       "</table>\n",
       "</div>"
      ],
      "text/plain": [
       "   number_of_subs  freq  relative_freq  cumu_freq\n",
       "0               0   144       0.185328   0.185328\n",
       "1               1   342       0.440154   0.625483\n",
       "2               2   142       0.182754   0.808237\n",
       "3               3    72       0.092664   0.900901\n",
       "4               4    39       0.050193   0.951094\n",
       "5               5    20       0.025740   0.976834\n",
       "6               6     6       0.007722   0.984556\n",
       "7               7     9       0.011583   0.996139\n",
       "8               8     2       0.002574   0.998713\n",
       "9               9     1       0.001287   1.000000"
      ]
     },
     "execution_count": 112,
     "metadata": {},
     "output_type": "execute_result"
    }
   ],
   "source": [
    "additive_substances"
   ]
  },
  {
   "cell_type": "code",
   "execution_count": 113,
   "metadata": {},
   "outputs": [],
   "source": [
    "additive_substances['x.p(x)'] = additive_substances['number_of_subs'] * additive_substances['relative_freq']"
   ]
  },
  {
   "cell_type": "code",
   "execution_count": 114,
   "metadata": {},
   "outputs": [
    {
     "data": {
      "text/html": [
       "<div>\n",
       "<style scoped>\n",
       "    .dataframe tbody tr th:only-of-type {\n",
       "        vertical-align: middle;\n",
       "    }\n",
       "\n",
       "    .dataframe tbody tr th {\n",
       "        vertical-align: top;\n",
       "    }\n",
       "\n",
       "    .dataframe thead th {\n",
       "        text-align: right;\n",
       "    }\n",
       "</style>\n",
       "<table border=\"1\" class=\"dataframe\">\n",
       "  <thead>\n",
       "    <tr style=\"text-align: right;\">\n",
       "      <th></th>\n",
       "      <th>number_of_subs</th>\n",
       "      <th>freq</th>\n",
       "      <th>relative_freq</th>\n",
       "      <th>cumu_freq</th>\n",
       "      <th>x.p(x)</th>\n",
       "    </tr>\n",
       "  </thead>\n",
       "  <tbody>\n",
       "    <tr>\n",
       "      <th>0</th>\n",
       "      <td>0</td>\n",
       "      <td>144</td>\n",
       "      <td>0.185328</td>\n",
       "      <td>0.185328</td>\n",
       "      <td>0.000000</td>\n",
       "    </tr>\n",
       "    <tr>\n",
       "      <th>1</th>\n",
       "      <td>1</td>\n",
       "      <td>342</td>\n",
       "      <td>0.440154</td>\n",
       "      <td>0.625483</td>\n",
       "      <td>0.440154</td>\n",
       "    </tr>\n",
       "    <tr>\n",
       "      <th>2</th>\n",
       "      <td>2</td>\n",
       "      <td>142</td>\n",
       "      <td>0.182754</td>\n",
       "      <td>0.808237</td>\n",
       "      <td>0.365508</td>\n",
       "    </tr>\n",
       "    <tr>\n",
       "      <th>3</th>\n",
       "      <td>3</td>\n",
       "      <td>72</td>\n",
       "      <td>0.092664</td>\n",
       "      <td>0.900901</td>\n",
       "      <td>0.277992</td>\n",
       "    </tr>\n",
       "    <tr>\n",
       "      <th>4</th>\n",
       "      <td>4</td>\n",
       "      <td>39</td>\n",
       "      <td>0.050193</td>\n",
       "      <td>0.951094</td>\n",
       "      <td>0.200772</td>\n",
       "    </tr>\n",
       "    <tr>\n",
       "      <th>5</th>\n",
       "      <td>5</td>\n",
       "      <td>20</td>\n",
       "      <td>0.025740</td>\n",
       "      <td>0.976834</td>\n",
       "      <td>0.128700</td>\n",
       "    </tr>\n",
       "    <tr>\n",
       "      <th>6</th>\n",
       "      <td>6</td>\n",
       "      <td>6</td>\n",
       "      <td>0.007722</td>\n",
       "      <td>0.984556</td>\n",
       "      <td>0.046332</td>\n",
       "    </tr>\n",
       "    <tr>\n",
       "      <th>7</th>\n",
       "      <td>7</td>\n",
       "      <td>9</td>\n",
       "      <td>0.011583</td>\n",
       "      <td>0.996139</td>\n",
       "      <td>0.081081</td>\n",
       "    </tr>\n",
       "    <tr>\n",
       "      <th>8</th>\n",
       "      <td>8</td>\n",
       "      <td>2</td>\n",
       "      <td>0.002574</td>\n",
       "      <td>0.998713</td>\n",
       "      <td>0.020592</td>\n",
       "    </tr>\n",
       "    <tr>\n",
       "      <th>9</th>\n",
       "      <td>9</td>\n",
       "      <td>1</td>\n",
       "      <td>0.001287</td>\n",
       "      <td>1.000000</td>\n",
       "      <td>0.011583</td>\n",
       "    </tr>\n",
       "  </tbody>\n",
       "</table>\n",
       "</div>"
      ],
      "text/plain": [
       "   number_of_subs  freq  relative_freq  cumu_freq    x.p(x)\n",
       "0               0   144       0.185328   0.185328  0.000000\n",
       "1               1   342       0.440154   0.625483  0.440154\n",
       "2               2   142       0.182754   0.808237  0.365508\n",
       "3               3    72       0.092664   0.900901  0.277992\n",
       "4               4    39       0.050193   0.951094  0.200772\n",
       "5               5    20       0.025740   0.976834  0.128700\n",
       "6               6     6       0.007722   0.984556  0.046332\n",
       "7               7     9       0.011583   0.996139  0.081081\n",
       "8               8     2       0.002574   0.998713  0.020592\n",
       "9               9     1       0.001287   1.000000  0.011583"
      ]
     },
     "execution_count": 114,
     "metadata": {},
     "output_type": "execute_result"
    }
   ],
   "source": [
    "additive_substances"
   ]
  },
  {
   "cell_type": "code",
   "execution_count": 115,
   "metadata": {},
   "outputs": [
    {
     "data": {
      "text/plain": [
       "1.5727155727155726"
      ]
     },
     "execution_count": 115,
     "metadata": {},
     "output_type": "execute_result"
    }
   ],
   "source": [
    "additive_substances_mean = additive_substances['x.p(x)'].sum()\n",
    "additive_substances_mean"
   ]
  },
  {
   "cell_type": "code",
   "execution_count": 116,
   "metadata": {},
   "outputs": [],
   "source": [
    "additive_substances['((x-mean)^2).p(x)'] = ((additive_substances['number_of_subs']-additive_substances_mean)**2)*additive_substances['relative_freq']"
   ]
  },
  {
   "cell_type": "code",
   "execution_count": 117,
   "metadata": {},
   "outputs": [
    {
     "data": {
      "text/html": [
       "<div>\n",
       "<style scoped>\n",
       "    .dataframe tbody tr th:only-of-type {\n",
       "        vertical-align: middle;\n",
       "    }\n",
       "\n",
       "    .dataframe tbody tr th {\n",
       "        vertical-align: top;\n",
       "    }\n",
       "\n",
       "    .dataframe thead th {\n",
       "        text-align: right;\n",
       "    }\n",
       "</style>\n",
       "<table border=\"1\" class=\"dataframe\">\n",
       "  <thead>\n",
       "    <tr style=\"text-align: right;\">\n",
       "      <th></th>\n",
       "      <th>number_of_subs</th>\n",
       "      <th>freq</th>\n",
       "      <th>relative_freq</th>\n",
       "      <th>cumu_freq</th>\n",
       "      <th>x.p(x)</th>\n",
       "      <th>((x-mean)^2).p(x)</th>\n",
       "    </tr>\n",
       "  </thead>\n",
       "  <tbody>\n",
       "    <tr>\n",
       "      <th>0</th>\n",
       "      <td>0</td>\n",
       "      <td>144</td>\n",
       "      <td>0.185328</td>\n",
       "      <td>0.185328</td>\n",
       "      <td>0.000000</td>\n",
       "      <td>0.458397</td>\n",
       "    </tr>\n",
       "    <tr>\n",
       "      <th>1</th>\n",
       "      <td>1</td>\n",
       "      <td>342</td>\n",
       "      <td>0.440154</td>\n",
       "      <td>0.625483</td>\n",
       "      <td>0.440154</td>\n",
       "      <td>0.144372</td>\n",
       "    </tr>\n",
       "    <tr>\n",
       "      <th>2</th>\n",
       "      <td>2</td>\n",
       "      <td>142</td>\n",
       "      <td>0.182754</td>\n",
       "      <td>0.808237</td>\n",
       "      <td>0.365508</td>\n",
       "      <td>0.033366</td>\n",
       "    </tr>\n",
       "    <tr>\n",
       "      <th>3</th>\n",
       "      <td>3</td>\n",
       "      <td>72</td>\n",
       "      <td>0.092664</td>\n",
       "      <td>0.900901</td>\n",
       "      <td>0.277992</td>\n",
       "      <td>0.188770</td>\n",
       "    </tr>\n",
       "    <tr>\n",
       "      <th>4</th>\n",
       "      <td>4</td>\n",
       "      <td>39</td>\n",
       "      <td>0.050193</td>\n",
       "      <td>0.951094</td>\n",
       "      <td>0.200772</td>\n",
       "      <td>0.295723</td>\n",
       "    </tr>\n",
       "    <tr>\n",
       "      <th>5</th>\n",
       "      <td>5</td>\n",
       "      <td>20</td>\n",
       "      <td>0.025740</td>\n",
       "      <td>0.976834</td>\n",
       "      <td>0.128700</td>\n",
       "      <td>0.302350</td>\n",
       "    </tr>\n",
       "    <tr>\n",
       "      <th>6</th>\n",
       "      <td>6</td>\n",
       "      <td>6</td>\n",
       "      <td>0.007722</td>\n",
       "      <td>0.984556</td>\n",
       "      <td>0.046332</td>\n",
       "      <td>0.151358</td>\n",
       "    </tr>\n",
       "    <tr>\n",
       "      <th>7</th>\n",
       "      <td>7</td>\n",
       "      <td>9</td>\n",
       "      <td>0.011583</td>\n",
       "      <td>0.996139</td>\n",
       "      <td>0.081081</td>\n",
       "      <td>0.341182</td>\n",
       "    </tr>\n",
       "    <tr>\n",
       "      <th>8</th>\n",
       "      <td>8</td>\n",
       "      <td>2</td>\n",
       "      <td>0.002574</td>\n",
       "      <td>0.998713</td>\n",
       "      <td>0.020592</td>\n",
       "      <td>0.106332</td>\n",
       "    </tr>\n",
       "    <tr>\n",
       "      <th>9</th>\n",
       "      <td>9</td>\n",
       "      <td>1</td>\n",
       "      <td>0.001287</td>\n",
       "      <td>1.000000</td>\n",
       "      <td>0.011583</td>\n",
       "      <td>0.070997</td>\n",
       "    </tr>\n",
       "  </tbody>\n",
       "</table>\n",
       "</div>"
      ],
      "text/plain": [
       "   number_of_subs  freq  relative_freq  cumu_freq    x.p(x)  ((x-mean)^2).p(x)\n",
       "0               0   144       0.185328   0.185328  0.000000           0.458397\n",
       "1               1   342       0.440154   0.625483  0.440154           0.144372\n",
       "2               2   142       0.182754   0.808237  0.365508           0.033366\n",
       "3               3    72       0.092664   0.900901  0.277992           0.188770\n",
       "4               4    39       0.050193   0.951094  0.200772           0.295723\n",
       "5               5    20       0.025740   0.976834  0.128700           0.302350\n",
       "6               6     6       0.007722   0.984556  0.046332           0.151358\n",
       "7               7     9       0.011583   0.996139  0.081081           0.341182\n",
       "8               8     2       0.002574   0.998713  0.020592           0.106332\n",
       "9               9     1       0.001287   1.000000  0.011583           0.070997"
      ]
     },
     "execution_count": 117,
     "metadata": {},
     "output_type": "execute_result"
    }
   ],
   "source": [
    "additive_substances"
   ]
  },
  {
   "cell_type": "code",
   "execution_count": 118,
   "metadata": {},
   "outputs": [],
   "source": [
    "additive_substances_var = additive_substances['((x-mean)^2).p(x)'].sum()"
   ]
  },
  {
   "cell_type": "code",
   "execution_count": 119,
   "metadata": {},
   "outputs": [
    {
     "data": {
      "text/plain": [
       "2.0928462936184946"
      ]
     },
     "execution_count": 119,
     "metadata": {},
     "output_type": "execute_result"
    }
   ],
   "source": [
    "additive_substances_var"
   ]
  },
  {
   "cell_type": "code",
   "execution_count": 120,
   "metadata": {},
   "outputs": [],
   "source": [
    "additive_substances_stddev = np.sqrt(additive_substances_var)"
   ]
  },
  {
   "cell_type": "code",
   "execution_count": 121,
   "metadata": {},
   "outputs": [
    {
     "data": {
      "text/plain": [
       "1.4466673057819806"
      ]
     },
     "execution_count": 121,
     "metadata": {},
     "output_type": "execute_result"
    }
   ],
   "source": [
    "additive_substances_stddev"
   ]
  }
 ],
 "metadata": {
  "kernelspec": {
   "display_name": "Python 3",
   "language": "python",
   "name": "python3"
  },
  "language_info": {
   "codemirror_mode": {
    "name": "ipython",
    "version": 3
   },
   "file_extension": ".py",
   "mimetype": "text/x-python",
   "name": "python",
   "nbconvert_exporter": "python",
   "pygments_lexer": "ipython3",
   "version": "3.7.3"
  }
 },
 "nbformat": 4,
 "nbformat_minor": 4
}
